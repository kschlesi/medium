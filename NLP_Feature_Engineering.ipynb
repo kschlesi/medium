{
 "cells": [
  {
   "cell_type": "markdown",
   "metadata": {},
   "source": [
    "<h3>NLP Feature Engineering</h3>"
   ]
  },
  {
   "cell_type": "markdown",
   "metadata": {},
   "source": [
    "I have streamlined the analysis with the NLP pipeline included in `NLP.py`. By creating an `NLModeler`, I can read in unstructured text, apply preprocessing, create a dictionary and a full corpus, and utilize tf-idf and topic modeling. The features calculated from these models will be explored, and combined with those already included in the `articles` and `sentences` tables in the `medium` database, and combined into a useful model."
   ]
  },
  {
   "cell_type": "markdown",
   "metadata": {},
   "source": [
    "<b>Goals:</b>\n",
    "<ol>\n",
    "<li>Read in `articles` and `sentences` dbs.</li>\n",
    "<li>Use an NLModeler to create chained tf-idf and lsa models.</li>\n",
    "<li>Calculate the mean tf-idf per sentence.</li>\n",
    "<li>Plot the distribution of stfidf by highlight label.</li>\n",
    "<li>Plot a scatter of stfidf versus other potential features.</li>\n",
    "<li>Calculate the similarity in LSA space of each sentence to its own article.</li>\n",
    "</ol>"
   ]
  },
  {
   "cell_type": "code",
   "execution_count": 1,
   "metadata": {
    "collapsed": true
   },
   "outputs": [],
   "source": [
    "# import libraries\n",
    "\n",
    "import pandas as pd\n",
    "import numpy as np\n",
    "from sqlalchemy import create_engine\n",
    "from sqlalchemy_utils import database_exists, create_database\n",
    "import psycopg2\n",
    "import NLP\n",
    "from matplotlib import pyplot as plt\n",
    "import random\n",
    "import math\n",
    "from sklearn import linear_model, metrics, ensemble\n",
    "import pickle"
   ]
  },
  {
   "cell_type": "markdown",
   "metadata": {},
   "source": [
    "<h4>1. Read in articles and sentences dbs.</h4>"
   ]
  },
  {
   "cell_type": "code",
   "execution_count": 2,
   "metadata": {
    "collapsed": true
   },
   "outputs": [],
   "source": [
    "# connect to postgresql db\n",
    "username = 'kimberly'\n",
    "dbname = 'medium'\n",
    "\n",
    "dbe = create_engine('postgres://%s@localhost/%s'%(username,dbname))"
   ]
  },
  {
   "cell_type": "code",
   "execution_count": 3,
   "metadata": {
    "collapsed": true
   },
   "outputs": [],
   "source": [
    "# get articles df, drop missing data\n",
    "dfA = pd.read_sql('articles', dbe, index_col='postid')\n",
    "dfA = dfA.dropna(axis=0,how='any')\n",
    "#print(dfA.shape)\n",
    "#dfA.head()"
   ]
  },
  {
   "cell_type": "code",
   "execution_count": 4,
   "metadata": {
    "collapsed": true
   },
   "outputs": [],
   "source": [
    "# get sentences df\n",
    "dfS = pd.read_sql('sentences', dbe, index_col='level_0')\n",
    "#print(dfS.shape)\n",
    "#dfS.head()"
   ]
  },
  {
   "cell_type": "code",
   "execution_count": 13,
   "metadata": {
    "collapsed": true
   },
   "outputs": [],
   "source": [
    "pkl_file = open('sentence_lsa.pkl', 'rb')\n",
    "dfLsa = pickle.load(pkl_file)\n",
    "pkl_file.close()  \n",
    "    \n",
    "# for ax,pid in enumerate(dfA.index):\n",
    "#     if ax<1:\n",
    "# #        print(ax)\n",
    "# #        print(pid)\n",
    "# #        print(len(dfS.postid==pid))\n",
    "# #        print(dfS.postid==pid)\n",
    "#         print(dfLsa.loc[dfS.postid==pid])"
   ]
  },
  {
   "cell_type": "code",
   "execution_count": 22,
   "metadata": {},
   "outputs": [
    {
     "data": {
      "text/plain": [
       "301.93888888888887"
      ]
     },
     "execution_count": 22,
     "metadata": {},
     "output_type": "execute_result"
    }
   ],
   "source": [
    "#dfSt = dfS.iloc[0:10]\n",
    "#dfLt = dfLsa[0][0]\n",
    "#print(dfSt)\n",
    "#print(len(dfLt))\n",
    "2.5*434792/60/60"
   ]
  },
  {
   "cell_type": "markdown",
   "metadata": {},
   "source": [
    "<h4>2. Use an NLModeler to create chained tf-idf and lsa models.</h4>"
   ]
  },
  {
   "cell_type": "code",
   "execution_count": 5,
   "metadata": {
    "collapsed": true
   },
   "outputs": [],
   "source": [
    "mText = NLP.NLModeler(list(dfA.text))\n",
    "#print(mText)"
   ]
  },
  {
   "cell_type": "code",
   "execution_count": 6,
   "metadata": {},
   "outputs": [],
   "source": [
    "mText.process_text(break_on=['.'], init_split_on='database', origdb=list(dfA.origdb))\n",
    "#dfP = mText.get_text(ttype='tokenized',output_type='dataframe')\n",
    "#print(dfP.shape)\n",
    "#dfP.head()\n",
    "#dfP = []"
   ]
  },
  {
   "cell_type": "code",
   "execution_count": 7,
   "metadata": {
    "collapsed": true
   },
   "outputs": [],
   "source": [
    "mText.make_dictionary()\n",
    "mText.load_corpus('alldoc_corpus.mm')\n",
    "mText.make_ddiv_corpus()\n",
    "mText.make_tfidf()\n",
    "mText.make_lsa()\n",
    "mscorp = mText.ddiv_corpus\n",
    "mtfidf = mText.tfidf"
   ]
  },
  {
   "cell_type": "markdown",
   "metadata": {},
   "source": [
    "Now, we test the ability to load a new vector (`\"new sentence\"`), process it with the `quick_input` option, and represent it native BOW space and in tfidf space."
   ]
  },
  {
   "cell_type": "code",
   "execution_count": 1,
   "metadata": {
    "collapsed": true
   },
   "outputs": [],
   "source": [
    "#new_vec = NLP.NLProcessor(['new sentence'],quick_input=True)\n",
    "#new_vec.process_text(break_on=['.'],init_split_on=None)\n",
    "#new_vec.flatten_text()\n",
    "#ntext = new_vec.get_text(ttype='flat')\n",
    "#mdict = mText.get_dictionary()\n",
    "#print(ntext[0])\n",
    "#print(mdict.doc2bow(ntext[0]))\n",
    "#print(mtfidf[mdict.doc2bow(ntext[0])])"
   ]
  },
  {
   "cell_type": "markdown",
   "metadata": {},
   "source": [
    "<b>3. Calculate the mean tf-idf per sentence.</b>"
   ]
  },
  {
   "cell_type": "code",
   "execution_count": 12,
   "metadata": {},
   "outputs": [
    {
     "name": "stderr",
     "output_type": "stream",
     "text": [
      "/Users/kimberly/anaconda3/envs/insight_env/lib/python3.6/site-packages/numpy/core/fromnumeric.py:2909: RuntimeWarning: Mean of empty slice.\n",
      "  out=out, **kwargs)\n",
      "/Users/kimberly/anaconda3/envs/insight_env/lib/python3.6/site-packages/numpy/core/_methods.py:80: RuntimeWarning: invalid value encountered in double_scalars\n",
      "  ret = ret.dtype.type(ret / rcount)\n"
     ]
    },
    {
     "name": "stdout",
     "output_type": "stream",
     "text": [
      "434792\n",
      "0.707063742336\n"
     ]
    }
   ],
   "source": [
    "sentence_tfidf = mtfidf[mscorp]\n",
    "stfidf = []\n",
    "for sent_rep in sentence_tfidf:\n",
    "    stfidf.append( np.mean([wr[1] for wr in sent_rep]) )\n",
    "print(len(stfidf))\n",
    "print(stfidf[0])"
   ]
  },
  {
   "cell_type": "code",
   "execution_count": 13,
   "metadata": {},
   "outputs": [
    {
     "name": "stdout",
     "output_type": "stream",
     "text": [
      "0.707063742336\n"
     ]
    }
   ],
   "source": [
    "print(stfidf[0])"
   ]
  },
  {
   "cell_type": "code",
   "execution_count": 12,
   "metadata": {
    "collapsed": true
   },
   "outputs": [],
   "source": [
    "# add stfidf to dfS\n",
    "dfS['stfidf'] = stfidf\n",
    "#dfS.head()"
   ]
  },
  {
   "cell_type": "code",
   "execution_count": 13,
   "metadata": {
    "collapsed": true
   },
   "outputs": [],
   "source": [
    "# save stfidf in a pickle\n",
    "import pickle\n",
    "output = open('stfidf.pkl', 'wb')\n",
    "pickle.dump(stfidf, output)\n",
    "output.close()"
   ]
  },
  {
   "cell_type": "code",
   "execution_count": 10,
   "metadata": {},
   "outputs": [
    {
     "name": "stdout",
     "output_type": "stream",
     "text": [
      "434792\n",
      "0.71486529822\n"
     ]
    }
   ],
   "source": [
    "# calculate MAX tfidf\n",
    "sentence_tfidf = mtfidf[mscorp]\n",
    "maxtfidf = []\n",
    "for sent_rep in sentence_tfidf:\n",
    "    try:\n",
    "        maxtfidf.append( np.max([wr[1] for wr in sent_rep]) )\n",
    "    except:\n",
    "        maxtfidf.append( None )\n",
    "print(len(maxtfidf))\n",
    "print(maxtfidf[0])"
   ]
  },
  {
   "cell_type": "code",
   "execution_count": 14,
   "metadata": {
    "collapsed": true
   },
   "outputs": [],
   "source": [
    "# save maxtfidf in a pickle\n",
    "import pickle\n",
    "with open('maxtfidf.pkl', 'wb') as output:\n",
    "    pickle.dump(maxtfidf, output)\n"
   ]
  },
  {
   "cell_type": "code",
   "execution_count": 16,
   "metadata": {},
   "outputs": [
    {
     "data": {
      "image/png": "[encoded data removed]",
      "text/plain": [
       "<matplotlib.figure.Figure at 0x141a28780>"
      ]
     },
     "metadata": {},
     "output_type": "display_data"
    }
   ],
   "source": [
    "plt.figure();\n",
    "plt.plot(x=stfidf,y=maxtfidf,color='red')\n",
    "plt.show()"
   ]
  },
  {
   "cell_type": "markdown",
   "metadata": {},
   "source": [
    "<b>4. Plot the distribution of tf-idf by sentence label.</b>"
   ]
  },
  {
   "cell_type": "code",
   "execution_count": 2,
   "metadata": {
    "collapsed": true
   },
   "outputs": [],
   "source": [
    "# histogram of tf-idf by label\n",
    "#plt.figure();\n",
    "#dfS['stfidf'].hist(by=dfS.slabel, bins=50)\n",
    "#plt.show()\n"
   ]
  },
  {
   "cell_type": "markdown",
   "metadata": {},
   "source": [
    "There is not really any difference here. What about LSA self-article similarity?"
   ]
  },
  {
   "cell_type": "markdown",
   "metadata": {},
   "source": [
    "<b>5. Calculate the similarity in LSA space of each sentence to its own article.</b>"
   ]
  },
  {
   "cell_type": "code",
   "execution_count": 13,
   "metadata": {
    "collapsed": true
   },
   "outputs": [],
   "source": [
    "# get LSA model and LSA sentence corpus\n",
    "lsa = mText.lsa\n",
    "\n"
   ]
  },
  {
   "cell_type": "code",
   "execution_count": 14,
   "metadata": {
    "collapsed": true
   },
   "outputs": [],
   "source": [
    "sentence_lsa = lsa[sentence_tfidf]\n"
   ]
  },
  {
   "cell_type": "code",
   "execution_count": null,
   "metadata": {
    "collapsed": true
   },
   "outputs": [],
   "source": []
  },
  {
   "cell_type": "code",
   "execution_count": 16,
   "metadata": {
    "collapsed": true
   },
   "outputs": [],
   "source": [
    "# save sentence_lsa in a pickle\n",
    "import pickle\n",
    "output = open('sentence_lsa.pkl', 'wb')\n",
    "pickle.dump(sentence_lsa, output)\n",
    "output.close()"
   ]
  },
  {
   "cell_type": "code",
   "execution_count": 20,
   "metadata": {},
   "outputs": [
    {
     "data": {
      "text/plain": [
       "[(0,\n",
       "  '0.098*\"design\" + 0.082*\"life\" + 0.079*\"book\" + 0.077*\"user\" + 0.075*\"product\" + 0.074*\"compani\" + 0.070*\"learn\" + 0.068*\"success\" + 0.066*\"app\" + 0.065*\"busi\"'),\n",
       " (1,\n",
       "  '-0.322*\"user\" + -0.306*\"design\" + 0.237*\"trump\" + -0.219*\"app\" + -0.138*\"ux\" + -0.114*\"code\" + -0.104*\"ui\" + 0.101*\"women\" + 0.096*\"presid\" + -0.095*\"product\"'),\n",
       " (2,\n",
       "  '0.407*\"trump\" + 0.165*\"user\" + 0.150*\"clinton\" + 0.150*\"presid\" + 0.143*\"vote\" + 0.134*\"elect\" + 0.132*\"hillari\" + 0.117*\"design\" + -0.111*\"book\" + 0.109*\"women\"'),\n",
       " (3,\n",
       "  '0.575*\"que\" + 0.395*\"de\" + 0.253*\"não\" + 0.230*\"é\" + 0.217*\"e\" + 0.149*\"da\" + 0.148*\"um\" + 0.143*\"uma\" + 0.140*\"para\" + 0.121*\"se\"'),\n",
       " (4,\n",
       "  '0.275*\"creatom\" + 0.238*\"jon\" + 0.177*\"startup\" + 0.174*\"compani\" + 0.168*\"agenc\" + -0.138*\"habit\" + 0.127*\"market\" + 0.127*\"gl\" + 0.127*\"goo\" + 0.123*\"westenberg\"')]"
      ]
     },
     "execution_count": 20,
     "metadata": {},
     "output_type": "execute_result"
    }
   ],
   "source": [
    "lsa.print_topics(5)"
   ]
  },
  {
   "cell_type": "code",
   "execution_count": 21,
   "metadata": {
    "collapsed": true
   },
   "outputs": [],
   "source": [
    "# calculate similarity of each sentence to own article\n",
    "\n",
    "# we set up for similarity queries \n",
    "corpus_lsa = mText.get_corpus(ctype='lsa')\n",
    "from gensim import similarities\n",
    "sim_index = similarities.Similarity('.',corpus_lsa,num_features = 200)"
   ]
  },
  {
   "cell_type": "code",
   "execution_count": 22,
   "metadata": {
    "collapsed": true
   },
   "outputs": [],
   "source": [
    "def sentence_own_sim(sent_reps,index,docpos):\n",
    "    '''finds similarity of ddivs (ddiv_list is list fo sents with same doc) to own doc'''\n",
    "    sims = index[list(sent_reps)]\n",
    "    sims = [s[docpos] for s in sims]\n",
    "    return sims"
   ]
  },
  {
   "cell_type": "markdown",
   "metadata": {},
   "source": [
    "I have now outsourced this to calculate_lsa_sims.py. Pivoting to downsampling..."
   ]
  },
  {
   "cell_type": "markdown",
   "metadata": {
    "collapsed": true
   },
   "source": [
    "<b>Balancing Data.</b>"
   ]
  },
  {
   "cell_type": "markdown",
   "metadata": {},
   "source": [
    "<b>First try</b>: randomly choosing a number of False examples that is 3 times the number of True examples."
   ]
  },
  {
   "cell_type": "code",
   "execution_count": 5,
   "metadata": {},
   "outputs": [
    {
     "name": "stdout",
     "output_type": "stream",
     "text": [
      "(434792, 7)\n"
     ]
    },
    {
     "data": {
      "text/html": [
       "<div>\n",
       "<style>\n",
       "    .dataframe thead tr:only-child th {\n",
       "        text-align: right;\n",
       "    }\n",
       "\n",
       "    .dataframe thead th {\n",
       "        text-align: left;\n",
       "    }\n",
       "\n",
       "    .dataframe tbody tr th {\n",
       "        vertical-align: top;\n",
       "    }\n",
       "</style>\n",
       "<table border=\"1\" class=\"dataframe\">\n",
       "  <thead>\n",
       "    <tr style=\"text-align: right;\">\n",
       "      <th></th>\n",
       "      <th>alength</th>\n",
       "      <th>index</th>\n",
       "      <th>postid</th>\n",
       "      <th>sentence</th>\n",
       "      <th>slabel</th>\n",
       "      <th>sposition</th>\n",
       "      <th>swcount</th>\n",
       "    </tr>\n",
       "    <tr>\n",
       "      <th>level_0</th>\n",
       "      <th></th>\n",
       "      <th></th>\n",
       "      <th></th>\n",
       "      <th></th>\n",
       "      <th></th>\n",
       "      <th></th>\n",
       "      <th></th>\n",
       "    </tr>\n",
       "  </thead>\n",
       "  <tbody>\n",
       "    <tr>\n",
       "      <th>0</th>\n",
       "      <td>52</td>\n",
       "      <td>0.0</td>\n",
       "      <td>1015a0f4961d</td>\n",
       "      <td>{hola,desde,cuba}</td>\n",
       "      <td>False</td>\n",
       "      <td>0</td>\n",
       "      <td>3</td>\n",
       "    </tr>\n",
       "    <tr>\n",
       "      <th>1</th>\n",
       "      <td>52</td>\n",
       "      <td>0.0</td>\n",
       "      <td>1015a0f4961d</td>\n",
       "      <td>{today,air,force,one,touched,havana,first,time...</td>\n",
       "      <td>True</td>\n",
       "      <td>1</td>\n",
       "      <td>9</td>\n",
       "    </tr>\n",
       "    <tr>\n",
       "      <th>2</th>\n",
       "      <td>52</td>\n",
       "      <td>0.0</td>\n",
       "      <td>1015a0f4961d</td>\n",
       "      <td>{question,remarkable,moment,relationship,unite...</td>\n",
       "      <td>False</td>\n",
       "      <td>2</td>\n",
       "      <td>9</td>\n",
       "    </tr>\n",
       "    <tr>\n",
       "      <th>3</th>\n",
       "      <td>52</td>\n",
       "      <td>0.0</td>\n",
       "      <td>1015a0f4961d</td>\n",
       "      <td>{also,landmark,progress,made,since,president,o...</td>\n",
       "      <td>False</td>\n",
       "      <td>3</td>\n",
       "      <td>29</td>\n",
       "    </tr>\n",
       "    <tr>\n",
       "      <th>4</th>\n",
       "      <td>52</td>\n",
       "      <td>0.0</td>\n",
       "      <td>1015a0f4961d</td>\n",
       "      <td>{trip,also,professionally,personally,meaningfu...</td>\n",
       "      <td>False</td>\n",
       "      <td>4</td>\n",
       "      <td>19</td>\n",
       "    </tr>\n",
       "  </tbody>\n",
       "</table>\n",
       "</div>"
      ],
      "text/plain": [
       "         alength  index        postid  \\\n",
       "level_0                                 \n",
       "0             52    0.0  1015a0f4961d   \n",
       "1             52    0.0  1015a0f4961d   \n",
       "2             52    0.0  1015a0f4961d   \n",
       "3             52    0.0  1015a0f4961d   \n",
       "4             52    0.0  1015a0f4961d   \n",
       "\n",
       "                                                  sentence  slabel  sposition  \\\n",
       "level_0                                                                         \n",
       "0                                        {hola,desde,cuba}   False          0   \n",
       "1        {today,air,force,one,touched,havana,first,time...    True          1   \n",
       "2        {question,remarkable,moment,relationship,unite...   False          2   \n",
       "3        {also,landmark,progress,made,since,president,o...   False          3   \n",
       "4        {trip,also,professionally,personally,meaningfu...   False          4   \n",
       "\n",
       "         swcount  \n",
       "level_0           \n",
       "0              3  \n",
       "1              9  \n",
       "2              9  \n",
       "3             29  \n",
       "4             19  "
      ]
     },
     "execution_count": 5,
     "metadata": {},
     "output_type": "execute_result"
    }
   ],
   "source": [
    "print(dfS.shape)\n",
    "dfS.head()"
   ]
  },
  {
   "cell_type": "code",
   "execution_count": 6,
   "metadata": {},
   "outputs": [
    {
     "data": {
      "text/plain": [
       "430152"
      ]
     },
     "execution_count": 6,
     "metadata": {},
     "output_type": "execute_result"
    }
   ],
   "source": [
    "434792-4640"
   ]
  },
  {
   "cell_type": "code",
   "execution_count": 278,
   "metadata": {},
   "outputs": [
    {
     "name": "stdout",
     "output_type": "stream",
     "text": [
      "(5920, 8)\n",
      "(428872, 8)\n"
     ]
    }
   ],
   "source": [
    "dfS_True = dfS[dfS.slabel==True]\n",
    "dfS_False = dfS[dfS.slabel==False]\n",
    "print(dfS_True.shape)\n",
    "print(dfS_False.shape)"
   ]
  },
  {
   "cell_type": "code",
   "execution_count": 279,
   "metadata": {},
   "outputs": [
    {
     "name": "stdout",
     "output_type": "stream",
     "text": [
      "5920\n"
     ]
    }
   ],
   "source": [
    "number_false = dfS_True.shape[0]\n",
    "print(number_false)"
   ]
  },
  {
   "cell_type": "code",
   "execution_count": 280,
   "metadata": {
    "collapsed": true
   },
   "outputs": [],
   "source": [
    "false_indices = np.random.choice(dfS_False.shape[0], number_false, replace=False)\n",
    "\n",
    "#pkl_file = open('false_indices.pkl', 'rb')\n",
    "#false_indices = pickle.load(pkl_file)\n",
    "#pkl_file.close()"
   ]
  },
  {
   "cell_type": "code",
   "execution_count": 281,
   "metadata": {},
   "outputs": [
    {
     "name": "stdout",
     "output_type": "stream",
     "text": [
      "[365707 207130 155617 101374 322864  74705   8258  61529 216591 242845]\n"
     ]
    }
   ],
   "source": [
    "print(false_indices[0:10])"
   ]
  },
  {
   "cell_type": "code",
   "execution_count": 282,
   "metadata": {
    "collapsed": true
   },
   "outputs": [],
   "source": [
    "output = open('false_indices_exactbal.pkl', 'wb')\n",
    "pickle.dump(false_indices, output)\n",
    "output.close()"
   ]
  },
  {
   "cell_type": "code",
   "execution_count": 283,
   "metadata": {
    "collapsed": true
   },
   "outputs": [],
   "source": [
    "dfS_False_dsamp = dfS_False.iloc[false_indices]"
   ]
  },
  {
   "cell_type": "code",
   "execution_count": 284,
   "metadata": {
    "collapsed": true
   },
   "outputs": [],
   "source": [
    "dfS_True = dfS_True.drop(dfS_True[dfS_True.stfidf.isnull()].index)\n",
    "dfS_False_dsamp = dfS_False_dsamp.drop(dfS_False_dsamp[dfS_False_dsamp.stfidf.isnull()].index)"
   ]
  },
  {
   "cell_type": "code",
   "execution_count": 285,
   "metadata": {
    "collapsed": true
   },
   "outputs": [],
   "source": [
    "dfS_True['scalepos'] = dfS_True['sposition']/dfS_True['alength']\n",
    "dfS_False_dsamp['scalepos'] = dfS_False_dsamp['sposition']/dfS_False_dsamp['alength']"
   ]
  },
  {
   "cell_type": "markdown",
   "metadata": {},
   "source": [
    "<b>Now train a model with this...</b>"
   ]
  },
  {
   "cell_type": "code",
   "execution_count": 286,
   "metadata": {},
   "outputs": [
    {
     "name": "stdout",
     "output_type": "stream",
     "text": [
      "(4670, 9)\n",
      "(4673, 9)\n",
      "(9343, 9)\n",
      "(1168, 9)\n",
      "(1169, 9)\n",
      "(2337, 9)\n"
     ]
    }
   ],
   "source": [
    "# split training and test 80/20\n",
    "true_train_indices = np.random.choice(dfS_True.shape[0], \n",
    "                                      math.floor(dfS_True.shape[0]*0.8), replace=False)\n",
    "false_train_indices = np.random.choice(dfS_False_dsamp.shape[0], \n",
    "                                       math.floor(dfS_False_dsamp.shape[0]*0.8), replace=False)\n",
    "dfS_True_train = dfS_True.iloc[true_train_indices]\n",
    "dfS_False_dsamp_train = dfS_False_dsamp.iloc[false_train_indices]\n",
    "dfTrain_balanced = pd.concat([dfS_True_train,dfS_False_dsamp_train])\n",
    "print(dfS_True_train.shape)\n",
    "print(dfS_False_dsamp_train.shape)\n",
    "print(dfTrain_balanced.shape)\n",
    "\n",
    "true_test_indices = [x for x in range(dfS_True.shape[0]) if x not in true_train_indices]\n",
    "false_test_indices = [x for x in range(dfS_False_dsamp.shape[0]) if x not in false_train_indices]\n",
    "dfS_True_test = dfS_True.iloc[true_test_indices]\n",
    "dfS_False_dsamp_test = dfS_False_dsamp.iloc[false_test_indices]\n",
    "dfTest_balanced = pd.concat([dfS_True_test,dfS_False_dsamp_test])\n",
    "print(dfS_True_test.shape)\n",
    "print(dfS_False_dsamp_test.shape)\n",
    "print(dfTest_balanced.shape)"
   ]
  },
  {
   "cell_type": "code",
   "execution_count": null,
   "metadata": {
    "collapsed": true
   },
   "outputs": [],
   "source": []
  },
  {
   "cell_type": "code",
   "execution_count": 287,
   "metadata": {
    "collapsed": true
   },
   "outputs": [],
   "source": [
    "Ytrain = dfTrain_balanced['slabel'].astype('int')\n",
    "Xtrain = dfTrain_balanced[['sposition','swcount','stfidf','alength']]\n",
    "#Xtrain = dfTrain_balanced[['scalepos','swcount','stfidf']]\n",
    "Ytest = dfTest_balanced['slabel'].astype('int')\n",
    "#Xtest = dfTest_balanced[['scalepos','swcount','stfidf']]\n",
    "Xtest = dfTest_balanced[['sposition','swcount','stfidf','alength']]\n"
   ]
  },
  {
   "cell_type": "code",
   "execution_count": 247,
   "metadata": {},
   "outputs": [
    {
     "data": {
      "text/plain": [
       "LogisticRegression(C=1.0, class_weight={1: 0.25, 0: 0.75}, dual=False,\n",
       "          fit_intercept=True, intercept_scaling=1, max_iter=100,\n",
       "          multi_class='ovr', n_jobs=1, penalty='l2', random_state=None,\n",
       "          solver='liblinear', tol=0.0001, verbose=0, warm_start=False)"
      ]
     },
     "execution_count": 247,
     "metadata": {},
     "output_type": "execute_result"
    }
   ],
   "source": [
    "lrm = linear_model.LogisticRegression(class_weight={1: 0.25, 0: 0.75})\n",
    "lrm.fit(Xtrain,Ytrain)"
   ]
  },
  {
   "cell_type": "code",
   "execution_count": 248,
   "metadata": {},
   "outputs": [
    {
     "name": "stdout",
     "output_type": "stream",
     "text": [
      "0.749920458161 0.749920458161\n",
      "0.749682337992 0.749682337992\n"
     ]
    }
   ],
   "source": [
    "# test on the 2/3 of training set\n",
    "print(lrm.score(Xtrain,Ytrain), 1 - Ytrain.mean())\n",
    "\n",
    "# test on the other 1/3 of X, y\n",
    "print(lrm.score(Xtest,Ytest), 1 - Ytest.mean())"
   ]
  },
  {
   "cell_type": "code",
   "execution_count": 226,
   "metadata": {},
   "outputs": [
    {
     "data": {
      "text/plain": [
       "False"
      ]
     },
     "execution_count": 226,
     "metadata": {},
     "output_type": "execute_result"
    }
   ],
   "source": [
    "lrm.predict(Xtrain).any()\n",
    "lrm.predict(Xtest).any()"
   ]
  },
  {
   "cell_type": "markdown",
   "metadata": {},
   "source": [
    "Try a random forest..."
   ]
  },
  {
   "cell_type": "code",
   "execution_count": 288,
   "metadata": {},
   "outputs": [
    {
     "data": {
      "text/plain": [
       "RandomForestClassifier(bootstrap=True, class_weight=None, criterion='gini',\n",
       "            max_depth=None, max_features='auto', max_leaf_nodes=None,\n",
       "            min_impurity_split=1e-07, min_samples_leaf=1,\n",
       "            min_samples_split=2, min_weight_fraction_leaf=0.0,\n",
       "            n_estimators=500, n_jobs=1, oob_score=False, random_state=None,\n",
       "            verbose=0, warm_start=False)"
      ]
     },
     "execution_count": 288,
     "metadata": {},
     "output_type": "execute_result"
    }
   ],
   "source": [
    "rfm = ensemble.RandomForestClassifier(n_estimators=500, class_weight=None)\n",
    "rfm.fit(Xtrain,Ytrain)\n"
   ]
  },
  {
   "cell_type": "code",
   "execution_count": 289,
   "metadata": {},
   "outputs": [
    {
     "name": "stdout",
     "output_type": "stream",
     "text": [
      "0.999892967997\n",
      "0.616602481814\n"
     ]
    }
   ],
   "source": [
    "print(rfm.score(Xtrain,Ytrain))\n",
    "print(rfm.score(Xtest,Ytest))"
   ]
  },
  {
   "cell_type": "code",
   "execution_count": 307,
   "metadata": {},
   "outputs": [
    {
     "data": {
      "text/html": [
       "<div>\n",
       "<style>\n",
       "    .dataframe thead tr:only-child th {\n",
       "        text-align: right;\n",
       "    }\n",
       "\n",
       "    .dataframe thead th {\n",
       "        text-align: left;\n",
       "    }\n",
       "\n",
       "    .dataframe tbody tr th {\n",
       "        vertical-align: top;\n",
       "    }\n",
       "</style>\n",
       "<table border=\"1\" class=\"dataframe\">\n",
       "  <thead>\n",
       "    <tr style=\"text-align: right;\">\n",
       "      <th></th>\n",
       "      <th>pred</th>\n",
       "    </tr>\n",
       "    <tr>\n",
       "      <th>slabel</th>\n",
       "      <th></th>\n",
       "    </tr>\n",
       "  </thead>\n",
       "  <tbody>\n",
       "    <tr>\n",
       "      <th>1</th>\n",
       "      <td>0.512</td>\n",
       "    </tr>\n",
       "    <tr>\n",
       "      <th>1</th>\n",
       "      <td>0.380</td>\n",
       "    </tr>\n",
       "    <tr>\n",
       "      <th>1</th>\n",
       "      <td>0.694</td>\n",
       "    </tr>\n",
       "    <tr>\n",
       "      <th>1</th>\n",
       "      <td>0.678</td>\n",
       "    </tr>\n",
       "    <tr>\n",
       "      <th>1</th>\n",
       "      <td>0.512</td>\n",
       "    </tr>\n",
       "  </tbody>\n",
       "</table>\n",
       "</div>"
      ],
      "text/plain": [
       "         pred\n",
       "slabel       \n",
       "1       0.512\n",
       "1       0.380\n",
       "1       0.694\n",
       "1       0.678\n",
       "1       0.512"
      ]
     },
     "execution_count": 307,
     "metadata": {},
     "output_type": "execute_result"
    }
   ],
   "source": [
    "rfm.predict_proba(Xtrain)\n",
    "test_predix = rfm.predict_proba(Xtest)[:,1]\n",
    "test_predix = pd.DataFrame(test_predix,Ytest,columns=['pred'])\n",
    "test_predix.head()"
   ]
  },
  {
   "cell_type": "code",
   "execution_count": 312,
   "metadata": {},
   "outputs": [
    {
     "data": {
      "text/plain": [
       "<matplotlib.figure.Figure at 0x1504c06d8>"
      ]
     },
     "metadata": {},
     "output_type": "display_data"
    },
    {
     "data": {
      "image/png": "[encoded data removed]",
      "text/plain": [
       "<matplotlib.figure.Figure at 0x1500469b0>"
      ]
     },
     "metadata": {},
     "output_type": "display_data"
    }
   ],
   "source": [
    "plt.figure();\n",
    "test_predix.hist(by=test_predix.index,bins=50)\n",
    "plt.show()"
   ]
  },
  {
   "cell_type": "code",
   "execution_count": null,
   "metadata": {
    "collapsed": true
   },
   "outputs": [],
   "source": []
  },
  {
   "cell_type": "markdown",
   "metadata": {},
   "source": [
    "<b>Descope: Try only articles tagged as most common tag.</b>"
   ]
  },
  {
   "cell_type": "markdown",
   "metadata": {},
   "source": [
    "What is most common tag?"
   ]
  },
  {
   "cell_type": "code",
   "execution_count": 158,
   "metadata": {
    "collapsed": true
   },
   "outputs": [],
   "source": [
    "all_tags = []\n",
    "for art in range(dfA.shape[0]):\n",
    "    all_tags.append(dfA.tags[art])\n",
    "\n",
    "all_tags = ','.join(all_tags).split(',')\n",
    "    \n",
    " "
   ]
  },
  {
   "cell_type": "code",
   "execution_count": 186,
   "metadata": {},
   "outputs": [
    {
     "data": {
      "text/plain": [
       "Index(['Entrepreneurship', 'Life', 'Life Lessons', 'Startup'], dtype='object', name='tag')"
      ]
     },
     "execution_count": 186,
     "metadata": {},
     "output_type": "execute_result"
    }
   ],
   "source": [
    "dfTags = pd.DataFrame(all_tags)\n",
    "dfTags.columns = [['tag']]\n",
    "\n",
    "\n",
    "sizes = dfTags.groupby(['tag']).size()\n",
    "sizes.index[sizes>700]"
   ]
  },
  {
   "cell_type": "markdown",
   "metadata": {},
   "source": [
    "choose <b>Startup</b>"
   ]
  },
  {
   "cell_type": "code",
   "execution_count": 191,
   "metadata": {
    "collapsed": true
   },
   "outputs": [],
   "source": [
    "\n",
    "stA = dfA[dfA.tags.str.contains('Startup')]"
   ]
  },
  {
   "cell_type": "code",
   "execution_count": 192,
   "metadata": {},
   "outputs": [
    {
     "data": {
      "text/plain": [
       "(986, 13)"
      ]
     },
     "execution_count": 192,
     "metadata": {},
     "output_type": "execute_result"
    }
   ],
   "source": [
    "stA.shape"
   ]
  },
  {
   "cell_type": "code",
   "execution_count": 193,
   "metadata": {
    "collapsed": true
   },
   "outputs": [],
   "source": [
    "stS = pd.merge(dfS, stA, how='left', left_on='postid',\n",
    "         left_index=False, right_index=True)\n"
   ]
  },
  {
   "cell_type": "code",
   "execution_count": 196,
   "metadata": {},
   "outputs": [
    {
     "name": "stdout",
     "output_type": "stream",
     "text": [
      "(434792, 21)\n"
     ]
    }
   ],
   "source": [
    "print(stS.shape)\n",
    "stS.drop(stS[stS.title.isnull()].index,inplace=True)"
   ]
  },
  {
   "cell_type": "code",
   "execution_count": 197,
   "metadata": {},
   "outputs": [
    {
     "name": "stdout",
     "output_type": "stream",
     "text": [
      "(95631, 21)\n"
     ]
    }
   ],
   "source": [
    "print(stS.shape)"
   ]
  },
  {
   "cell_type": "code",
   "execution_count": 199,
   "metadata": {},
   "outputs": [
    {
     "data": {
      "text/plain": [
       "postid\n",
       "101a407e8c61     65\n",
       "104b53107e8b     80\n",
       "1057e6c6d2b       9\n",
       "107a1624d96b    153\n",
       "10e547b2c67f     85\n",
       "11422270e1e4     47\n",
       "11a8b8a52b5f    245\n",
       "1214d572044      50\n",
       "121c705fb2ff     58\n",
       "12214a0ab057     71\n",
       "122bdadf5775     43\n",
       "12d900979cf2     65\n",
       "14271441b702    205\n",
       "143d43ee3742    109\n",
       "145ede63eb12     40\n",
       "1487e1943347     85\n",
       "15432c74fb51    112\n",
       "156dae82ed2c    108\n",
       "15c3724038b4    169\n",
       "1605bcdbeafc    103\n",
       "161e833316ec     61\n",
       "164b77bd04b8     41\n",
       "16583e464dc6     34\n",
       "16731841aaf4     64\n",
       "167a824c3bb5     83\n",
       "16e1a26fe9ba     36\n",
       "16e8cfbc127b    110\n",
       "1737d0bcba7a    124\n",
       "173d08e1cc40     26\n",
       "175ce38619c7     51\n",
       "               ... \n",
       "f7de6e84dcee    110\n",
       "f800b408926e     71\n",
       "f84c3f99b3c5    192\n",
       "f8926a3134df     19\n",
       "f8efc4840861    114\n",
       "f923c8d8a4be     25\n",
       "f93d5a3b1309    108\n",
       "f96539729c5d     17\n",
       "f972b27d3273    243\n",
       "f98560b1a3c7     20\n",
       "f986b2c77294    151\n",
       "f9d77125a515     55\n",
       "fa7a9e37ff97    107\n",
       "fabc3ff95a2f     56\n",
       "fb177866b713     45\n",
       "fb2c2625f757     85\n",
       "fb649c6b7f00    133\n",
       "fb6fd5df3bde    177\n",
       "fbd7d3a7600f     49\n",
       "fcbad27492ea    168\n",
       "fcdcf8dbac70     56\n",
       "fcf7f3880c50    254\n",
       "fd1e7361cdad     68\n",
       "fd37036c13b0     68\n",
       "fd7efff707f5    174\n",
       "fe10f1a00726     77\n",
       "fe40543e81d8     17\n",
       "fe7b1ede6a0a     91\n",
       "ff03003cb60b     67\n",
       "ff8c7cb0048     129\n",
       "Length: 982, dtype: int64"
      ]
     },
     "execution_count": 199,
     "metadata": {},
     "output_type": "execute_result"
    }
   ],
   "source": [
    "stS.groupby('postid').size()"
   ]
  },
  {
   "cell_type": "code",
   "execution_count": 200,
   "metadata": {},
   "outputs": [
    {
     "data": {
      "text/plain": [
       "slabel\n",
       "False    94637\n",
       "True       994\n",
       "dtype: int64"
      ]
     },
     "execution_count": 200,
     "metadata": {},
     "output_type": "execute_result"
    }
   ],
   "source": [
    "stS.groupby('slabel').size()"
   ]
  },
  {
   "cell_type": "markdown",
   "metadata": {},
   "source": [
    "<b>Okay, try now.</b>\n",
    "<ol>\n",
    "<li>Downsample</li>\n",
    "<li>Try logistic</li>\n",
    "<li>run lsa</li>\n",
    "</ol>"
   ]
  },
  {
   "cell_type": "code",
   "execution_count": 202,
   "metadata": {},
   "outputs": [
    {
     "name": "stdout",
     "output_type": "stream",
     "text": [
      "(994, 21)\n",
      "(94637, 21)\n"
     ]
    }
   ],
   "source": [
    "dfS_True = stS[stS.slabel==True]\n",
    "dfS_False = stS[stS.slabel==False]\n",
    "print(dfS_True.shape)\n",
    "print(dfS_False.shape)"
   ]
  },
  {
   "cell_type": "code",
   "execution_count": null,
   "metadata": {
    "collapsed": true
   },
   "outputs": [],
   "source": []
  }
 ],
 "metadata": {
  "kernelspec": {
   "display_name": "Python 3",
   "language": "python",
   "name": "python3"
  },
  "language_info": {
   "codemirror_mode": {
    "name": "ipython",
    "version": 3
   },
   "file_extension": ".py",
   "mimetype": "text/x-python",
   "name": "python",
   "nbconvert_exporter": "python",
   "pygments_lexer": "ipython3",
   "version": "3.6.1"
  }
 },
 "nbformat": 4,
 "nbformat_minor": 2
}
