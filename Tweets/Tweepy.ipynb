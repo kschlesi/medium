{
 "cells": [
  {
   "cell_type": "code",
   "execution_count": 2,
   "metadata": {
    "collapsed": true
   },
   "outputs": [],
   "source": [
    "from tweepy import OAuthHandler\n",
    "import twitter, json\n",
    "import tweepy"
   ]
  },
  {
   "cell_type": "code",
   "execution_count": 11,
   "metadata": {},
   "outputs": [],
   "source": [
    "consumer_key='K2BpgbXOOB8HDIXBBOGIKpEMi'\n",
    "consumer_secret='TTIRfgqjN2ZM38yskWPtRRaO5iUvEUOTPho56M59OqmjkzzFZ7'\n",
    "access_token_key='888285134817968129-BGmo5rRDlaP2iz9r8hgUwuETOoGQ7WD'\n",
    "access_token_secret='CO5XjAT8GYknxdvWwgD8PeZVK9UNqzUB1YpE8K9rogJSr'\n",
    "\n",
    "auth = tweepy.OAuthHandler(consumer_key, consumer_secret)\n",
    "auth.set_access_token(access_token_key, access_token_secret)\n",
    "api = tweepy.API(auth)\n"
   ]
  },
  {
   "cell_type": "code",
   "execution_count": 40,
   "metadata": {},
   "outputs": [],
   "source": [
    "#results = tweepy.Cursor(api.search,q='quote.plus', lang='en', count=100)\n",
    "tweets = [status._json for status in tweepy.Cursor(api.search,q='nytimes.com', lang='en').items(100)]\n",
    "#json_strings = [json.dumps(json_obj) for json_obj in tweets] "
   ]
  },
  {
   "cell_type": "code",
   "execution_count": 45,
   "metadata": {},
   "outputs": [
    {
     "name": "stdout",
     "output_type": "stream",
     "text": [
      "dict_keys(['created_at', 'id', 'id_str', 'text', 'truncated', 'entities', 'metadata', 'source', 'in_reply_to_status_id', 'in_reply_to_status_id_str', 'in_reply_to_user_id', 'in_reply_to_user_id_str', 'in_reply_to_screen_name', 'user', 'geo', 'coordinates', 'place', 'contributors', 'retweeted_status', 'is_quote_status', 'retweet_count', 'favorite_count', 'favorited', 'retweeted', 'possibly_sensitive', 'lang'])\n"
     ]
    }
   ],
   "source": [
    "quote = [twt[\"is_quote_status\"] for twt in tweets]\n",
    "text = [twt[\"text\"] for twt in tweets]\n",
    "\n",
    "print(tweets[1].keys())"
   ]
  },
  {
   "cell_type": "markdown",
   "metadata": {},
   "source": [
    "<h3>Streaming Tweets</h3>\n",
    "\n",
    "Pivot: try streaming tweets and filtering as they come in."
   ]
  },
  {
   "cell_type": "code",
   "execution_count": 48,
   "metadata": {},
   "outputs": [
    {
     "ename": "KeyboardInterrupt",
     "evalue": "",
     "output_type": "error",
     "traceback": [
      "\u001b[0;31m---------------------------------------------------------------------------\u001b[0m",
      "\u001b[0;31mKeyboardInterrupt\u001b[0m                         Traceback (most recent call last)",
      "\u001b[0;32m<ipython-input-48-d00bbd9b09b1>\u001b[0m in \u001b[0;36m<module>\u001b[0;34m()\u001b[0m\n\u001b[1;32m     55\u001b[0m \u001b[0;34m\u001b[0m\u001b[0m\n\u001b[1;32m     56\u001b[0m     \u001b[0mstream\u001b[0m \u001b[0;34m=\u001b[0m \u001b[0mStream\u001b[0m\u001b[0;34m(\u001b[0m\u001b[0mauth\u001b[0m\u001b[0;34m,\u001b[0m \u001b[0ml\u001b[0m\u001b[0;34m)\u001b[0m\u001b[0;34m\u001b[0m\u001b[0m\n\u001b[0;32m---> 57\u001b[0;31m     \u001b[0mstream\u001b[0m\u001b[0;34m.\u001b[0m\u001b[0mfilter\u001b[0m\u001b[0;34m(\u001b[0m\u001b[0mtrack\u001b[0m\u001b[0;34m=\u001b[0m\u001b[0mwebsite_list\u001b[0m\u001b[0;34m)\u001b[0m\u001b[0;34m\u001b[0m\u001b[0m\n\u001b[0m",
      "\u001b[0;32m~/anaconda3/envs/insight_env/lib/python3.6/site-packages/tweepy-3.6.0-py3.6.egg/tweepy/streaming.py\u001b[0m in \u001b[0;36mfilter\u001b[0;34m(self, follow, track, async, locations, stall_warnings, languages, encoding, filter_level)\u001b[0m\n\u001b[1;32m    448\u001b[0m         \u001b[0mself\u001b[0m\u001b[0;34m.\u001b[0m\u001b[0msession\u001b[0m\u001b[0;34m.\u001b[0m\u001b[0mparams\u001b[0m \u001b[0;34m=\u001b[0m \u001b[0;34m{\u001b[0m\u001b[0;34m'delimited'\u001b[0m\u001b[0;34m:\u001b[0m \u001b[0;34m'length'\u001b[0m\u001b[0;34m}\u001b[0m\u001b[0;34m\u001b[0m\u001b[0m\n\u001b[1;32m    449\u001b[0m         \u001b[0mself\u001b[0m\u001b[0;34m.\u001b[0m\u001b[0mhost\u001b[0m \u001b[0;34m=\u001b[0m \u001b[0;34m'stream.twitter.com'\u001b[0m\u001b[0;34m\u001b[0m\u001b[0m\n\u001b[0;32m--> 450\u001b[0;31m         \u001b[0mself\u001b[0m\u001b[0;34m.\u001b[0m\u001b[0m_start\u001b[0m\u001b[0;34m(\u001b[0m\u001b[0masync\u001b[0m\u001b[0;34m)\u001b[0m\u001b[0;34m\u001b[0m\u001b[0m\n\u001b[0m\u001b[1;32m    451\u001b[0m \u001b[0;34m\u001b[0m\u001b[0m\n\u001b[1;32m    452\u001b[0m     def sitestream(self, follow, stall_warnings=False,\n",
      "\u001b[0;32m~/anaconda3/envs/insight_env/lib/python3.6/site-packages/tweepy-3.6.0-py3.6.egg/tweepy/streaming.py\u001b[0m in \u001b[0;36m_start\u001b[0;34m(self, async)\u001b[0m\n\u001b[1;32m    362\u001b[0m             \u001b[0mself\u001b[0m\u001b[0;34m.\u001b[0m\u001b[0m_thread\u001b[0m\u001b[0;34m.\u001b[0m\u001b[0mstart\u001b[0m\u001b[0;34m(\u001b[0m\u001b[0;34m)\u001b[0m\u001b[0;34m\u001b[0m\u001b[0m\n\u001b[1;32m    363\u001b[0m         \u001b[0;32melse\u001b[0m\u001b[0;34m:\u001b[0m\u001b[0;34m\u001b[0m\u001b[0m\n\u001b[0;32m--> 364\u001b[0;31m             \u001b[0mself\u001b[0m\u001b[0;34m.\u001b[0m\u001b[0m_run\u001b[0m\u001b[0;34m(\u001b[0m\u001b[0;34m)\u001b[0m\u001b[0;34m\u001b[0m\u001b[0m\n\u001b[0m\u001b[1;32m    365\u001b[0m \u001b[0;34m\u001b[0m\u001b[0m\n\u001b[1;32m    366\u001b[0m     \u001b[0;32mdef\u001b[0m \u001b[0mon_closed\u001b[0m\u001b[0;34m(\u001b[0m\u001b[0mself\u001b[0m\u001b[0;34m,\u001b[0m \u001b[0mresp\u001b[0m\u001b[0;34m)\u001b[0m\u001b[0;34m:\u001b[0m\u001b[0;34m\u001b[0m\u001b[0m\n",
      "\u001b[0;32m~/anaconda3/envs/insight_env/lib/python3.6/site-packages/tweepy-3.6.0-py3.6.egg/tweepy/streaming.py\u001b[0m in \u001b[0;36m_run\u001b[0;34m(self)\u001b[0m\n\u001b[1;32m    264\u001b[0m                     \u001b[0mself\u001b[0m\u001b[0;34m.\u001b[0m\u001b[0msnooze_time\u001b[0m \u001b[0;34m=\u001b[0m \u001b[0mself\u001b[0m\u001b[0;34m.\u001b[0m\u001b[0msnooze_time_step\u001b[0m\u001b[0;34m\u001b[0m\u001b[0m\n\u001b[1;32m    265\u001b[0m                     \u001b[0mself\u001b[0m\u001b[0;34m.\u001b[0m\u001b[0mlistener\u001b[0m\u001b[0;34m.\u001b[0m\u001b[0mon_connect\u001b[0m\u001b[0;34m(\u001b[0m\u001b[0;34m)\u001b[0m\u001b[0;34m\u001b[0m\u001b[0m\n\u001b[0;32m--> 266\u001b[0;31m                     \u001b[0mself\u001b[0m\u001b[0;34m.\u001b[0m\u001b[0m_read_loop\u001b[0m\u001b[0;34m(\u001b[0m\u001b[0mresp\u001b[0m\u001b[0;34m)\u001b[0m\u001b[0;34m\u001b[0m\u001b[0m\n\u001b[0m\u001b[1;32m    267\u001b[0m             \u001b[0;32mexcept\u001b[0m \u001b[0;34m(\u001b[0m\u001b[0mTimeout\u001b[0m\u001b[0;34m,\u001b[0m \u001b[0mssl\u001b[0m\u001b[0;34m.\u001b[0m\u001b[0mSSLError\u001b[0m\u001b[0;34m)\u001b[0m \u001b[0;32mas\u001b[0m \u001b[0mexc\u001b[0m\u001b[0;34m:\u001b[0m\u001b[0;34m\u001b[0m\u001b[0m\n\u001b[1;32m    268\u001b[0m                 \u001b[0;31m# This is still necessary, as a SSLError can actually be\u001b[0m\u001b[0;34m\u001b[0m\u001b[0;34m\u001b[0m\u001b[0m\n",
      "\u001b[0;32m~/anaconda3/envs/insight_env/lib/python3.6/site-packages/tweepy-3.6.0-py3.6.egg/tweepy/streaming.py\u001b[0m in \u001b[0;36m_read_loop\u001b[0;34m(self, resp)\u001b[0m\n\u001b[1;32m    314\u001b[0m             \u001b[0mlength\u001b[0m \u001b[0;34m=\u001b[0m \u001b[0;36m0\u001b[0m\u001b[0;34m\u001b[0m\u001b[0m\n\u001b[1;32m    315\u001b[0m             \u001b[0;32mwhile\u001b[0m \u001b[0;32mnot\u001b[0m \u001b[0mresp\u001b[0m\u001b[0;34m.\u001b[0m\u001b[0mraw\u001b[0m\u001b[0;34m.\u001b[0m\u001b[0mclosed\u001b[0m\u001b[0;34m:\u001b[0m\u001b[0;34m\u001b[0m\u001b[0m\n\u001b[0;32m--> 316\u001b[0;31m                 \u001b[0mline\u001b[0m \u001b[0;34m=\u001b[0m \u001b[0mbuf\u001b[0m\u001b[0;34m.\u001b[0m\u001b[0mread_line\u001b[0m\u001b[0;34m(\u001b[0m\u001b[0;34m)\u001b[0m\u001b[0;34m.\u001b[0m\u001b[0mstrip\u001b[0m\u001b[0;34m(\u001b[0m\u001b[0;34m)\u001b[0m\u001b[0;34m\u001b[0m\u001b[0m\n\u001b[0m\u001b[1;32m    317\u001b[0m                 \u001b[0;32mif\u001b[0m \u001b[0;32mnot\u001b[0m \u001b[0mline\u001b[0m\u001b[0;34m:\u001b[0m\u001b[0;34m\u001b[0m\u001b[0m\n\u001b[1;32m    318\u001b[0m                     \u001b[0mself\u001b[0m\u001b[0;34m.\u001b[0m\u001b[0mlistener\u001b[0m\u001b[0;34m.\u001b[0m\u001b[0mkeep_alive\u001b[0m\u001b[0;34m(\u001b[0m\u001b[0;34m)\u001b[0m  \u001b[0;31m# keep-alive new lines are expected\u001b[0m\u001b[0;34m\u001b[0m\u001b[0m\n",
      "\u001b[0;32m~/anaconda3/envs/insight_env/lib/python3.6/site-packages/tweepy-3.6.0-py3.6.egg/tweepy/streaming.py\u001b[0m in \u001b[0;36mread_line\u001b[0;34m(self, sep)\u001b[0m\n\u001b[1;32m    179\u001b[0m             \u001b[0;32melse\u001b[0m\u001b[0;34m:\u001b[0m\u001b[0;34m\u001b[0m\u001b[0m\n\u001b[1;32m    180\u001b[0m                 \u001b[0mstart\u001b[0m \u001b[0;34m=\u001b[0m \u001b[0mlen\u001b[0m\u001b[0;34m(\u001b[0m\u001b[0mself\u001b[0m\u001b[0;34m.\u001b[0m\u001b[0m_buffer\u001b[0m\u001b[0;34m)\u001b[0m\u001b[0;34m\u001b[0m\u001b[0m\n\u001b[0;32m--> 181\u001b[0;31m             \u001b[0mself\u001b[0m\u001b[0;34m.\u001b[0m\u001b[0m_buffer\u001b[0m \u001b[0;34m+=\u001b[0m \u001b[0mself\u001b[0m\u001b[0;34m.\u001b[0m\u001b[0m_stream\u001b[0m\u001b[0;34m.\u001b[0m\u001b[0mread\u001b[0m\u001b[0;34m(\u001b[0m\u001b[0mself\u001b[0m\u001b[0;34m.\u001b[0m\u001b[0m_chunk_size\u001b[0m\u001b[0;34m)\u001b[0m\u001b[0;34m\u001b[0m\u001b[0m\n\u001b[0m\u001b[1;32m    182\u001b[0m         \u001b[0;32mreturn\u001b[0m \u001b[0msix\u001b[0m\u001b[0;34m.\u001b[0m\u001b[0mb\u001b[0m\u001b[0;34m(\u001b[0m\u001b[0;34m''\u001b[0m\u001b[0;34m)\u001b[0m\u001b[0;34m\u001b[0m\u001b[0m\n\u001b[1;32m    183\u001b[0m \u001b[0;34m\u001b[0m\u001b[0m\n",
      "\u001b[0;32m~/anaconda3/envs/insight_env/lib/python3.6/site-packages/urllib3/response.py\u001b[0m in \u001b[0;36mread\u001b[0;34m(self, amt, decode_content, cache_content)\u001b[0m\n\u001b[1;32m    382\u001b[0m             \u001b[0;32melse\u001b[0m\u001b[0;34m:\u001b[0m\u001b[0;34m\u001b[0m\u001b[0m\n\u001b[1;32m    383\u001b[0m                 \u001b[0mcache_content\u001b[0m \u001b[0;34m=\u001b[0m \u001b[0;32mFalse\u001b[0m\u001b[0;34m\u001b[0m\u001b[0m\n\u001b[0;32m--> 384\u001b[0;31m                 \u001b[0mdata\u001b[0m \u001b[0;34m=\u001b[0m \u001b[0mself\u001b[0m\u001b[0;34m.\u001b[0m\u001b[0m_fp\u001b[0m\u001b[0;34m.\u001b[0m\u001b[0mread\u001b[0m\u001b[0;34m(\u001b[0m\u001b[0mamt\u001b[0m\u001b[0;34m)\u001b[0m\u001b[0;34m\u001b[0m\u001b[0m\n\u001b[0m\u001b[1;32m    385\u001b[0m                 \u001b[0;32mif\u001b[0m \u001b[0mamt\u001b[0m \u001b[0;34m!=\u001b[0m \u001b[0;36m0\u001b[0m \u001b[0;32mand\u001b[0m \u001b[0;32mnot\u001b[0m \u001b[0mdata\u001b[0m\u001b[0;34m:\u001b[0m  \u001b[0;31m# Platform-specific: Buggy versions of Python.\u001b[0m\u001b[0;34m\u001b[0m\u001b[0m\n\u001b[1;32m    386\u001b[0m                     \u001b[0;31m# Close the connection when no data is returned\u001b[0m\u001b[0;34m\u001b[0m\u001b[0;34m\u001b[0m\u001b[0m\n",
      "\u001b[0;32m~/anaconda3/envs/insight_env/lib/python3.6/http/client.py\u001b[0m in \u001b[0;36mread\u001b[0;34m(self, amt)\u001b[0m\n\u001b[1;32m    447\u001b[0m             \u001b[0;31m# Amount is given, implement using readinto\u001b[0m\u001b[0;34m\u001b[0m\u001b[0;34m\u001b[0m\u001b[0m\n\u001b[1;32m    448\u001b[0m             \u001b[0mb\u001b[0m \u001b[0;34m=\u001b[0m \u001b[0mbytearray\u001b[0m\u001b[0;34m(\u001b[0m\u001b[0mamt\u001b[0m\u001b[0;34m)\u001b[0m\u001b[0;34m\u001b[0m\u001b[0m\n\u001b[0;32m--> 449\u001b[0;31m             \u001b[0mn\u001b[0m \u001b[0;34m=\u001b[0m \u001b[0mself\u001b[0m\u001b[0;34m.\u001b[0m\u001b[0mreadinto\u001b[0m\u001b[0;34m(\u001b[0m\u001b[0mb\u001b[0m\u001b[0;34m)\u001b[0m\u001b[0;34m\u001b[0m\u001b[0m\n\u001b[0m\u001b[1;32m    450\u001b[0m             \u001b[0;32mreturn\u001b[0m \u001b[0mmemoryview\u001b[0m\u001b[0;34m(\u001b[0m\u001b[0mb\u001b[0m\u001b[0;34m)\u001b[0m\u001b[0;34m[\u001b[0m\u001b[0;34m:\u001b[0m\u001b[0mn\u001b[0m\u001b[0;34m]\u001b[0m\u001b[0;34m.\u001b[0m\u001b[0mtobytes\u001b[0m\u001b[0;34m(\u001b[0m\u001b[0;34m)\u001b[0m\u001b[0;34m\u001b[0m\u001b[0m\n\u001b[1;32m    451\u001b[0m         \u001b[0;32melse\u001b[0m\u001b[0;34m:\u001b[0m\u001b[0;34m\u001b[0m\u001b[0m\n",
      "\u001b[0;32m~/anaconda3/envs/insight_env/lib/python3.6/http/client.py\u001b[0m in \u001b[0;36mreadinto\u001b[0;34m(self, b)\u001b[0m\n\u001b[1;32m    481\u001b[0m \u001b[0;34m\u001b[0m\u001b[0m\n\u001b[1;32m    482\u001b[0m         \u001b[0;32mif\u001b[0m \u001b[0mself\u001b[0m\u001b[0;34m.\u001b[0m\u001b[0mchunked\u001b[0m\u001b[0;34m:\u001b[0m\u001b[0;34m\u001b[0m\u001b[0m\n\u001b[0;32m--> 483\u001b[0;31m             \u001b[0;32mreturn\u001b[0m \u001b[0mself\u001b[0m\u001b[0;34m.\u001b[0m\u001b[0m_readinto_chunked\u001b[0m\u001b[0;34m(\u001b[0m\u001b[0mb\u001b[0m\u001b[0;34m)\u001b[0m\u001b[0;34m\u001b[0m\u001b[0m\n\u001b[0m\u001b[1;32m    484\u001b[0m \u001b[0;34m\u001b[0m\u001b[0m\n\u001b[1;32m    485\u001b[0m         \u001b[0;32mif\u001b[0m \u001b[0mself\u001b[0m\u001b[0;34m.\u001b[0m\u001b[0mlength\u001b[0m \u001b[0;32mis\u001b[0m \u001b[0;32mnot\u001b[0m \u001b[0;32mNone\u001b[0m\u001b[0;34m:\u001b[0m\u001b[0;34m\u001b[0m\u001b[0m\n",
      "\u001b[0;32m~/anaconda3/envs/insight_env/lib/python3.6/http/client.py\u001b[0m in \u001b[0;36m_readinto_chunked\u001b[0;34m(self, b)\u001b[0m\n\u001b[1;32m    576\u001b[0m         \u001b[0;32mtry\u001b[0m\u001b[0;34m:\u001b[0m\u001b[0;34m\u001b[0m\u001b[0m\n\u001b[1;32m    577\u001b[0m             \u001b[0;32mwhile\u001b[0m \u001b[0;32mTrue\u001b[0m\u001b[0;34m:\u001b[0m\u001b[0;34m\u001b[0m\u001b[0m\n\u001b[0;32m--> 578\u001b[0;31m                 \u001b[0mchunk_left\u001b[0m \u001b[0;34m=\u001b[0m \u001b[0mself\u001b[0m\u001b[0;34m.\u001b[0m\u001b[0m_get_chunk_left\u001b[0m\u001b[0;34m(\u001b[0m\u001b[0;34m)\u001b[0m\u001b[0;34m\u001b[0m\u001b[0m\n\u001b[0m\u001b[1;32m    579\u001b[0m                 \u001b[0;32mif\u001b[0m \u001b[0mchunk_left\u001b[0m \u001b[0;32mis\u001b[0m \u001b[0;32mNone\u001b[0m\u001b[0;34m:\u001b[0m\u001b[0;34m\u001b[0m\u001b[0m\n\u001b[1;32m    580\u001b[0m                     \u001b[0;32mreturn\u001b[0m \u001b[0mtotal_bytes\u001b[0m\u001b[0;34m\u001b[0m\u001b[0m\n",
      "\u001b[0;32m~/anaconda3/envs/insight_env/lib/python3.6/http/client.py\u001b[0m in \u001b[0;36m_get_chunk_left\u001b[0;34m(self)\u001b[0m\n\u001b[1;32m    544\u001b[0m                 \u001b[0mself\u001b[0m\u001b[0;34m.\u001b[0m\u001b[0m_safe_read\u001b[0m\u001b[0;34m(\u001b[0m\u001b[0;36m2\u001b[0m\u001b[0;34m)\u001b[0m  \u001b[0;31m# toss the CRLF at the end of the chunk\u001b[0m\u001b[0;34m\u001b[0m\u001b[0m\n\u001b[1;32m    545\u001b[0m             \u001b[0;32mtry\u001b[0m\u001b[0;34m:\u001b[0m\u001b[0;34m\u001b[0m\u001b[0m\n\u001b[0;32m--> 546\u001b[0;31m                 \u001b[0mchunk_left\u001b[0m \u001b[0;34m=\u001b[0m \u001b[0mself\u001b[0m\u001b[0;34m.\u001b[0m\u001b[0m_read_next_chunk_size\u001b[0m\u001b[0;34m(\u001b[0m\u001b[0;34m)\u001b[0m\u001b[0;34m\u001b[0m\u001b[0m\n\u001b[0m\u001b[1;32m    547\u001b[0m             \u001b[0;32mexcept\u001b[0m \u001b[0mValueError\u001b[0m\u001b[0;34m:\u001b[0m\u001b[0;34m\u001b[0m\u001b[0m\n\u001b[1;32m    548\u001b[0m                 \u001b[0;32mraise\u001b[0m \u001b[0mIncompleteRead\u001b[0m\u001b[0;34m(\u001b[0m\u001b[0;34mb''\u001b[0m\u001b[0;34m)\u001b[0m\u001b[0;34m\u001b[0m\u001b[0m\n",
      "\u001b[0;32m~/anaconda3/envs/insight_env/lib/python3.6/http/client.py\u001b[0m in \u001b[0;36m_read_next_chunk_size\u001b[0;34m(self)\u001b[0m\n\u001b[1;32m    504\u001b[0m     \u001b[0;32mdef\u001b[0m \u001b[0m_read_next_chunk_size\u001b[0m\u001b[0;34m(\u001b[0m\u001b[0mself\u001b[0m\u001b[0;34m)\u001b[0m\u001b[0;34m:\u001b[0m\u001b[0;34m\u001b[0m\u001b[0m\n\u001b[1;32m    505\u001b[0m         \u001b[0;31m# Read the next chunk size from the file\u001b[0m\u001b[0;34m\u001b[0m\u001b[0;34m\u001b[0m\u001b[0m\n\u001b[0;32m--> 506\u001b[0;31m         \u001b[0mline\u001b[0m \u001b[0;34m=\u001b[0m \u001b[0mself\u001b[0m\u001b[0;34m.\u001b[0m\u001b[0mfp\u001b[0m\u001b[0;34m.\u001b[0m\u001b[0mreadline\u001b[0m\u001b[0;34m(\u001b[0m\u001b[0m_MAXLINE\u001b[0m \u001b[0;34m+\u001b[0m \u001b[0;36m1\u001b[0m\u001b[0;34m)\u001b[0m\u001b[0;34m\u001b[0m\u001b[0m\n\u001b[0m\u001b[1;32m    507\u001b[0m         \u001b[0;32mif\u001b[0m \u001b[0mlen\u001b[0m\u001b[0;34m(\u001b[0m\u001b[0mline\u001b[0m\u001b[0;34m)\u001b[0m \u001b[0;34m>\u001b[0m \u001b[0m_MAXLINE\u001b[0m\u001b[0;34m:\u001b[0m\u001b[0;34m\u001b[0m\u001b[0m\n\u001b[1;32m    508\u001b[0m             \u001b[0;32mraise\u001b[0m \u001b[0mLineTooLong\u001b[0m\u001b[0;34m(\u001b[0m\u001b[0;34m\"chunk size\"\u001b[0m\u001b[0;34m)\u001b[0m\u001b[0;34m\u001b[0m\u001b[0m\n",
      "\u001b[0;32m~/anaconda3/envs/insight_env/lib/python3.6/socket.py\u001b[0m in \u001b[0;36mreadinto\u001b[0;34m(self, b)\u001b[0m\n\u001b[1;32m    584\u001b[0m         \u001b[0;32mwhile\u001b[0m \u001b[0;32mTrue\u001b[0m\u001b[0;34m:\u001b[0m\u001b[0;34m\u001b[0m\u001b[0m\n\u001b[1;32m    585\u001b[0m             \u001b[0;32mtry\u001b[0m\u001b[0;34m:\u001b[0m\u001b[0;34m\u001b[0m\u001b[0m\n\u001b[0;32m--> 586\u001b[0;31m                 \u001b[0;32mreturn\u001b[0m \u001b[0mself\u001b[0m\u001b[0;34m.\u001b[0m\u001b[0m_sock\u001b[0m\u001b[0;34m.\u001b[0m\u001b[0mrecv_into\u001b[0m\u001b[0;34m(\u001b[0m\u001b[0mb\u001b[0m\u001b[0;34m)\u001b[0m\u001b[0;34m\u001b[0m\u001b[0m\n\u001b[0m\u001b[1;32m    587\u001b[0m             \u001b[0;32mexcept\u001b[0m \u001b[0mtimeout\u001b[0m\u001b[0;34m:\u001b[0m\u001b[0;34m\u001b[0m\u001b[0m\n\u001b[1;32m    588\u001b[0m                 \u001b[0mself\u001b[0m\u001b[0;34m.\u001b[0m\u001b[0m_timeout_occurred\u001b[0m \u001b[0;34m=\u001b[0m \u001b[0;32mTrue\u001b[0m\u001b[0;34m\u001b[0m\u001b[0m\n",
      "\u001b[0;32m~/anaconda3/envs/insight_env/lib/python3.6/ssl.py\u001b[0m in \u001b[0;36mrecv_into\u001b[0;34m(self, buffer, nbytes, flags)\u001b[0m\n\u001b[1;32m   1000\u001b[0m                   \u001b[0;34m\"non-zero flags not allowed in calls to recv_into() on %s\"\u001b[0m \u001b[0;34m%\u001b[0m\u001b[0;34m\u001b[0m\u001b[0m\n\u001b[1;32m   1001\u001b[0m                   self.__class__)\n\u001b[0;32m-> 1002\u001b[0;31m             \u001b[0;32mreturn\u001b[0m \u001b[0mself\u001b[0m\u001b[0;34m.\u001b[0m\u001b[0mread\u001b[0m\u001b[0;34m(\u001b[0m\u001b[0mnbytes\u001b[0m\u001b[0;34m,\u001b[0m \u001b[0mbuffer\u001b[0m\u001b[0;34m)\u001b[0m\u001b[0;34m\u001b[0m\u001b[0m\n\u001b[0m\u001b[1;32m   1003\u001b[0m         \u001b[0;32melse\u001b[0m\u001b[0;34m:\u001b[0m\u001b[0;34m\u001b[0m\u001b[0m\n\u001b[1;32m   1004\u001b[0m             \u001b[0;32mreturn\u001b[0m \u001b[0msocket\u001b[0m\u001b[0;34m.\u001b[0m\u001b[0mrecv_into\u001b[0m\u001b[0;34m(\u001b[0m\u001b[0mself\u001b[0m\u001b[0;34m,\u001b[0m \u001b[0mbuffer\u001b[0m\u001b[0;34m,\u001b[0m \u001b[0mnbytes\u001b[0m\u001b[0;34m,\u001b[0m \u001b[0mflags\u001b[0m\u001b[0;34m)\u001b[0m\u001b[0;34m\u001b[0m\u001b[0m\n",
      "\u001b[0;32m~/anaconda3/envs/insight_env/lib/python3.6/ssl.py\u001b[0m in \u001b[0;36mread\u001b[0;34m(self, len, buffer)\u001b[0m\n\u001b[1;32m    863\u001b[0m             \u001b[0;32mraise\u001b[0m \u001b[0mValueError\u001b[0m\u001b[0;34m(\u001b[0m\u001b[0;34m\"Read on closed or unwrapped SSL socket.\"\u001b[0m\u001b[0;34m)\u001b[0m\u001b[0;34m\u001b[0m\u001b[0m\n\u001b[1;32m    864\u001b[0m         \u001b[0;32mtry\u001b[0m\u001b[0;34m:\u001b[0m\u001b[0;34m\u001b[0m\u001b[0m\n\u001b[0;32m--> 865\u001b[0;31m             \u001b[0;32mreturn\u001b[0m \u001b[0mself\u001b[0m\u001b[0;34m.\u001b[0m\u001b[0m_sslobj\u001b[0m\u001b[0;34m.\u001b[0m\u001b[0mread\u001b[0m\u001b[0;34m(\u001b[0m\u001b[0mlen\u001b[0m\u001b[0;34m,\u001b[0m \u001b[0mbuffer\u001b[0m\u001b[0;34m)\u001b[0m\u001b[0;34m\u001b[0m\u001b[0m\n\u001b[0m\u001b[1;32m    866\u001b[0m         \u001b[0;32mexcept\u001b[0m \u001b[0mSSLError\u001b[0m \u001b[0;32mas\u001b[0m \u001b[0mx\u001b[0m\u001b[0;34m:\u001b[0m\u001b[0;34m\u001b[0m\u001b[0m\n\u001b[1;32m    867\u001b[0m             \u001b[0;32mif\u001b[0m \u001b[0mx\u001b[0m\u001b[0;34m.\u001b[0m\u001b[0margs\u001b[0m\u001b[0;34m[\u001b[0m\u001b[0;36m0\u001b[0m\u001b[0;34m]\u001b[0m \u001b[0;34m==\u001b[0m \u001b[0mSSL_ERROR_EOF\u001b[0m \u001b[0;32mand\u001b[0m \u001b[0mself\u001b[0m\u001b[0;34m.\u001b[0m\u001b[0msuppress_ragged_eofs\u001b[0m\u001b[0;34m:\u001b[0m\u001b[0;34m\u001b[0m\u001b[0m\n",
      "\u001b[0;32m~/anaconda3/envs/insight_env/lib/python3.6/ssl.py\u001b[0m in \u001b[0;36mread\u001b[0;34m(self, len, buffer)\u001b[0m\n\u001b[1;32m    623\u001b[0m         \"\"\"\n\u001b[1;32m    624\u001b[0m         \u001b[0;32mif\u001b[0m \u001b[0mbuffer\u001b[0m \u001b[0;32mis\u001b[0m \u001b[0;32mnot\u001b[0m \u001b[0;32mNone\u001b[0m\u001b[0;34m:\u001b[0m\u001b[0;34m\u001b[0m\u001b[0m\n\u001b[0;32m--> 625\u001b[0;31m             \u001b[0mv\u001b[0m \u001b[0;34m=\u001b[0m \u001b[0mself\u001b[0m\u001b[0;34m.\u001b[0m\u001b[0m_sslobj\u001b[0m\u001b[0;34m.\u001b[0m\u001b[0mread\u001b[0m\u001b[0;34m(\u001b[0m\u001b[0mlen\u001b[0m\u001b[0;34m,\u001b[0m \u001b[0mbuffer\u001b[0m\u001b[0;34m)\u001b[0m\u001b[0;34m\u001b[0m\u001b[0m\n\u001b[0m\u001b[1;32m    626\u001b[0m         \u001b[0;32melse\u001b[0m\u001b[0;34m:\u001b[0m\u001b[0;34m\u001b[0m\u001b[0m\n\u001b[1;32m    627\u001b[0m             \u001b[0mv\u001b[0m \u001b[0;34m=\u001b[0m \u001b[0mself\u001b[0m\u001b[0;34m.\u001b[0m\u001b[0m_sslobj\u001b[0m\u001b[0;34m.\u001b[0m\u001b[0mread\u001b[0m\u001b[0;34m(\u001b[0m\u001b[0mlen\u001b[0m\u001b[0;34m)\u001b[0m\u001b[0;34m\u001b[0m\u001b[0m\n",
      "\u001b[0;31mKeyboardInterrupt\u001b[0m: "
     ]
    }
   ],
   "source": [
    "\n",
    "\n",
    "from tweepy.streaming import StreamListener\n",
    "from tweepy import OAuthHandler\n",
    "from tweepy import Stream\n",
    "import csv\n",
    "\n",
    "website_list = ['nytimes.com','medium.com','seattletimes.com']\n",
    "\n",
    "# Open/create a file to append data to\n",
    "csvFile = open('result.csv', 'a')\n",
    "\n",
    "#Use csv writer\n",
    "csvWriter = csv.writer(csvFile)\n",
    "\n",
    "class StdOutListener(StreamListener):\n",
    "    \"\"\" A listener handles tweets that are received from the stream.\n",
    "    This is a basic listener that just prints received tweets to stdout.\n",
    "    \"\"\"\n",
    "    \n",
    "    def on_data(self, data):\n",
    "        #print(data)\n",
    "        return True\n",
    "\n",
    "    def on_error(self, status):\n",
    "        print('Error in listener')\n",
    "        \n",
    "    def on_status(self, status):\n",
    "        if status.retweeted_status:\n",
    "            return\n",
    "        #if status.favorite_count is None or status.favorite_count < 10:\n",
    "        #    return\n",
    "        description = status.user.description\n",
    "        loc = status.user.location\n",
    "        text = status.text\n",
    "        coords = status.coordinates\n",
    "        name = status.user.screen_name\n",
    "        user_created = status.user.created_at\n",
    "        followers = status.user.followers_count\n",
    "        id_str = status.id_str\n",
    "        created = status.created_at\n",
    "        retweets = status.retweet_count\n",
    "        if coords is not None:\n",
    "            coords = json.dumps(coords)\n",
    "        csvWriter.writerow([text.encode('utf-8'),retweets,followers])\n",
    "        \n",
    "\n",
    "if __name__ == '__main__':\n",
    "    l = StdOutListener()\n",
    "    auth = OAuthHandler(consumer_key, consumer_secret)\n",
    "    auth.set_access_token(access_token_key, access_token_secret)\n",
    "\n",
    "    stream = Stream(auth, l)\n",
    "    stream.filter(track=website_list)"
   ]
  },
  {
   "cell_type": "code",
   "execution_count": 49,
   "metadata": {},
   "outputs": [
    {
     "ename": "NameError",
     "evalue": "name 'm' is not defined",
     "output_type": "error",
     "traceback": [
      "\u001b[0;31m---------------------------------------------------------------------------\u001b[0m",
      "\u001b[0;31mNameError\u001b[0m                                 Traceback (most recent call last)",
      "\u001b[0;32m<ipython-input-49-7073ac39a804>\u001b[0m in \u001b[0;36m<module>\u001b[0;34m()\u001b[0m\n\u001b[0;32m----> 1\u001b[0;31m \u001b[0mprint\u001b[0m\u001b[0;34m(\u001b[0m\u001b[0mm\u001b[0m\u001b[0;34m)\u001b[0m\u001b[0;34m\u001b[0m\u001b[0m\n\u001b[0m",
      "\u001b[0;31mNameError\u001b[0m: name 'm' is not defined"
     ]
    }
   ],
   "source": [
    "print(m)"
   ]
  },
  {
   "cell_type": "code",
   "execution_count": 61,
   "metadata": {},
   "outputs": [
    {
     "name": "stdout",
     "output_type": "stream",
     "text": [
      "2017-07-21 15:56:05 RT @tackettdc: NEWS Sean Spicer Resigns as White House Press Secretary @GLENNTHRUSH https://t.co/eUwRGpJ2jl\n",
      "2017-07-21 15:56:04 RT @paulkrugman: As Congressional Rs attack CBO for being honest, a reminder that this was all obvious long ago https://t.co/yZ6NJIMERV\n",
      "2017-07-21 15:56:04 #Earthquake in #Aegean Sea Kills 2 Tourists https://t.co/PMTevw2I1U #twitter https://t.co/TGHDdwfJ0Q\n",
      "2017-07-21 15:56:04 RT @NormEisen: Mr. Pres, you really pissed me, @RWPUSA &amp; @tribelaw off w self pardon talk. no such thing! we r writing 2explain why https:/…\n",
      "2017-07-21 15:56:04 RT @tackettdc: NEWS Sean Spicer Resigns as White House Press Secretary @GLENNTHRUSH https://t.co/eUwRGpJ2jl\n",
      "2017-07-21 15:56:03 RT @siegelmd: A health bill everybody hates.17% approve.0 sponsors 0 hearings 0 champions 0 advocates @sgremminger @roseperson https://t.co…\n",
      "2017-07-21 15:56:03 RT @SuB8u: The shape of sensors to come! A temporary lightweight, breathable sensor tattoo that can monitor vital signs.    \n",
      "https://t.co/V…\n",
      "2017-07-21 15:56:03 RT @annehelen: Criminalization of parenting choices of poor Black and Hispanic women: Jane Crow.  A must-read piece: \n",
      "\n",
      "https://t.co/vsU5nMQ…\n",
      "2017-07-21 15:56:01 RT @nytimes: “I can’t even remember why I opposed it. ... Everybody needs some sort of health insurance.\" https://t.co/LYqc6PhJCk\n",
      "2017-07-21 15:55:59 RT @patent_maven: Front page obituary in NYTimes: Ms. Frances Gabe, age 101, who patented a self-cleaning home. Here is the article:\n",
      "https:…\n",
      "2017-07-21 15:55:58 RT @PrisonReformMvt: President Trump’s Lies, the Definitive List - The New York Times https://t.co/at3SdnWNb1\n",
      "2017-07-21 15:55:58 RT @tackettdc: NEWS Sean Spicer Resigns as White House Press Secretary @GLENNTHRUSH https://t.co/eUwRGpJ2jl\n",
      "2017-07-21 15:55:57 RT @emmaroller: this story is infuriating https://t.co/A7CLoePzm9\n",
      "2017-07-21 15:55:56 RT @nytimes: “I can’t even remember why I opposed it. ... Everybody needs some sort of health insurance.\" https://t.co/LYqc6PhJCk\n",
      "2017-07-21 15:55:54 RT @nytimesbooks: 10 new books recommended by critics and editors at The New York Times https://t.co/nVS4rfLGb0\n",
      "2017-07-21 15:55:53 RT @emmaroller: this story is infuriating https://t.co/A7CLoePzm9\n",
      "2017-07-21 15:55:52 Album: Coney Island, Ever Changing. https://t.co/roCwNLLHUg\n",
      "2017-07-21 15:55:52 RT @tackettdc: NEWS Sean Spicer Resigns as White House Press Secretary @GLENNTHRUSH https://t.co/eUwRGpJ2jl\n",
      "2017-07-21 15:55:51 RT @GlennThrush: Today it feels like the wheels are coming off before the lug nuts were even put on https://t.co/lIhmoskvcc\n",
      "2017-07-21 15:55:51 As Self-Driving Cars Near, Washington Plays Catch-Up https://t.co/qkumsXTI2E\n",
      "2017-07-21 15:55:51 RT @RepRaskin: Inspiring stories from #DREAMers across the country. #defendDACA https://t.co/lX2Y8FnBrE\n",
      "2017-07-21 15:55:50 RT @emmaroller: this story is infuriating https://t.co/A7CLoePzm9\n",
      "2017-07-21 15:55:50 RT @jbouie: i guess obamacare looks better to folks now that the president isn't so blackity black. https://t.co/RQpZZPxCRN\n",
      "2017-07-21 15:55:49 RT @DrRodRohrich: A boon for advanced-stage cancer patients: @nytimes https://t.co/Mn4priC054\n",
      "2017-07-21 15:55:49 Trying to come up with the most elitist way to put down this J.D. Vance drivel: https://t.co/XGL9evLSAY\n",
      "2017-07-21 15:55:48 These Americans Hated the Health Law. Until the Idea of Repeal Sank In. https://t.co/E9ePjEJfdQ\n",
      "2017-07-21 15:55:47 RT @nytimes: “I can’t even remember why I opposed it. ... Everybody needs some sort of health insurance.\" https://t.co/LYqc6PhJCk\n",
      "2017-07-21 15:55:46 RT @nytimes: Trump aides are said to be investigating Robert Mueller's team, looking for ways to discredit his Russia inquiry https://t.co/…\n",
      "2017-07-21 15:55:44 RT @nytimes: Donald Trump’s Twitter insults: The (updated) complete list, so far https://t.co/Yeh6ZnQQLc\n",
      "2017-07-21 15:55:44 \"Beyoncé Statue at Madame Tussauds Is Removed After Criticism\" by JACEY FORTIN via NYT https://t.co/QSY2ChrCl8\n",
      "2017-07-21 15:55:44 \"Sure, Donald Trump is a boob, but that doesn’t explain why Republicans can’t govern from Capitol Hill.\"  https://t.co/rrFKyTXw3G\n",
      "2017-07-21 15:55:43 RT @BraddJaffy: Obama admin. fined Harley-Davidson $15 million for polluting. Trump admin. just knocked $3 million off the bill. https://t.…\n",
      "2017-07-21 15:55:43 \"Beyoncé Statue at Madame Tussauds Is Removed After Criticism\" by JACEY FORTIN via NYT https://t.co/BUKoo5OPzX\n",
      "2017-07-21 15:55:43 In China, Despair for Cause of Democracy After Nobel Laureate’s Death https://t.co/ez2Ll7plbo\n",
      "2017-07-21 15:55:42 RT @nytimes: A striking, if unintended, outcome of opening Dalí’s tomb: His \"mustache kept its classic 10-past-10 position\" https://t.co/eB…\n",
      "2017-07-21 15:55:42 NEWS Sean Spicer Resigns as White House Press Secretary @GLENNTHRUSH https://t.co/eUwRGpJ2jl\n",
      "2017-07-21 15:55:42 RT @CeylanWrites: Israeli Aid Gives an Unexpected ‘Glimmer of Hope’ for Syrians - The New York Times https://t.co/jiNkozB6Rs\n",
      "2017-07-21 15:55:42 RT @kylegriffin1: The New York Times had to fact check Trump's interview with them. They found several misleading and false claims. https:/…\n",
      "2017-07-21 15:55:42 RT @DouthatNYT: 1. Quick thoughts on @JDVance1's Times op-ed today on conservatives and the health care debate:\n",
      "https://t.co/Z8Axs4Ezu8\n",
      "2017-07-21 15:55:42 \"Beyoncé Statue at Madame Tussauds Is Removed After Criticism\" by JACEY FORTIN via NYT https://t.co/WAxK8463Lp\n",
      "2017-07-21 15:55:41 President Trump’s Lies, the Definitive List - The New York Times https://t.co/at3SdnWNb1\n",
      "2017-07-21 15:55:41 RT @el_belson: Ties to Cuba Enhance and Entangle Jorge Mas’s Marlins Bid https://t.co/PtpIrwXABb @ByJamesWagner with a deep dive on a bidde…\n",
      "2017-07-21 15:55:40 RT @aameyers: Only someone with something to hide, #SoCalledPresident #realDonaldTrump attacks the investigators: https://t.co/Y3UX4XFBtN\n",
      "2017-07-21 15:55:39 RT @NormEisen: Be VERY careful Mr. Pres., \"investigating the investigators\" can be obstruction. See US v. Baca (C.D. Cal 2017) https://t.co…\n",
      "2017-07-21 15:55:38 RT @ddale8: \"I can't even remember why I opposed it\": excellent story on Obamacare repeal becoming unpopular as it approached. https://t.co…\n",
      "2017-07-21 15:55:38 \"Bertens Beats Doubles Partner to Reach Semifinals in Gstaad\" https://t.co/ldJqch3S0p https://t.co/Bg0pN6wKxJ\n",
      "2017-07-21 15:55:38 RT @danpfeiffer: These Americans Hated the Health Law. Until the Idea of Repeal Sank In. https://t.co/ldJBdF3y09\n",
      "2017-07-21 15:55:37 RT @geoffwking: Trump Aides, Seeking Leverage, Investigate Mueller’s Investigators, via @nytimes https://t.co/VOc9Yj470C\n",
      "2017-07-21 15:55:36 If Trump Pardons, It Could Be a Crime to undercut, obstruct or even end, the special counsel’s Muller investigation \n",
      "https://t.co/xT5ow4WJ1j\n",
      "2017-07-21 15:55:35 RT @nytimes: A striking, if unintended, outcome of opening Dalí’s tomb: His \"mustache kept its classic 10-past-10 position\" https://t.co/eB…\n",
      "2017-07-21 15:55:35 RT @rushmypassport: Hey travelers, no more laptop ban! https://t.co/NQUlbi6brw #travel #ttot\n",
      "2017-07-21 15:55:35 \"Another Possible Indignity of Age: Arrest\" by PAULA SPAN via NYT https://t.co/3JEbk2JBKI\n",
      "2017-07-21 15:55:34 RT @SaysHummingbird: MAKE. THIS. GO. VIRAL.\n",
      "\n",
      "@nytimes catalogued every outright lie Trump has told publicly since taking oath of office.\n",
      "\n",
      "h…\n",
      "2017-07-21 15:55:34 \"No Dye: Cancer Patients' Gray Hair Darkened on Immune Drugs\" by THE ASSOCIATED PRESS via NYT https://t.co/C1XaHBkmKU\n",
      "2017-07-21 15:55:34 RT @nytimes: A striking, if unintended, outcome of opening Dalí’s tomb: His \"mustache kept its classic 10-past-10 position\" https://t.co/eB…\n",
      "2017-07-21 15:55:33 RT @Lequock78744198: Doubts About the Promised Bounty of Genetically Modified Crops https://t.co/MT29Qg62Y0\n",
      "2017-07-21 15:55:32 RT @NormEisen: Mr. Pres, you really pissed me, @RWPUSA &amp; @tribelaw off w self pardon talk. no such thing! we r writing 2explain why https:/…\n",
      "2017-07-21 15:55:30 Republicans Can’t Pass Bills https://t.co/qJHFz46X3v\n",
      "2017-07-21 15:55:30 A Drug Maker Spends Big in Washington to Make Itself Heard https://t.co/Jo5LDOia3p\n",
      "2017-07-21 15:55:30 RT @Bey_Legion: Beyoncé Wax Figure Removed from Madame Tussauds Following (well-deserved) Backlash https://t.co/IzRHlYEcHu https://t.co/31h…\n",
      "2017-07-21 15:55:29 NY Poverty Update: After Election, More New Yorkers Tell Volunteer Groups, 'I Can Help' https://t.co/3VLgSHMXWV\n",
      "2017-07-21 15:55:29 RT @nytimesmusic: A wax figure of Beyoncé at Madame Tussauds that attracted criticism from far and wide has been removed https://t.co/flUKq…\n",
      "2017-07-21 15:55:28 new predictions say budgets for #B2B events in the US will grow 4%, vs the 3.5% growth for advertising https://t.co/OB0GBkmZDO\n",
      "2017-07-21 15:55:28 Saudi Prince’s Elevation Will Have Far-Reaching Consequences in Energy https://t.co/ubNX3aJSdY\n",
      "2017-07-21 15:55:26 RT @nwmalinowski: NYC responded to high-profile deaths of children last year by removing hundreds of kids from their parents care: \n",
      "\n",
      "https:…\n",
      "2017-07-21 15:55:26 RT @nytimes: The effort to investigate the investigators is another sign of a looming showdown between Trump and Mueller https://t.co/m8kc2…\n",
      "2017-07-21 15:55:26 RT @nytimes: By lunchtime, the agents had five immigrants in custody: three of their six targets of the day https://t.co/Cx35i3e3gn https:/…\n",
      "2017-07-21 15:55:25 RT @VoCommunism: In #Venezuela \"your life depends on a decision someone else makes for you.” #Communismkills https://t.co/N0xr0xi5hw https:…\n",
      "2017-07-21 15:55:24 RT @ConnieSchultz: Capito: “I did not come to Washington to hurt people.\"  \"Plan C\" on ACA - Repeal Now, Replace Later - Has Collapsed http…\n",
      "2017-07-21 15:55:24 RT @NYTScience: Almost half of the plastic ever produced was made in the last 13 years. And it's a few billion tons. https://t.co/gyA8XMCxkm\n",
      "2017-07-21 15:55:24 RT @nytimes: A striking, if unintended, outcome of opening Dalí’s tomb: His \"mustache kept its classic 10-past-10 position\" https://t.co/eB…\n",
      "2017-07-21 15:55:23 RT @BraddJaffy: WashPost https://t.co/hI0SFSqHdw &amp; NYT https://t.co/HudxoSl4bb just dropped twin bombs about Trump's lawyers trying to unde…\n",
      "2017-07-21 15:55:23 RT @mattyglesias: \"Donald Trump is a boob, but that doesn’t explain why Republicans can’t govern from Capitol Hill.\" https://t.co/votZBDLMfD\n",
      "2017-07-21 15:55:22 \"If it wasn't for music I'd be dead.\" https://t.co/xJwFqLE07t (im truly heart broken)\n",
      "2017-07-21 15:55:22 RT @NormEisen: Mr. Pres, you really pissed me, @RWPUSA &amp; @tribelaw off w self pardon talk. no such thing! we r writing 2explain why https:/…\n"
     ]
    },
    {
     "name": "stdout",
     "output_type": "stream",
     "text": [
      "2017-07-21 15:55:22 Review: ‘Dunkirk’ Is a Tour de Force War #Movie, Both Sweeping and Intimate via @ManohlaDargis https://t.co/QoNVh0WepX\n",
      "2017-07-21 15:55:21 RT @Max_Fisher: I don't know how to acknowledge the parallels with other countries here without sounding hyperbolic or alarmist. https://t.…\n",
      "2017-07-21 15:55:21 \"Another Possible Indignity of Age: Arrest\" by PAULA SPAN via NYT https://t.co/lnfxQzqd9U #disabilityinthenews\n",
      "2017-07-21 15:55:20 Researchers Use DNA to Store and Retrieve Digital Movie https://t.co/NUTKhrxRuu &amp; article in @NYTScience by G.Kolata https://t.co/fjlypQItGY\n",
      "2017-07-21 15:55:20 When mere cataloguing can count as journalism  President Trump’s Lies, the Definitive List https://t.co/F9PVPOkwla\n",
      "2017-07-21 15:55:20 RT @nytimes: A streaming channel led by 4 women has a mission: to be a safe place for underrepresented gamers https://t.co/Kcu5Jt975o\n",
      "2017-07-21 15:55:20 \"UAW Talking to GM About Impact of Car Sales Slump on U.S. Jobs\" by REUTERS via NYT https://t.co/vaxTUk3rLF https://t.co/2d6bj2KE46\n",
      "2017-07-21 15:55:19 The cooperation between Israelis and Syrians is “a great glimmer of hope coming out of this tragedy” https://t.co/nw02chMEeG\n",
      "2017-07-21 15:55:19 29 Minutes From New York to Washington? Elon Musk Teases a New Hyperloop - The New York Times https://t.co/JvgSBr9kDI\n",
      "2017-07-21 15:55:19 RT @BraddJaffy: Obama admin. fined Harley-Davidson $15 million for polluting. Trump admin. just knocked $3 million off the bill. https://t.…\n",
      "2017-07-21 15:55:17 RT @NormEisen: Mr. Pres, you really pissed me, @RWPUSA &amp; @tribelaw off w self pardon talk. no such thing! we r writing 2explain why https:/…\n",
      "2017-07-21 15:55:17 RT @nytimes: Opinion: \"Republicans offer nothing but negativity, detachment, absence and an ax\" https://t.co/gXR0RLWZsG\n",
      "2017-07-21 15:55:17 RT @davidaxelrod: These two stories, taken together, paint a very dark and ominous picture of WH thinking. https://t.co/2lnw37SWsZ \n",
      "\n",
      "https:…\n",
      "2017-07-21 15:55:16 RT @davidaxelrod: These two stories, taken together, paint a very dark and ominous picture of WH thinking. https://t.co/2lnw37SWsZ \n",
      "\n",
      "https:…\n",
      "2017-07-21 15:55:16 RT @nytimes: A striking, if unintended, outcome of opening Dalí’s tomb: His \"mustache kept its classic 10-past-10 position\" https://t.co/eB…\n",
      "2017-07-21 15:55:16 RT @nytopinion: Bail can exceed $20,000 even for minor crimes like stealing $105 in clothing https://t.co/bw3Y0zydbF https://t.co/AlsNfYUguN\n",
      "2017-07-21 15:55:16 RT @Bey_Legion: Beyoncé Wax Figure Removed from Madame Tussauds Following (well-deserved) Backlash https://t.co/IzRHlYEcHu https://t.co/31h…\n",
      "2017-07-21 15:55:15 RT @nytimes: Burundi robotics team vanishes after international competition in Washington https://t.co/fefjeJbz7H\n",
      "2017-07-21 15:55:14 A Drug Maker Spends Big in Washington to Make Itself Heard - https://t.co/nxs1VOUzPS https://t.co/nl5tFG03ge\n",
      "2017-07-21 15:55:13 RT @PunishPence: A corrupt administration grasping at straws, trying to discredit the investigators that will take them down.\n",
      "https://t.co/…\n",
      "2017-07-21 15:55:12 Yesterday President Trump talked with NYT reporters and discussed a wide range of topics covered in the news:… https://t.co/jttUqrW44s\n",
      "2017-07-21 15:55:11 RT @nytimes: A striking, if unintended, outcome of opening Dalí’s tomb: His \"mustache kept its classic 10-past-10 position\" https://t.co/eB…\n",
      "2017-07-21 15:55:10 RT @KristenClarkeJD: Bail reform could save taxpayers $78B a year. Time to stop detaining people merely because they are poor. #cjreform ht…\n",
      "2017-07-21 15:55:09 A classic Italian dish - Chicken Parmesan #recipe https://t.co/xvRSynKHCJ #foodie #italy\n",
      "2017-07-21 15:55:09 RT @nytimes: “I can’t even remember why I opposed it. ... Everybody needs some sort of health insurance.\" https://t.co/LYqc6PhJCk\n"
     ]
    }
   ],
   "source": [
    "\n",
    "# Open/create a file to append data to\n",
    "csvFile = open('result2.csv', 'a')\n",
    "\n",
    "#Use csv writer\n",
    "csvWriter = csv.writer(csvFile)\n",
    "\n",
    "for tweet in tweepy.Cursor(api.search,q='nytimes.com', lang='en').items(100):\n",
    "\n",
    "    # Write a row to the CSV file. I use encode UTF-8\n",
    "    csvWriter.writerow([tweet.created_at, tweet.retweet_count, tweet.text.encode('utf-8')])\n",
    "    print(tweet.created_at, tweet.text)\n",
    "csvFile.close()"
   ]
  },
  {
   "cell_type": "code",
   "execution_count": 72,
   "metadata": {},
   "outputs": [
    {
     "name": "stderr",
     "output_type": "stream",
     "text": [
      "/Users/kimberly/anaconda3/envs/insight_env/lib/python3.6/site-packages/ipykernel_launcher.py:5: DeprecationWarning: \n",
      ".ix is deprecated. Please use\n",
      ".loc for label based indexing or\n",
      ".iloc for positional indexing\n",
      "\n",
      "See the documentation here:\n",
      "http://pandas.pydata.org/pandas-docs/stable/indexing.html#deprecate_ix\n",
      "  \"\"\"\n"
     ]
    }
   ],
   "source": [
    "import pandas as pd\n",
    "\n",
    "df = pd.read_csv('result2.csv')\n",
    "df.head()\n",
    "data=df.ix[:,1]"
   ]
  },
  {
   "cell_type": "code",
   "execution_count": 75,
   "metadata": {},
   "outputs": [
    {
     "data": {
      "image/png": "[encoded data removed]",
      "text/plain": [
       "<matplotlib.figure.Figure at 0x117a361d0>"
      ]
     },
     "metadata": {},
     "output_type": "display_data"
    },
    {
     "data": {
      "image/png": "[encoded data removed]",
      "text/plain": [
       "<matplotlib.figure.Figure at 0x11a7b7dd8>"
      ]
     },
     "metadata": {},
     "output_type": "display_data"
    }
   ],
   "source": [
    "import matplotlib.pyplot as plt\n",
    "import numpy as np\n",
    "\n",
    "#import plotly.plotly as py\n",
    "# Learn about API authentication here: https://plot.ly/python/getting-started\n",
    "# Find your api_key here: https://plot.ly/settings/api\n",
    "\n",
    "\n",
    "plt.hist(data)\n",
    "plt.title(\"Retweet Histogram\")\n",
    "#plt.xlabel(\"Value\")\n",
    "#plt.ylabel(\"Frequency\")\n",
    "\n",
    "fig = plt.gcf()\n",
    "plt.show()"
   ]
  },
  {
   "cell_type": "code",
   "execution_count": null,
   "metadata": {
    "collapsed": true
   },
   "outputs": [],
   "source": []
  }
 ],
 "metadata": {
  "kernelspec": {
   "display_name": "Python 3",
   "language": "python",
   "name": "python3"
  },
  "language_info": {
   "codemirror_mode": {
    "name": "ipython",
    "version": 3
   },
   "file_extension": ".py",
   "mimetype": "text/x-python",
   "name": "python",
   "nbconvert_exporter": "python",
   "pygments_lexer": "ipython3",
   "version": "3.6.1"
  }
 },
 "nbformat": 4,
 "nbformat_minor": 2
}
