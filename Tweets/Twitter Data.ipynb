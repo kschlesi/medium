{
 "cells": [
  {
   "cell_type": "markdown",
   "metadata": {},
   "source": [
    "<h3>Twitter article highlights</h3>"
   ]
  },
  {
   "cell_type": "markdown",
   "metadata": {},
   "source": [
    "The purpose of this notebook is to prototype pulling article highlights from Twitter. \n",
    "\n",
    "Plan:\n",
    "<ol>\n",
    "<li>Import and search with python wrapper for Twitter API.</li>\n",
    "<li>Grab ~1000 tweets with URLs of articles included.</li>\n",
    "<li>Plot which tweets have article highlights included.</li>\n",
    "<li></li>\n",
    "</ol>"
   ]
  },
  {
   "cell_type": "code",
   "execution_count": 3,
   "metadata": {},
   "outputs": [],
   "source": [
    "import json\n",
    "#import python-twitter as pt\n",
    "import twitter"
   ]
  },
  {
   "cell_type": "code",
   "execution_count": 5,
   "metadata": {},
   "outputs": [],
   "source": [
    "api = twitter.Api(consumer_key='K2BpgbXOOB8HDIXBBOGIKpEMi',\n",
    "                  consumer_secret='TTIRfgqjN2ZM38yskWPtRRaO5iUvEUOTPho56M59OqmjkzzFZ7',\n",
    "                  access_token_key='888285134817968129-BGmo5rRDlaP2iz9r8hgUwuETOoGQ7WD',\n",
    "                  access_token_secret='CO5XjAT8GYknxdvWwgD8PeZVK9UNqzUB1YpE8K9rogJSr')"
   ]
  },
  {
   "cell_type": "code",
   "execution_count": 25,
   "metadata": {},
   "outputs": [],
   "source": [
    "rMedium = api.GetSearch(\n",
    "    raw_query='q=''medium.com''%20since%3A2017-07-20%20until%3A2017-07-21&lang=en&count=100')"
   ]
  },
  {
   "cell_type": "code",
   "execution_count": 21,
   "metadata": {},
   "outputs": [],
   "source": [
    "rNytimes = api.GetSearch(\n",
    "    raw_query='q=''nytimes.com''%20since%3A2017-07-20%20until%3A2017-07-21&lang=en&count=100')"
   ]
  },
  {
   "cell_type": "code",
   "execution_count": 16,
   "metadata": {
    "collapsed": true
   },
   "outputs": [],
   "source": [
    "rStimes = api.GetSearch(\n",
    "    raw_query='q=''seattletimes.com''%20since%3A2017-07-20%20until%3A2017-07-21&lang=en&count=100')"
   ]
  },
  {
   "cell_type": "code",
   "execution_count": 24,
   "metadata": {},
   "outputs": [
    {
     "data": {
      "text/plain": [
       "100"
      ]
     },
     "execution_count": 24,
     "metadata": {},
     "output_type": "execute_result"
    }
   ],
   "source": [
    "len(rMedium)"
   ]
  },
  {
   "cell_type": "code",
   "execution_count": 19,
   "metadata": {},
   "outputs": [
    {
     "data": {
      "text/plain": [
       "100"
      ]
     },
     "execution_count": 19,
     "metadata": {},
     "output_type": "execute_result"
    }
   ],
   "source": [
    "len(rStimes)"
   ]
  },
  {
   "cell_type": "code",
   "execution_count": 22,
   "metadata": {},
   "outputs": [
    {
     "data": {
      "text/plain": [
       "100"
      ]
     },
     "execution_count": 22,
     "metadata": {},
     "output_type": "execute_result"
    }
   ],
   "source": [
    "len(rNytimes)"
   ]
  },
  {
   "cell_type": "code",
   "execution_count": 27,
   "metadata": {},
   "outputs": [],
   "source": [
    "rQplus = api.GetSearch(\n",
    "    raw_query='q=''quote.plus''%20since%3A2017-07-20%20until%3A2017-07-21&lang=en&count=100')"
   ]
  },
  {
   "cell_type": "code",
   "execution_count": 32,
   "metadata": {},
   "outputs": [
    {
     "data": {
      "text/plain": [
       "Status(ID=888182611071434752, ScreenName=bcbluecon, Created=Thu Jul 20 23:43:30 +0000 2017, Text=\"Nothing is ever Trudeau's fault  https://t.co/oMXA1jnPd5 https://t.co/Ok0CCvVUVo\")"
      ]
     },
     "execution_count": 32,
     "metadata": {},
     "output_type": "execute_result"
    }
   ],
   "source": [
    "rQplus[0]"
   ]
  },
  {
   "cell_type": "code",
   "execution_count": 52,
   "metadata": {},
   "outputs": [
    {
     "ename": "AttributeError",
     "evalue": "'Status' object has no attribute 'author'",
     "output_type": "error",
     "traceback": [
      "\u001b[0;31m---------------------------------------------------------------------------\u001b[0m",
      "\u001b[0;31mAttributeError\u001b[0m                            Traceback (most recent call last)",
      "\u001b[0;32m<ipython-input-52-139d02eb7347>\u001b[0m in \u001b[0;36m<module>\u001b[0;34m()\u001b[0m\n\u001b[0;32m----> 1\u001b[0;31m \u001b[0mrQplus\u001b[0m\u001b[0;34m[\u001b[0m\u001b[0;36m0\u001b[0m\u001b[0;34m]\u001b[0m\u001b[0;34m.\u001b[0m\u001b[0mauthor\u001b[0m\u001b[0;34m.\u001b[0m\u001b[0m_json\u001b[0m\u001b[0;34m[\u001b[0m\u001b[0;34m'screen_name'\u001b[0m\u001b[0;34m]\u001b[0m\u001b[0;34m\u001b[0m\u001b[0m\n\u001b[0m",
      "\u001b[0;31mAttributeError\u001b[0m: 'Status' object has no attribute 'author'"
     ]
    }
   ],
   "source": [
    "rQplus[0].author._json['screen_name']"
   ]
  },
  {
   "cell_type": "code",
   "execution_count": 37,
   "metadata": {
    "collapsed": true
   },
   "outputs": [],
   "source": [
    "tweet_text = []\n",
    "tweet_text.append([rMedium[i].text for i in range(len(rMedium))])\n",
    "tweet_text.append([rStimes[i].text for i in range(len(rStimes))])\n",
    "tweet_text.append([rNytimes[i].text for i in range(len(rNytimes))])"
   ]
  },
  {
   "cell_type": "code",
   "execution_count": 39,
   "metadata": {},
   "outputs": [
    {
     "data": {
      "text/plain": [
       "[['RT @caitoz: I just published “Good.” \\n\\n#JohnMcCain #McCain #Neocon\\n\\nhttps://t.co/a8L7xYnGMy',\n",
       "  'RT @RealProgressUS: Zach Haller: \"In failing to denounce the glaring political and media impasse lambasted by myself and the fiercely... ht…',\n",
       "  'RT @heidigroover: .@CaryMoon4Mayor releases housing plan for first 100 days: \\nhttps://t.co/xkKh8acVVA',\n",
       "  'RT @caitoz: Caitlin Johnstone and David Cobb Respond to Counterpunch\\n\\n@NatCounterPunch\\n\\nhttps://t.co/ebJ4j5Jumn',\n",
       "  '🤔\" Boxes are for Babies.\" [Stay in Your lane but expand your wingspan] #JMT Bee an Expert”  https://t.co/vg91hGYqCY',\n",
       "  'RT @amazedcoder: Redux-First Router Data-fetching: Solving the 80% Use Case for Async Middleware\\n\\nhttps://t.co/kp7kx9qz1H https://t.co/s3E0…',\n",
       "  'RT @umairh: I just published “The Next Global Economy” https://t.co/xYgnGWruYO',\n",
       "  'RT @TrishaDishes: An Accidental Journalist &amp; His Historic Crowd-Sourced Investigation\\nhttps://t.co/zGbGcO2mER\\nA macabre tale of corruption…',\n",
       "  \"RT @Pdx_resistance: Breaking: We have submitted public records requests to @tedwheeler's office asking for names of secret panelists. https…\",\n",
       "  'RT @caitoz: I just published “Good.” \\n\\n#JohnMcCain #McCain #Neocon\\n\\nhttps://t.co/a8L7xYnGMy',\n",
       "  'RT @UNITEDWEDREAM: 🚨 BREAKING: A #DREAMact bill has just been introduced, and this is what it means for you. #HereToStay \\n\\nhttps://t.co/xJU…',\n",
       "  'RT @NNUBonnie: Rep. Yvette D. Clarke supports our federal nurse-to-patient ratio bill. Read more about the bill here https://t.co/UO7SFbrPx…',\n",
       "  'RT @chris_zinda: @conradjwilson @amandapeacher @SagebrushScotsm You are letting them get away with it, never following money or motivation.…',\n",
       "  'Information Underload by @holden - we often reference the \"firehose\"... #edchat #edtechchat  https://t.co/8cN2kO7ggn https://t.co/pEueaho9Ri',\n",
       "  'I just published “FPCMs — Secured Bridge Loans Backed By Hard Assets” https://t.co/7yqvwgjhEO',\n",
       "  'RT @Ian56789: War Criminal &amp; Treasonous Scum John McCain has been diagnosed with an aggressive brain tumor - Good\\nhttps://t.co/h63al6fiWj\\nb…',\n",
       "  'opening up https://t.co/HP42bxa8xd on beer 3 https://t.co/c1FFtpsZnA',\n",
       "  'RT @Smokes_Angel: I just published “The Clinton Body Count” https://t.co/ATpUMsPAgS',\n",
       "  'RT @Indiegogo: In a World Controlled by Smart Devices, Are Robots Our Future? https://t.co/SHOGnjsBSN https://t.co/ljeyMRzvTT',\n",
       "  'RT @MikeTamir: Using #AI #DeepLearning #MachineLearning #DataScience to Predict Value of Homes On Airbnb https://t.co/GYuhW2lYc6 https://t.…',\n",
       "  \"RT @bitnami: Can you teach @sebgoa how to say Bazel? He doesn't seem so sure in ‘Building Docker Images without #Docker’ ;) :  https://t.co…\",\n",
       "  '“Design your personal growth” by @lissalauren https://t.co/2aWYC641cW',\n",
       "  'I just published “Meditation Revelations and Other Gooey, Peaceful, Happy Thoughts” https://t.co/GUxb5Zwq6I',\n",
       "  'Salespeople…\\nYou’ll be more successful selling positivity over negativity.\\n#Sales #RippleClub\\n&gt;&gt;&gt;… https://t.co/thymRkganm',\n",
       "  'RT @UNITEDWEDREAM: This is what the #DreamAct could mean for you.\\n\\nRT &amp; Tell your friends: https://t.co/xJUCr4L1Nd https://t.co/w10vyiTYZL',\n",
       "  'RT @caitoz: Caitlin Johnstone and David Cobb Respond to Counterpunch\\n\\n@NatCounterPunch\\n\\nhttps://t.co/ebJ4j5Jumn',\n",
       "  'RT @zachhaller: Huffington Post Writer Squirms When Confronted on Clinton Collusion https://t.co/sp8WRHDW5R',\n",
       "  'RT @MrsRussellsRoom: I am so thankful for @TheJLV and the voices of #educolor that inform my practice. You guys make us better! Teach on! h…',\n",
       "  'I just published “The Plight of a Journalist: Julian Assange” https://t.co/FyoSpzWkbv',\n",
       "  'I just published “There’s Beauty in the Struggle” https://t.co/7D2nrmlIDy',\n",
       "  'RT @caitoz: Caitlin Johnstone and David Cobb Respond to Counterpunch\\n\\n@NatCounterPunch\\n\\nhttps://t.co/ebJ4j5Jumn',\n",
       "  'Redux-First Router data-fetching: solving the 80% use case for async Middleware - https://t.co/yw0YM0Otw1 https://t.co/KWGej2Wf4i',\n",
       "  'I just published “Why I Support Gun Rights and #2A” https://t.co/j3Z1LfeWBz',\n",
       "  'RT @caitoz: I just published “Good.” \\n\\n#JohnMcCain #McCain #Neocon\\n\\nhttps://t.co/a8L7xYnGMy',\n",
       "  'Idlib fitna map from my rebel friend who says \"not 100% accurate but close.\" \\n\\nGreen=Ahrar; black=HTS; white=other.… https://t.co/FFYSldW7eP',\n",
       "  'I just published “A Call To Stand Up For America” https://t.co/srhrERJM0D',\n",
       "  'I wrote this. You may or may not agree with it. https://t.co/mAriRmW95b',\n",
       "  'RT @eiaine: The average VC firm screens 200 companies and only makes 4 investments a year.\\nhttps://t.co/vO0s9Stjh5 by @anbuteau https://t.c…',\n",
       "  'I just published “Walls: A Poem” https://t.co/9PJ9M456Ra',\n",
       "  'RT @TheDemCoalition: TAKE ACTION: Here are 15 ways you can fight @RealDonaldTrump right now https://t.co/LbvG5FgP6t #Resist',\n",
       "  'RT @UNITEDWEDREAM: This is what the #DreamAct could mean for you.\\n\\nRT &amp; Tell your friends: https://t.co/xJUCr4L1Nd https://t.co/w10vyiTYZL',\n",
       "  \"RT @tsengputterman: Black folks have built mass platforms + consciousness to fight police violence. Non-black Asian Americans haven't. http…\",\n",
       "  'RT @nznavy: How do you communicate across the border to North Korea? A #NZNavy officer delivers the message in person. MORE: https://t.co/E…',\n",
       "  'I just published “The Clinton Body Count” https://t.co/ATpUMsPAgS',\n",
       "  \"RT @Pdx_resistance: Breaking: We have submitted public records requests to @tedwheeler's office asking for names of secret panelists. https…\",\n",
       "  'I love explaining what @LifeFolder does. But the thing that always connects with people is the why. https://t.co/JL7hGx9NYw',\n",
       "  '@JulianAssange @wikileaks\\nI just published “The Misuse of the Espionage Act of 1917” https://t.co/72XHBkN8bK',\n",
       "  'RT @fanishshukla: RT JimMarous: Applications of #MachineLearning in #Fintech \\n\\nhttps://t.co/w5zfnNSXGL    \\n\\n#banking #finserv #BigD… https:…',\n",
       "  'RT @frightrags: My friend @bjcolangelo wrote this, and you should read it. https://t.co/NYiU8Qx62c',\n",
       "  \"Make money: Don't raise money - gr8 article by @garyvee  - lessons for #biotech #medtech and the value chain. https://t.co/2xGzG9LLP5\",\n",
       "  'RT @UNITEDWEDREAM: 🚨 BREAKING: A #DREAMact bill has just been introduced, and this is what it means for you. #HereToStay \\n\\nhttps://t.co/xJU…',\n",
       "  'RT @JavaScriptDaily: Simple Server Side Caching for Express: https://t.co/tPOZuoBGbO',\n",
       "  'RT JimMarous: Applications of #MachineLearning in #Fintech \\n\\nhttps://t.co/w5zfnNSXGL    \\n\\n#banking #finserv... https://t.co/PzP9Lfx8WL',\n",
       "  'RT @RadixRegistry: Struggling to build a brand for your blog? Here are 3 actionable ways to help you get there. https://t.co/uepQwniEDz\\n\\n#b…',\n",
       "  'RT @larrykim: The wealthiest people do these 5 surprising habits.  https://t.co/ec0KMJzHqB https://t.co/GWvmgI3Dki',\n",
       "  'RT JimMarous: Applications of #MachineLearning in #Fintech \\n\\nhttps://t.co/w5zfnNSXGL    \\n\\n#banking #finserv #BigD… https://t.co/Av7mBbAGJx',\n",
       "  '#techhippie Indiegogo: In a World Controlled by Smart Devices, Are Robots Our Future? https://t.co/HOuEFHQn5u … https://t.co/Q9D4dIVRf4',\n",
       "  'We are all saddened by the death of @MDScramble Founder &amp; activist Jonathan Shurberg. https://t.co/qmaR8MgkP9 #mdpolitics',\n",
       "  'We are all saddened by the death of @MDScramble Founder &amp; activist Jonathan Shurberg. https://t.co/dfrh64I7kV #mdpolitics',\n",
       "  'We are all saddened by the death of @MDScramble Founder &amp; activist Jonathan Shurberg. https://t.co/GJS0GPOmE7 #mdpolitics',\n",
       "  'RT @squashrobinson: What a great tool for helping the UX process @davegray https://t.co/DqyXRpD9JF. Simple, discussion provoking brilliance…',\n",
       "  'RT @Smokes_Angel: I just published “What Should Be Done About Health Care in the US” https://t.co/ah1TVyuPs3',\n",
       "  'I just published “What Has President Trump Done Since Taking Office? PLENTY!” https://t.co/SALZzr2PtU',\n",
       "  'RT @caitoz: Caitlin Johnstone and David Cobb Respond to Counterpunch\\n\\n@NatCounterPunch\\n\\nhttps://t.co/ebJ4j5Jumn',\n",
       "  'RT @DefenceHQ: On 31 July the nation will mark #Passchendaele100, but how much do you really know about the battle? https://t.co/t580ZQWAUV…',\n",
       "  \"Continuing 'Your project is not ready for contributors' this week: environment: https://t.co/vOiO5tjseF https://t.co/vgOirP2gjH\",\n",
       "  'RT @timnwbld: Great read and technique: “Execs care about revenue. How do we get them to care about outcomes?” by @jboogie https://t.co/rtH…',\n",
       "  'RT @SenKamalaHarris: A threat to the open internet is a threat to California’s economy and workforce. We need to protect #NetNeutrality. ht…',\n",
       "  'RT @less_beauty: “What if you got $1,000 a month, just for being alive? I decided to find out.” by @scottsantens https://t.co/uFhc4r1Roc',\n",
       "  'I just published “No Charges for Wikileaks or Assange Petition” https://t.co/683u7I95Cg',\n",
       "  'RT @LisaGollerMktg: 33 ways to visualize your #content ... @larrykim, you rock! https://t.co/QAfiNFXScu #marketing https://t.co/wcefjPNenP',\n",
       "  \"RT @nntaleb: @NickKristof Squalid imbeciles like Nick Kristof don't pay for their mistakes &amp; risk transfer on regular Syrians. Skininthegam…\",\n",
       "  'RT @JasmineLHolmes: \"Jesus is always pointing back to the broken human heart as the spring from whence our sin comes.\" https://t.co/WJgaugu…',\n",
       "  '[MEDIUM POST] Website Optimisation 101: Let’s Get Started! #webdesign #webhosting https://t.co/IxFMDOJR9R https://t.co/EJDUrz4BJy',\n",
       "  'RT @caitoz: Caitlin Johnstone and David Cobb Respond to Counterpunch\\n\\n@NatCounterPunch\\n\\nhttps://t.co/ebJ4j5Jumn',\n",
       "  'RT @qldscience: Students from Beerwah using the latest in agricultural tech, give local farmers a taste of the future of Qld farming https:…',\n",
       "  'RT @umbrellacoin: I just published “Are you aware of what you just bought?” https://t.co/RbqWiWXIVd',\n",
       "  'I just published “The 9 Week At Home Workout” https://t.co/RZ35LBlzYB',\n",
       "  'RT @ioana_iordan: About “I don’t know, it depends!” or that moment when everyone expects you to have an answer right away.. #ux #ui https:/…',\n",
       "  'RT @HBOPR: .@HBO announces drama series CONFEDERATE, created by @GameOfThrones creators/showrunners David Benioff &amp; D.B. Weiss: https://t.c…',\n",
       "  'RT @umbrellacoin: I just published “Short Term Disability Insurance” https://t.co/8bkUiZUKjs',\n",
       "  'Currying ou Partial Application https://t.co/05hRLdoYNh #javascript https://t.co/Zov6sbYM26',\n",
       "  'RT @SenKamalaHarris: A threat to the open internet is a threat to California’s economy and workforce. We need to protect #NetNeutrality. ht…',\n",
       "  'RT @NEMofficial: Introducing the NEM Microwallet\\nhttps://t.co/JRIfNIXafr',\n",
       "  'RT @UNITEDWEDREAM: This is what the #DreamAct could mean for you.\\n\\nRT &amp; Tell your friends: https://t.co/xJUCr4L1Nd https://t.co/w10vyiTYZL',\n",
       "  'Have a good idea but can’t code? How to find a technical co-founder https://t.co/iH921ZbGot https://t.co/qCcIcTzsxl',\n",
       "  'I just published “What Should Be Done About Health Care in the US” https://t.co/ah1TVyuPs3',\n",
       "  \"@CharlesOrtel The first, basic article. ANONYMOUS real ppl won't fit the bottom 2 categories. It's a worldwide war. https://t.co/zcNhdoNrna\",\n",
       "  'Want To Become A Multi-Millionaire? Do These 14 Things Immediately. | @BenjaminPHardy @TheMissionT https://t.co/7iSBO7yPqT  #PersonalGrowth',\n",
       "  'RT @TheDemCoalition: TAKE ACTION: Here are 15 ways you can fight @RealDonaldTrump right now https://t.co/LbvG5FgP6t #Resist',\n",
       "  '#UK Must Demolish All #Wahhabi #Mosques https://t.co/krEbRBophd #Wahhabism #Salafism #SaudiArabia #ISIS #Taliban #AlQaeda #AlNusrah #ISIL',\n",
       "  'RT @SenKamalaHarris: A threat to the open internet is a threat to California’s economy and workforce. We need to protect #NetNeutrality. ht…',\n",
       "  'RT @novicki_david: I just published “React Isomorphic/Universal App w/NodeJS, Redux, &amp; React Router V4” https://t.co/pn8hDSQYWN',\n",
       "  'RT @AugurProject: Augur Weekly Development Update - July 19th #ethereum #augur #eth #blockchain https://t.co/cUQ9OMkcuq',\n",
       "  'RT @UNITEDWEDREAM: This is what the #DreamAct could mean for you.\\n\\nRT &amp; Tell your friends: https://t.co/xJUCr4L1Nd https://t.co/w10vyiTYZL',\n",
       "  'RT @caitoz: Caitlin Johnstone and David Cobb Respond to Counterpunch\\n\\n@NatCounterPunch\\n\\nhttps://t.co/ebJ4j5Jumn',\n",
       "  'RT @zachhaller: I just published “Huffington Post Writer Squirms When Confronted on Clinton Collusion” https://t.co/5TP4fH24IK',\n",
       "  'RT @waynesutton: “Where are the faces of black female founders, investors and journalists in tech?” by @deborahokenla https://t.co/AwQcpY6d…',\n",
       "  'RT @larabazelon: This is demented and unreal.  \\n“Black Robes and Blackface” by @sfdefender https://t.co/OlMWHDROOM',\n",
       "  '“There are no absolutes in life. And there are no givens. Everything is up for grabs” @Alltopstartups https://t.co/Kcv03fp0K0'],\n",
       " ['RT @Benioff: Attn Microsoft Laid Off Employees. Please send your resume to Salesforce. We are hiring! Email Jobs@Salesforce.com https://t.c…',\n",
       "  'RT @seattletimes: Microsoft’s quarterly results beat analysts’ forecasts as profit more than doubles. https://t.co/MIvMRl6ylc https://t.co/…',\n",
       "  'RT @seattletimes: Son of Cecil the lion killed by a trophy hunter in Zimbabwe. https://t.co/2GleutBzBO',\n",
       "  'How to set up a home bar and drink in the summer fun with OOLA Chili Pepper Vodka via @seattletimes:… https://t.co/ljEYuuNPtD',\n",
       "  \"#Seattle: Illicit skatepark on Green Lake's Duck Island: Cops called on bowl built in bird habitat \\n\\n https://t.co/yVNimbB8Zp\",\n",
       "  \"RT @ACLU_WA: Black people are 7% of Seattle's population, but they received a disproportionate 28% of its jaywalking tickets.  https://t.co…\",\n",
       "  'RT @HSPLSMauiHIgov: 3 new history books, perfect for hard times https://t.co/wI5MnV36Tr via @seattletimes #libraries #read #book #history',\n",
       "  'CIA director: Moscow loves to ‘stick it to America’ https://t.co/5KgViNRSnt',\n",
       "  'RT @seattletimes: Son of Cecil the lion killed by a trophy hunter in Zimbabwe. https://t.co/2GleutBzBO',\n",
       "  'RT @Benioff: Attn Microsoft Laid Off Employees. Please send your resume to Salesforce. We are hiring! Email Jobs@Salesforce.com https://t.c…',\n",
       "  'RT @Benioff: Attn Microsoft Laid Off Employees. Please send your resume to Salesforce. We are hiring! Email Jobs@Salesforce.com https://t.c…',\n",
       "  'RT @alaskawild: #Climatechange is melting sea ice and altering the famed Northwest Passage: https://t.co/GiGPt53UvQ',\n",
       "  'RT @seattletimes: Son of Cecil the lion killed by a trophy hunter in Zimbabwe. https://t.co/2GleutBzBO',\n",
       "  'RT @Benioff: Attn Microsoft Laid Off Employees. Please send your resume to Salesforce. We are hiring! Email Jobs@Salesforce.com https://t.c…',\n",
       "  'RT @seattletimes: Son of Cecil the lion killed by a trophy hunter in Zimbabwe. https://t.co/2GleutBzBO',\n",
       "  'RT @seattletimes: Son of Cecil the lion killed by a trophy hunter in Zimbabwe. https://t.co/2GleutBzBO',\n",
       "  'RT @pnehlen: Wonder if @SpeakerRyan will be asked any tough questions in an employer town hall outside his district? /sarc https://t.co/oU2…',\n",
       "  'Son of Cecil the lion killed by a trophy hunter in Zimbabwe. https://t.co/2GleutBzBO',\n",
       "  'RT @alaskawild: #Climatechange is melting sea ice and altering the famed Northwest Passage: https://t.co/GiGPt53UvQ',\n",
       "  'RT @RyanDivish: Mariners GM Jerry Dipoto discusses the trade for David Phelps, the trade market for starting pitching and more. \\n\\nhttps://t…',\n",
       "  \"RT @ACLU_WA: Black people are 7% of Seattle's population, but they received a disproportionate 28% of its jaywalking tickets.  https://t.co…\",\n",
       "  'RT @RyanDivish: Mariners GM Jerry Dipoto discusses the trade for David Phelps, the trade market for starting pitching and more. \\n\\nhttps://t…',\n",
       "  'RT @RyanDivish: Mariners GM Jerry Dipoto discusses the trade for David Phelps, the trade market for starting pitching and more. \\n\\nhttps://t…',\n",
       "  'White supremacist gets 65 years for killing black man - The Seattle Times https://t.co/caWtkJpv5N',\n",
       "  'RT @ISC2: Number of girls taking AP computer-science exam in U.S. more than doubles https://t.co/Lo2CjUcUI8  via @seattletimes',\n",
       "  'Watch: Mariners general manager Jerry Dipoto discusses trading for David Phelps, the starting…… https://t.co/zx0fJBGTFN',\n",
       "  'RT @ISC2: Number of girls taking AP computer-science exam in U.S. more than doubles https://t.co/Lo2CjUcUI8  via @seattletimes',\n",
       "  'Mariners GM Jerry Dipoto discusses the trade for David Phelps, the trade market for starting pitching and more.… https://t.co/Ke9aouvCjk',\n",
       "  'RT @ISC2: Number of girls taking AP computer-science exam in U.S. more than doubles https://t.co/Lo2CjUcUI8  via @seattletimes',\n",
       "  'RT @ISC2: Number of girls taking AP computer-science exam in U.S. more than doubles https://t.co/Lo2CjUcUI8  via @seattletimes',\n",
       "  'Torn. Increased access=greater long-term impact. But via regressive tax. I ended up voting yes. https://t.co/Ux25CAVTZK via @seattletimes',\n",
       "  \"Congrats @LimeBike for go-ahead to operate in @CityofSeattle. Pertinent info via @seattletimes https://t.co/BQHowr9HFJ. We're glad to help!\",\n",
       "  'RT @seattletimes: City Hall outsider and former mayor, Mike McGinn seeks second chance and political upset in his run for mayor: https://t.…',\n",
       "  'RT @Benioff: Attn Microsoft Laid Off Employees. Please send your resume to Salesforce. We are hiring! Email Jobs@Salesforce.com https://t.c…',\n",
       "  'Trump-proof Seattle now! https://t.co/k0ape77EBK',\n",
       "  'RT @seattletimes: Linkin Park frontman Chester Bennington dies in Los Angeles at 41: https://t.co/ztAgOaNTVj https://t.co/8eU5dBb2VT',\n",
       "  'RT @Benioff: Attn Microsoft Laid Off Employees. Please send your resume to Salesforce. We are hiring! Email Jobs@Salesforce.com https://t.c…',\n",
       "  'RT @Benioff: Attn Microsoft Laid Off Employees. Please send your resume to Salesforce. We are hiring! Email Jobs@Salesforce.com https://t.c…',\n",
       "  'RT @seattletimes: Seattle police are writing fewer jaywalking tickets, but a high rate still is issued to black pedestrians: https://t.co/s…',\n",
       "  'Seattle Storm holds pre-game rally supporting Planned Parenthood:\\n\\nhttps://t.co/ULsMcleVf8',\n",
       "  'RT @ByRosenberg: Amazon has 10 offices totaling 300 stories recently finished, under construction or about to begin in Seattle https://t.co…',\n",
       "  'RT @pnehlen: Wonder if @SpeakerRyan will be asked any tough questions in an employer town hall outside his district? /sarc https://t.co/oU2…',\n",
       "  'Veterans and Human Services levy sent to November ballot: twice as big, more money for… https://t.co/b8Ysz7WvKZ',\n",
       "  'RT @ByRosenberg: Amazon has 10 offices totaling 300 stories recently finished, under construction or about to begin in Seattle https://t.co…',\n",
       "  'RT @seattletimes: Student Voices: My family wanted me to go to college, but I felt guilty. Here’s why. https://t.co/AvQxnp2bJN @educationla…',\n",
       "  'RT @alaskawild: #Climatechange is melting sea ice and altering the famed Northwest Passage: https://t.co/GiGPt53UvQ',\n",
       "  'Dakota Access developer’s new pipeline rankling regulators. Pipeline accidents abound. Stop oil. https://t.co/UXNXAqBk0h via @seattletimes',\n",
       "  \"Downtown Seattle's construction boom surges to new record, with no end in sight #seattle #bhivelabs https://t.co/Y29bi4JtUv\",\n",
       "  'RT @QjQj_Kwon: G-Dragon kicked off the U.S. leg on his recently launched world tour with a performance last night at KeyArena: https://t.co…',\n",
       "  'RT @Benioff: Attn Microsoft Laid Off Employees. Please send your resume to Salesforce. We are hiring! Email Jobs@Salesforce.com https://t.c…',\n",
       "  'RT @QjQj_Kwon: G-Dragon kicked off the U.S. leg on his recently launched world tour with a performance last night at KeyArena: https://t.co…',\n",
       "  'RT @pnehlen: Wonder if @SpeakerRyan will be asked any tough questions in an employer town hall outside his district? /sarc https://t.co/oU2…',\n",
       "  'RT @seattletimes: Linkin Park frontman Chester Bennington dies in Los Angeles at 41: https://t.co/ztAgOaNTVj https://t.co/8eU5dBb2VT',\n",
       "  'RT @Benioff: Attn Microsoft Laid Off Employees. Please send your resume to Salesforce. We are hiring! Email Jobs@Salesforce.com https://t.c…',\n",
       "  'RT @pnehlen: Wonder if @SpeakerRyan will be asked any tough questions in an employer town hall outside his district? /sarc https://t.co/oU2…',\n",
       "  'RT @pnehlen: Wonder if @SpeakerRyan will be asked any tough questions in an employer town hall outside his district? /sarc https://t.co/oU2…',\n",
       "  'Seattle sports has a new power couple. Storm star Sue Bird says she’s gay and opens up about dating Megan Rapinoe.… https://t.co/1uJLA9SvUp',\n",
       "  'RT @seattletimes: A cool, contemporary setting and impressive, interesting northern Vietnamese dishes makes Wicked Chopstix stand out: http…',\n",
       "  \"Illicit skatepark on Green Lake's Duck Island: Cops called on bowl built in bird habitat - The Seattle Times https://t.co/RHisKt3O4I\",\n",
       "  'RT @pnehlen: Wonder if @SpeakerRyan will be asked any tough questions in an employer town hall outside his district? /sarc https://t.co/oU2…',\n",
       "  'Data theft “old school”. When you put your backups in the safe, make sure the safe is bolted down. https://t.co/cC9BVuyBBx',\n",
       "  'RT @pnehlen: Wonder if @SpeakerRyan will be asked any tough questions in an employer town hall outside his district? /sarc https://t.co/oU2…',\n",
       "  'Glacier chief pulled from Facebook founder’s tour of park https://t.co/5436fTJELj',\n",
       "  \"Those commenting pro-con on folks building in Green Lake Park talk of 'kids.' None look under 25; some must be 40. https://t.co/pm5CMFd73E\",\n",
       "  'RT @seattletimes: Microsoft’s quarterly results beat analysts’ forecasts as profit more than doubles. https://t.co/MIvMRl6ylc https://t.co/…',\n",
       "  'RT @iA: “…about 50,000 — or 40 percent — of Microsoft’s roughly 121,500 employees worked in sales…” https://t.co/EosAKUKA0i',\n",
       "  'Old School Olympic National Park! #ThrowbackThursday \\n\\nhttps://t.co/aIGlT0M7bp',\n",
       "  'RT @Benioff: Attn Microsoft Laid Off Employees. Please send your resume to Salesforce. We are hiring! Email Jobs@Salesforce.com https://t.c…',\n",
       "  'RT @ByRosenberg: Downtown Seattle hits a new record construction boom, with no end in sight. 74 projects now, 149 in pipeline https://t.co/…',\n",
       "  'RT @ReadyWA: Number of girls taking AP #ComputerScience exam more than doubles from 2016 to 2017. https://t.co/WdczR8S5zx @codeorg @washing…',\n",
       "  'RT @Benioff: Attn Microsoft Laid Off Employees. Please send your resume to Salesforce. We are hiring! Email Jobs@Salesforce.com https://t.c…',\n",
       "  'RT @Benioff: Attn Microsoft Laid Off Employees. Please send your resume to Salesforce. We are hiring! Email Jobs@Salesforce.com https://t.c…',\n",
       "  'A cool, contemporary setting and impressive, interesting northern Vietnamese dishes makes Wicked Chopstix stand out… https://t.co/zuNKZMWr2J',\n",
       "  'RT @paleomagazine: From the @seattletimes - worth a read, and worth knowing where your food is coming from! https://t.co/7tanUePyjm #eatcle…',\n",
       "  'RT @seattletimes: Student Voices: My family wanted me to go to college, but I felt guilty. Here’s why. https://t.co/AvQxnp2bJN @educationla…',\n",
       "  'A re-review of #ArtoftheTableSEA from @ProviCicero Does it still rate 3 stars? https://t.co/AELfuoYldf via @seattletimes',\n",
       "  \"In Ng Lap Seng trial, former U.N. official claims he didn't know what 'bribe' means... https://t.co/ZAmqgfFcTu\",\n",
       "  'Coconut oil: It’s really not that good for you https://t.co/bKWYGK53jb via @seattletimes',\n",
       "  'Student Voices: My family wanted me to go to college, but I felt guilty. Here’s why. https://t.co/AvQxnp2bJN… https://t.co/qYIZyZgIJ0',\n",
       "  'RT @Benioff: Attn Microsoft Laid Off Employees. Please send your resume to Salesforce. We are hiring! Email Jobs@Salesforce.com https://t.c…',\n",
       "  'Port foreman accused of faking timesheets for $500K salary https://t.co/PDUvn72few',\n",
       "  \"This might throw a wrench in UW's redevelopment plans, but is a win for historic preservation. https://t.co/GyC68xHlBg\",\n",
       "  'RT @AWSP_Principals: What happens now: Key dates in the state’s new McCleary school-funding plan https://t.co/d4lhjka79t \\n\\nNice overview fr…',\n",
       "  'RT @Benioff: Attn Microsoft Laid Off Employees. Please send your resume to Salesforce. We are hiring! Email Jobs@Salesforce.com https://t.c…',\n",
       "  'RT @seattletimes: Linkin Park frontman Chester Bennington dies in Los Angeles at 41: https://t.co/ztAgOaNTVj https://t.co/8eU5dBb2VT',\n",
       "  'Amazon isn’t technically dominant, but it pervades our lives https://t.co/GekrMtMER4 via @seattletimes',\n",
       "  'RT @pnehlen: Wonder if @SpeakerRyan will be asked any tough questions in an employer town hall outside his district? /sarc https://t.co/oU2…',\n",
       "  'Microsoft’s results beat analysts’ forecasts as profit more than doubles: The Redmond company’s quarterly profit… https://t.co/eRdNT5ffq2',\n",
       "  'Turning a corner in Ballard https://t.co/CGjhQkv6Yv via @seattletimes',\n",
       "  'RT @Benioff: Attn Microsoft Laid Off Employees. Please send your resume to Salesforce. We are hiring! Email Jobs@Salesforce.com https://t.c…',\n",
       "  'RT @seattletimes: Seattle police are writing fewer jaywalking tickets, but a high rate still is issued to black pedestrians: https://t.co/s…',\n",
       "  'RT @Benioff: Attn Microsoft Laid Off Employees. Please send your resume to Salesforce. We are hiring! Email Jobs@Salesforce.com https://t.c…',\n",
       "  'RT @Benioff: Attn Microsoft Laid Off Employees. Please send your resume to Salesforce. We are hiring! Email Jobs@Salesforce.com https://t.c…',\n",
       "  'King Co voters should reject the arts levy  because there are other, more-pressing priorities for its tax dollars.… https://t.co/7PXJ4wRk6u',\n",
       "  'RT @Benioff: Attn Microsoft Laid Off Employees. Please send your resume to Salesforce. We are hiring! Email Jobs@Salesforce.com https://t.c…',\n",
       "  'RT @seattletimes: Linkin Park frontman Chester Bennington dies in Los Angeles at 41: https://t.co/ztAgOaNTVj https://t.co/8eU5dBb2VT',\n",
       "  'RT @seattletimes: Seattle police are writing fewer jaywalking tickets, but a high rate still is issued to black pedestrians: https://t.co/s…',\n",
       "  'RT @ByRosenberg: Amazon has 10 offices totaling 300 stories recently finished, under construction or about to begin in Seattle https://t.co…',\n",
       "  'Mariners vs. Yankees: Live updates as M’s open pivotal series vs. Wild Card-leading New York… https://t.co/080IzjmjUJ',\n",
       "  'Linkin Park frontman Chester Bennington dies in Los Angeles at 41: https://t.co/ztAgOaNTVj https://t.co/8eU5dBb2VT'],\n",
       " [\"RT @WomenintheWorld: 'Handmaid's Tale' author Margaret Atwood gives ominous warning about what the future could hold for America: https://t…\",\n",
       "  'RT @nelisabthtaylor: Opinion | China and India Make Big Strides on Climate Change https://t.co/wV8A3WFfWC',\n",
       "  'RT @KamalaHarris: Senator Rand Paul and I have introduced a bill to encourage states to reform the money bail system.\\nhttps://t.co/5gwBDDBU…',\n",
       "  'RT @nytimes: Opinion: Kamala Harris and Rand Paul want to \"reform a bail system that is discriminatory and wasteful\" https://t.co/yAT2Ys1Thp',\n",
       "  'RT @nytimes: Cecil the Lion’s son Xanda killed by a trophy hunter in Zimbabwe https://t.co/TBi8nOL8Up',\n",
       "  'RT @SunFoundation: \"“Do you know how many conflicts of interests there are?”–@POTUS https://t.co/TJqP0mX5GM 6 No, but we\\'ve found 625: http…',\n",
       "  'RT @nytimes: Ram Nath Kovind, a member of a community once known as \"untouchables,\" was elected president of India https://t.co/sAoBqzJ3g1',\n",
       "  'RT @The_UnSilent_: This is what a scared, wannabe dictator acts like...\\n\\nMueller is about to show him what a REAL AMERICA acts like... http…',\n",
       "  'RT @kcgatlarge: \"Reckless disregard\" = XOM motto  \"Exxon Mobil Fined for Violating Sanctions on Russia Under Tillerson\" https://t.co/fX4crM…',\n",
       "  'RT @scott_tobias: See DUNKIRK in 70mm if you can. The other nine Christopher Nolan films are streaming. My pocket guide for @Watching: http…',\n",
       "  \"Bipartisanship would be a terrible opportunity to waste! Let's support true statesmanship! Share this! https://t.co/betpn7DrFj\",\n",
       "  'RT @Amy_Siskind: 2 observations:\\n1. these are rantings of a madman\\n2. believes he is accountable to no one\\n-&gt; dangerous authoritarian https…',\n",
       "  'RT @nytimes: Cecil the Lion’s son Xanda killed by a trophy hunter in Zimbabwe https://t.co/TBi8nOL8Up',\n",
       "  'RT @christianna_j: Incredible. Amazing. Awe inspiring. Dang it @nytimes this is exactly how corrections should be done A+ work https://t.co…',\n",
       "  'RT @markberman: In his NYT interview, Trump brought up Hillary in response to the first question (the question was how was lunch) https://t…',\n",
       "  'RT @chrislhayes: This is smoking gun evidence of collusion, right? https://t.co/KraYNekLyb',\n",
       "  'RT @jessesingal: Krugman from 2014 on why the \"skills gap\" idea is false but won\\'t die\\n\\nJobs and Skills and Zombies https://t.co/ajIEsRhWbB',\n",
       "  'RT @keithboykin: This is the best 3-paragraph description of the 2016 election and the rise of Trump. Trump Is His Own Worst Enemy https://…',\n",
       "  'RT @thee_stupid: It costs taxpayers $14Billion/yr to imprison folks awaiting trial – mostly for nonviolent... https://t.co/qgW4ryLooi by #V…',\n",
       "  \"RT @NYTSports: Scoliosis curved Usain Bolt's spine to the right and made his right leg half an inch shorter than his left. https://t.co/xpK…\",\n",
       "  'RT @NYTArchives: One giant leap for mankind, on this day in 1969. https://t.co/lrkiKBUr3f https://t.co/naQQ9bVIoo',\n",
       "  \"RT @kylegriffin1: NYT: Records show Manafort was in debt to pro-Russia interests by as much as $17M before joining Trump's campaign. https:…\",\n",
       "  'RT @verainstitute: A joint op-ed by Senators @SenKamalaHarris and @RandPaul: \"To Shrink Jails, Let’s Reform Bail\" https://t.co/gh47hXk4Fy h…',\n",
       "  '\"‘Confederate’ Poses Test Over Race for ‘Game of Thrones’ Creators and HBO\" https://t.co/nL2ykGqtnC https://t.co/G7q06JMRLC',\n",
       "  'RT @Pibble_Life: Why Are Dogs So Friendly? The Answer May Be in 2 Genes #DogLove #CanineScience #DogBehaviour #DogGenes https://t.co/CAIOgD…',\n",
       "  'RT @tiffanyshlain: Israeli Aid Gives an Unexpected ‘Glimmer of Hope’ for Syrians, via @nytimes https://t.co/L642fPEX45',\n",
       "  '\"Trump Picks Richard Grenell, Former Diplomatic Aide, as Envoy to Germany\" https://t.co/2fc49MPLvB https://t.co/G4OL0mpavV',\n",
       "  '2/ “I basically have spent a conflict-free life,” #OJSimpson said at his parole hearing https://t.co/kC0ehYbq5J\\r\\rUhhhhh....',\n",
       "  'RT @nytimes: Cecil the Lion’s son Xanda killed by a trophy hunter in Zimbabwe https://t.co/TBi8nOL8Up',\n",
       "  '\"Turkey Quake to Cause Small Tsunami-EMSC\" https://t.co/F7EYi8Z7Dd https://t.co/u7wTjyIKJj',\n",
       "  'RT @nytimes: The woman arrested for wearing a crop top and skirt in public in Saudi Arabia has been released https://t.co/BjCwiRtVJd',\n",
       "  'RT @SenKamalaHarris: Senator @RandPaul and I think it’s time for a nonpartisan approach to criminal justice reform. Retweet if you agree. h…',\n",
       "  'RT @SenKamalaHarris: Senator @RandPaul and I think it’s time for a nonpartisan approach to criminal justice reform. Retweet if you agree. h…',\n",
       "  'RT @ThomasErdbrink: Opinion | Avoiding War With Iran https://t.co/wIL0KdWFPB',\n",
       "  'RT @PPFA: Who Should You Listen to on Abortion? People Who’ve Had Them: https://t.co/TbtvvLyCfT',\n",
       "  'RT @jbsgreenberg: BREAKING: Banking regulators are reviewing hundreds of millions of dollars in loans made to Trump. https://t.co/Pt1iscicMx',\n",
       "  \"@MichaelSalfino Thinking of John McCain &amp; what might have been for the GOP if not for the Bush dirty politics in '00\\nhttps://t.co/b4Hg3PVBF9\",\n",
       "  \"RT @tribelaw: Threatening to fire Mueller if M looks into Junior's or Kushner's finances is a dead giveaway that the jig is up: https://t.c…\",\n",
       "  'RT @SenKamalaHarris: Senator @RandPaul and I think it’s time for a nonpartisan approach to criminal justice reform. Retweet if you agree. h…',\n",
       "  'RT @jennycohn1: 18. Religious Right, Russia, Autocratic Theocracy. Trump is just a means to a nefarious end. https://t.co/3LBGlAvzmK',\n",
       "  '\"Exclusive: U.S. Toughens Stance on Foreign Deals in Blow to China\\'s Buying Spree\" by REUTERS via NYT https://t.co/TwuvKFZp4E',\n",
       "  'RT @NYTArchives: One giant leap for mankind, on this day in 1969. https://t.co/lrkiKBUr3f https://t.co/naQQ9bVIoo',\n",
       "  '\"Exclusive: U.S. Toughens Stance on Foreign Deals in Blow to China\\'s Buying Spree\" by REUTERS via NYT https://t.co/Wg5OUvd9Yu',\n",
       "  'Christopher Nolan’s brilliant ‘Dunkirk’ Is a Tour de Force War Movie, Both Sweeping and Intimate… https://t.co/azB9xJKBXy',\n",
       "  'Cecil the Lion’s Son Xanda Killed by a Trophy Hunter https://t.co/VjNp99otJ1',\n",
       "  'RT @NYTBen: ISIS Militant Kills Mother on Group’s Orders, Activists Say https://t.co/A3qSpRKqaH Meanwhile, Quran 17:23-24 says: https://t.c…',\n",
       "  'RT @nytimes: Chester Bennington, the lead singer of Linkin Park, is dead at 41. His death is being investigated as a suicide. https://t.co/…',\n",
       "  'RT @nytimes: While Rex Tillerson led Exxon Mobil, it \"demonstrated reckless disregard\" for sanctions, Treasury Department says https://t.co…',\n",
       "  'RT @SenKamalaHarris: We desperately need #BailReform. Our bail system is discriminatory, wasteful, and fails the public safety test. https:…',\n",
       "  'The Immense, Eternal Footprint Humanity Leaves on Earth: Plastics https://t.co/lpl1UBDWk7',\n",
       "  'RT @AdamSerwer: The president might as well put up a neon sign with an arrow https://t.co/agSJbQi6iD https://t.co/aYTJulzNtl',\n",
       "  'Family-Friendly Laws Are Being Passed, but Not by Trump’s Team https://t.co/dFS3a5mHra via @UpshotNYT',\n",
       "  'RT @nytimes: Cecil the Lion’s son Xanda killed by a trophy hunter in Zimbabwe https://t.co/TBi8nOL8Up',\n",
       "  'RT @redwinepolitics: Charles Blow, as usual, nails it! https://t.co/cTLciMijut',\n",
       "  'RT @nytimes: Cecil the Lion’s son Xanda killed by a trophy hunter in Zimbabwe https://t.co/TBi8nOL8Up',\n",
       "  'Chester Bennington, Linkin Park Singer, Is Dead at 41 https://t.co/iZQ6vpmrsp OK WAIT WHAT!?!?! WHAT ....WHAT',\n",
       "  'RT @nytimes: 29 minutes from New York to Washington? Elon Musk teases a new Hyperloop. https://t.co/IS5ubwub8c',\n",
       "  'RT @MaxBoot: Interview makes clear that Trump is the biggest threat US faces. He is declaring war on rule of law. https://t.co/R9MwYN1Pnu',\n",
       "  \"RT @kyledcheney: MORE NEWS from the Times: Trump's finances are under investigation and Mueller may get Deutsche Bank records. https://t.co…\",\n",
       "  'RT @jbsgreenberg: BREAKING: Banking regulators are reviewing hundreds of millions of dollars in loans made to Trump. https://t.co/Pt1iscicMx',\n",
       "  'RT @BraddJaffy: NYT: Paul Manafort was in debt to pro-Russia interests by as much as $17 million before he joined the Trump campaign https:…',\n",
       "  'RT @nytimes: 227 cities and counties, 9 states and about 1,650 businesses are moving to uphold U.S. commitments in the Paris pact https://t…',\n",
       "  'RT @endangered: Cecil the Lion’s Son Xanda Killed by a Trophy Hunter https://t.co/WAMx6lJY6v',\n",
       "  'RT @JohnnyInOakland: @VP @POTUS Your boss has also lied. A lot. Believe me. https://t.co/kVPcMO5Uhu',\n",
       "  'RT @nytimes: Cecil the Lion’s son Xanda killed by a trophy hunter in Zimbabwe https://t.co/TBi8nOL8Up',\n",
       "  \"Opinion | The Men Who Never Have to Grow Up https://t.co/0PtFkTySU9 @jenniferweiner please write a whole column about Matt Klam's WHO'S RICH\",\n",
       "  'RT @ericuman: When “misleading” is journo-polite for “false.” \\n\\nhttps://t.co/mZ32RSNJxC',\n",
       "  \"RT @nytopinion: Op-Ed by Kamala Harris and Rand Paul: Jails are stuffed with people too poor to pay bail. We can't let that go on. https://…\",\n",
       "  'RT @rezaaslan: The cops better not look into my finances or else...is what literally the dumbest criminal in the world would say. https://t…',\n",
       "  'RT @SenKamalaHarris: Senator @RandPaul and I think it’s time for a nonpartisan approach to criminal justice reform. Retweet if you agree. h…',\n",
       "  '\"John McCain’s Brain Cancer, and Mine\" by JESSICA MORRIS via NYT https://t.co/TOhOarmNKN',\n",
       "  'RT @CreditRepairSys: another good article from New York Times. Little Credit History? Lenders Are Taking a New Look at You https://t.co/mw7…',\n",
       "  \"RT @ZekeJMiller: The quotes alone don't do it justice. Listen to the audio of Trump's Sessions frustration. Wow.  https://t.co/07nRdv5EwN\",\n",
       "  'Review: ‘Dunkirk’ Is a Tour de Force War Movie, Both Sweeping and Intimate https://t.co/bT2Y7VOyrs',\n",
       "  'RT @SenKamalaHarris: We desperately need #BailReform. Our bail system is discriminatory, wasteful, and fails the public safety test. https:…',\n",
       "  'RT @kylegriffin1: Kamala Harris and Rand Paul have introduced a bill to \"reform a bail system that is discriminatory and wasteful\". https:/…',\n",
       "  'RT @nytimes: Cecil the Lion’s son Xanda killed by a trophy hunter in Zimbabwe https://t.co/TBi8nOL8Up',\n",
       "  \"RT @NYTArchives: A look back at how The Times covered O.J. Simpson's murder trial. https://t.co/58uepgzkDJ https://t.co/ma6TuZcudg\",\n",
       "  'Exxon Mobil Fined for Violating Sanctions on Russia Under Tillerson https://t.co/NLXPsBXVFg',\n",
       "  \"RT @jttozer: Syrian refugees came to Fresno. Fresno wasn't ready. https://t.co/d9vtLI8aIx\",\n",
       "  'One of the better columns about these weird, disturbing times.\"Everything You Need to Understand About Trump&amp; Russia\"https://t.co/RMCFpII7AV',\n",
       "  'Our guide to new art shows, and some that will be closing soon. https://t.co/RZRriwZoFQ #museum #news',\n",
       "  'RT @snicknight: A Bill Funding Arts and Humanities Endowments Passes House Committee https://t.co/03Cmq4jvqg',\n",
       "  'RT @tedleo: The great @modernistwitch on trauma, true crime, and the great @KarenKilgariff: https://t.co/588Rbu9Faf',\n",
       "  'RT @nytimes: A cheap fix for climate change? Pay people not to chop down trees. https://t.co/fkhYNUYhxQ',\n",
       "  'RT @Bernlennials: Trump: \"you\\'re 21 years old, you start working and you\\'re paying $12 a year for insurance\" https://t.co/XNnzZ7XuV2 https:…',\n",
       "  \"RT @Sheraleeable: Trump wouldn't have appointed Sessions if he'd known he would recuse himself!\\nhttps://t.co/L9pBaHHiUb\",\n",
       "  'RT @MaxBoot: Interview makes clear that Trump is the biggest threat US faces. He is declaring war on rule of law. https://t.co/R9MwYN1Pnu',\n",
       "  '#solarpower  Why Fight Solar Power? - New York Times https://t.co/F4atKT7KBE  #onbeon #renewables https://t.co/SsrWmzRJuw',\n",
       "  '\"8 Killed in Gunbattle, Clashes in Southern Mexico City\" by THE ASSOCIATED PRESS via NYT https://t.co/JSfbqAyhDR',\n",
       "  'RT @SenKamalaHarris: Senator @RandPaul and I think it’s time for a nonpartisan approach to criminal justice reform. Retweet if you agree. h…',\n",
       "  'RT @nytpolitics: During a 50-minute interview, President Trump gave a number of misleading and distorted answers on major issues. https://t…',\n",
       "  'RT @SenKamalaHarris: Senator @RandPaul and I think it’s time for a nonpartisan approach to criminal justice reform. Retweet if you agree. h…',\n",
       "  'RT @BraddJaffy: NYT: Paul Manafort was in debt to pro-Russia interests by as much as $17 million before he joined the Trump campaign https:…',\n",
       "  'RT @nytimes: Cecil the Lion’s son Xanda killed by a trophy hunter in Zimbabwe https://t.co/TBi8nOL8Up',\n",
       "  'Trump Picks Richard Grenell, Former Diplomatic Aide, as Envoy to #Germany https://t.co/GLhBiKABq4 #Europe',\n",
       "  'On Reddit, Intimate Glimpses of Addicts in Thrall to Opioids: another important heroin story https://t.co/Ds2QFTh9VE',\n",
       "  'This sickens me. https://t.co/8a5sTwGgE7',\n",
       "  'RT @SenKamalaHarris: We desperately need #BailReform. Our bail system is discriminatory, wasteful, and fails the public safety test. https:…',\n",
       "  'RT @OZ_Shim: Well done #Israel for providing unconditional humanitarian assistance to residents of an enemy state\\n#JewishValues \\nhttps://t.…']]"
      ]
     },
     "execution_count": 39,
     "metadata": {},
     "output_type": "execute_result"
    }
   ],
   "source": [
    "tweet_text"
   ]
  },
  {
   "cell_type": "markdown",
   "metadata": {},
   "source": [
    "<h3>Twitter Search with Tweepy...</h3>"
   ]
  },
  {
   "cell_type": "code",
   "execution_count": 48,
   "metadata": {},
   "outputs": [
    {
     "ename": "ImportError",
     "evalue": "cannot import name 'OAuthHandler'",
     "output_type": "error",
     "traceback": [
      "\u001b[0;31m---------------------------------------------------------------------------\u001b[0m",
      "\u001b[0;31mImportError\u001b[0m                               Traceback (most recent call last)",
      "\u001b[0;32m<ipython-input-48-539b7ac270e9>\u001b[0m in \u001b[0;36m<module>\u001b[0;34m()\u001b[0m\n\u001b[1;32m      1\u001b[0m \u001b[0;32mimport\u001b[0m \u001b[0mtwitter\u001b[0m\u001b[0;34m\u001b[0m\u001b[0m\n\u001b[0;32m----> 2\u001b[0;31m \u001b[0;32mfrom\u001b[0m \u001b[0mtweepy\u001b[0m \u001b[0;32mimport\u001b[0m \u001b[0mOAuthHandler\u001b[0m\u001b[0;34m\u001b[0m\u001b[0m\n\u001b[0m",
      "\u001b[0;31mImportError\u001b[0m: cannot import name 'OAuthHandler'"
     ]
    }
   ],
   "source": [
    "import twitter\n",
    "from tweepy import OAuthHandler\n"
   ]
  },
  {
   "cell_type": "code",
   "execution_count": 49,
   "metadata": {},
   "outputs": [
    {
     "ename": "AttributeError",
     "evalue": "module 'tweepy' has no attribute 'OAuthHandler'",
     "output_type": "error",
     "traceback": [
      "\u001b[0;31m---------------------------------------------------------------------------\u001b[0m",
      "\u001b[0;31mAttributeError\u001b[0m                            Traceback (most recent call last)",
      "\u001b[0;32m<ipython-input-49-14516d6ecdcb>\u001b[0m in \u001b[0;36m<module>\u001b[0;34m()\u001b[0m\n\u001b[1;32m      6\u001b[0m \u001b[0;31m#auth = tweepy.OAuthHandler(token, secret)\u001b[0m\u001b[0;34m\u001b[0m\u001b[0;34m\u001b[0m\u001b[0m\n\u001b[1;32m      7\u001b[0m \u001b[0;34m\u001b[0m\u001b[0m\n\u001b[0;32m----> 8\u001b[0;31m \u001b[0mauth\u001b[0m \u001b[0;34m=\u001b[0m \u001b[0mtweepy\u001b[0m\u001b[0;34m.\u001b[0m\u001b[0mOAuthHandler\u001b[0m\u001b[0;34m(\u001b[0m\u001b[0mconsumer_key\u001b[0m\u001b[0;34m,\u001b[0m \u001b[0mconsumer_secret\u001b[0m\u001b[0;34m)\u001b[0m\u001b[0;34m\u001b[0m\u001b[0m\n\u001b[0m\u001b[1;32m      9\u001b[0m \u001b[0mauth\u001b[0m\u001b[0;34m.\u001b[0m\u001b[0mset_access_token\u001b[0m\u001b[0;34m(\u001b[0m\u001b[0maccess_token_key\u001b[0m\u001b[0;34m,\u001b[0m \u001b[0maccess_token_secret\u001b[0m\u001b[0;34m)\u001b[0m\u001b[0;34m\u001b[0m\u001b[0m\n\u001b[1;32m     10\u001b[0m \u001b[0mapi\u001b[0m \u001b[0;34m=\u001b[0m \u001b[0mtweepy\u001b[0m\u001b[0;34m.\u001b[0m\u001b[0mAPI\u001b[0m\u001b[0;34m(\u001b[0m\u001b[0mauth\u001b[0m\u001b[0;34m)\u001b[0m\u001b[0;34m\u001b[0m\u001b[0m\n",
      "\u001b[0;31mAttributeError\u001b[0m: module 'tweepy' has no attribute 'OAuthHandler'"
     ]
    }
   ],
   "source": [
    "consumer_key='K2BpgbXOOB8HDIXBBOGIKpEMi'\n",
    "consumer_secret='TTIRfgqjN2ZM38yskWPtRRaO5iUvEUOTPho56M59OqmjkzzFZ7',\n",
    "access_token_key='888285134817968129-BGmo5rRDlaP2iz9r8hgUwuETOoGQ7WD',\n",
    "access_token_secret='CO5XjAT8GYknxdvWwgD8PeZVK9UNqzUB1YpE8K9rogJSr'\n",
    "\n",
    "#auth = tweepy.OAuthHandler(token, secret)\n",
    "\n",
    "auth = tweepy.OAuthHandler(consumer_key, consumer_secret)\n",
    "auth.set_access_token(access_token_key, access_token_secret)\n",
    "api = tweepy.API(auth)\n",
    "search_results = api.search(q=\"hello\", count=100)"
   ]
  },
  {
   "cell_type": "code",
   "execution_count": null,
   "metadata": {
    "collapsed": true
   },
   "outputs": [],
   "source": []
  }
 ],
 "metadata": {
  "kernelspec": {
   "display_name": "Python 3",
   "language": "python",
   "name": "python3"
  },
  "language_info": {
   "codemirror_mode": {
    "name": "ipython",
    "version": 3
   },
   "file_extension": ".py",
   "mimetype": "text/x-python",
   "name": "python",
   "nbconvert_exporter": "python",
   "pygments_lexer": "ipython3",
   "version": "3.6.1"
  }
 },
 "nbformat": 4,
 "nbformat_minor": 2
}
