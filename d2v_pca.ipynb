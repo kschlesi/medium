{
 "cells": [
  {
   "cell_type": "markdown",
   "metadata": {
    "collapsed": true
   },
   "source": [
    "<h3>PCA on doc2vec</h3>"
   ]
  },
  {
   "cell_type": "code",
   "execution_count": 3,
   "metadata": {},
   "outputs": [],
   "source": [
    "import pickle\n",
    "import numpy as np\n",
    "import pandas as pd\n",
    "#from gensim.models.doc2vec import Doc2Vec\n",
    "from sklearn.decomposition import PCA\n",
    "#from sklearn.manifold import TSNE\n",
    "#from gensim.models import Doc2Vec\n",
    "#from sqlalchemy import create_engine\n",
    "#from sqlalchemy_utils import database_exists, create_database\n",
    "#import psycopg2\n"
   ]
  },
  {
   "cell_type": "code",
   "execution_count": 4,
   "metadata": {},
   "outputs": [
    {
     "name": "stdout",
     "output_type": "stream",
     "text": [
      "d2v array loaded\n"
     ]
    }
   ],
   "source": [
    "dfS_raw = pd.read_csv('d2v_array_nostem.csv',index_col='level_0')\n",
    "\n",
    "print('d2v array loaded')\n",
    "\n",
    "with open('startup_sentence_bool.pkl','rb') as f:\n",
    "    startup_sentence_bool = pickle.load(f)\n",
    "\n",
    "# grab smaller array...\n",
    "dfS_raw = dfS_raw[startup_sentence_bool]\n",
    "d2v_array = dfS_raw[dfS_raw.columns[8:]].as_matrix()\n",
    "\n",
    "# dimensionality reduction\n",
    "svd = PCA()\n",
    "svd_transform = svd.fit_transform(d2v_array)\n",
    "svd_covariance = svd.get_covariance()"
   ]
  },
  {
   "cell_type": "code",
   "execution_count": 6,
   "metadata": {},
   "outputs": [
    {
     "data": {
      "text/plain": [
       "(95631, 92)"
      ]
     },
     "execution_count": 6,
     "metadata": {},
     "output_type": "execute_result"
    }
   ],
   "source": [
    "svd_transform.shape"
   ]
  },
  {
   "cell_type": "code",
   "execution_count": 9,
   "metadata": {},
   "outputs": [
    {
     "data": {
      "image/png": "[encoded data removed]",
      "text/plain": [
       "<matplotlib.figure.Figure at 0x115ca3ef0>"
      ]
     },
     "metadata": {},
     "output_type": "display_data"
    }
   ],
   "source": [
    "from matplotlib import pyplot as plt\n",
    "\n",
    "plt.figure();\n",
    "plt.plot(svd.explained_variance_)\n",
    "plt.show()"
   ]
  },
  {
   "cell_type": "markdown",
   "metadata": {},
   "source": [
    "<h3>Save the first ~20 components as features</h3>"
   ]
  },
  {
   "cell_type": "code",
   "execution_count": null,
   "metadata": {},
   "outputs": [],
   "source": [
    "from bhtsne import tsne\n",
    "\n",
    "X = svd_transform[:,0:10]\n",
    "d2v_tsne = tsne(X)\n",
    "\n",
    "#tsne_model = TSNE(n_components=2, verbose=1, random_state=0, method='exact')\n",
    "#d2v_tsne = tsne_model.fit_transform(X)"
   ]
  },
  {
   "cell_type": "code",
   "execution_count": 14,
   "metadata": {},
   "outputs": [
    {
     "data": {
      "text/plain": [
       "array([[ 0.01438293, -0.0006965 ,  0.02341549, ..., -0.00791552,\n",
       "         0.00193586, -0.0020166 ],\n",
       "       [-0.18164579,  0.0909568 ,  0.10127731, ..., -0.02128773,\n",
       "         0.03614238, -0.06603926],\n",
       "       [-0.13525227, -0.0020037 , -0.01084557, ...,  0.03822326,\n",
       "        -0.00069419,  0.00396056],\n",
       "       ..., \n",
       "       [ 0.03300583, -0.02258857,  0.00394907, ..., -0.001831  ,\n",
       "        -0.02932883,  0.02671359],\n",
       "       [ 0.07148994,  0.0076044 , -0.00481205, ..., -0.00039351,\n",
       "        -0.00754968,  0.00290538],\n",
       "       [ 0.07295971,  0.05795162,  0.00897265, ...,  0.00482203,\n",
       "        -0.00777746,  0.01047334]])"
      ]
     },
     "execution_count": 14,
     "metadata": {},
     "output_type": "execute_result"
    }
   ],
   "source": [
    "X"
   ]
  },
  {
   "cell_type": "code",
   "execution_count": 15,
   "metadata": {},
   "outputs": [
    {
     "data": {
      "text/plain": [
       "array([[ -1.10857533e-02,  -1.27997659e-02,   5.51756145e-03, ...,\n",
       "         -1.68262534e-02,  -4.33239853e-03,  -3.27521004e-03],\n",
       "       [  1.52469129e-05,   4.25514914e-02,  -5.63123859e-02, ...,\n",
       "         -1.60342213e-02,  -1.10026440e-02,  -4.97857928e-02],\n",
       "       [ -7.03018438e-03,   6.72805589e-04,   7.63073890e-03, ...,\n",
       "         -8.74582771e-03,  -2.68143509e-03,   2.34493017e-02],\n",
       "       ..., \n",
       "       [ -3.08697089e-03,  -1.02080489e-02,   4.19286126e-03, ...,\n",
       "         -7.62403663e-03,  -1.45771094e-02,   1.88700911e-02],\n",
       "       [ -1.18870186e-02,  -2.45636608e-02,   9.34528094e-03, ...,\n",
       "         -1.53759876e-02,  -2.49823276e-02,   3.88881471e-03],\n",
       "       [ -6.40627043e-03,  -2.09177658e-02,   2.66766455e-02, ...,\n",
       "         -1.01689864e-02,  -1.42086810e-02,  -4.61672340e-03]])"
      ]
     },
     "execution_count": 15,
     "metadata": {},
     "output_type": "execute_result"
    }
   ],
   "source": [
    "d2v_array"
   ]
  },
  {
   "cell_type": "code",
   "execution_count": null,
   "metadata": {
    "collapsed": true
   },
   "outputs": [],
   "source": []
  }
 ],
 "metadata": {
  "kernelspec": {
   "display_name": "Python 3",
   "language": "python",
   "name": "python3"
  },
  "language_info": {
   "codemirror_mode": {
    "name": "ipython",
    "version": 3
   },
   "file_extension": ".py",
   "mimetype": "text/x-python",
   "name": "python",
   "nbconvert_exporter": "python",
   "pygments_lexer": "ipython3",
   "version": "3.6.1"
  }
 },
 "nbformat": 4,
 "nbformat_minor": 2
}
