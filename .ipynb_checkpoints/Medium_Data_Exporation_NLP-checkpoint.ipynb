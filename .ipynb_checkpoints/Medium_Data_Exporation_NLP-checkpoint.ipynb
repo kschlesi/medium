{
 "cells": [
  {
   "cell_type": "markdown",
   "metadata": {},
   "source": [
    "<h3>Medium Data Exploration and NLP</h3>\n",
    "<ul>\n",
    "<li>Pull in data from `medium` db</li>\n",
    "<li>Visualize data and missing elements</li>\n",
    "<li>Perform basic NLP pipeline</li>\n",
    "<li>Create a short list of features for prediction</li>\n",
    "    <ul>\n",
    "    <li>word count</li>\n",
    "    <li>paragraph count</li>\n",
    "    <li>position of highlight in document</li>\n",
    "    <li>frequency/importance of highlight words</li>\n",
    "    <li>sentiment of highlight words</li>\n",
    "    <li>word categories (LDA, word2vec) in highlight text v. title</li>\n",
    "    <li>words (LDA, word2vec) in highlight text v. article</li>\n",
    "    <li>likes, number of comments, etc.</li>\n",
    "    </ul>\n",
    "<li>Inspect features and understand their distributions / relationships</li>\n",
    "<li>Try a simple logistic regression model</li>\n",
    "<li>Improve with up/down sampling?</li>\n",
    "</ul>\n"
   ]
  },
  {
   "cell_type": "code",
   "execution_count": 136,
   "metadata": {
    "collapsed": true
   },
   "outputs": [],
   "source": [
    "import pandas as pd\n",
    "from nltk.corpus import stopwords\n",
    "from nltk.tokenize import RegexpTokenizer\n",
    "from sqlalchemy import create_engine\n",
    "from sqlalchemy_utils import database_exists, create_database\n",
    "import psycopg2\n",
    "import numpy as np\n",
    "import matplotlib.pyplot as plt\n",
    "import string"
   ]
  },
  {
   "cell_type": "code",
   "execution_count": 2,
   "metadata": {},
   "outputs": [
    {
     "name": "stdout",
     "output_type": "stream",
     "text": [
      "postgres://kimberly@localhost/medium\n"
     ]
    }
   ],
   "source": [
    "# connect to postgresql db\n",
    "username = 'kimberly'\n",
    "dbname = 'medium'\n",
    "\n",
    "dbe = create_engine('postgres://%s@localhost/%s'%(username,dbname))\n",
    "print(dbe.url)"
   ]
  },
  {
   "cell_type": "code",
   "execution_count": 3,
   "metadata": {},
   "outputs": [
    {
     "name": "stdout",
     "output_type": "stream",
     "text": [
      "(5268, 13)\n"
     ]
    },
    {
     "data": {
      "text/html": [
       "<div>\n",
       "<style>\n",
       "    .dataframe thead tr:only-child th {\n",
       "        text-align: right;\n",
       "    }\n",
       "\n",
       "    .dataframe thead th {\n",
       "        text-align: left;\n",
       "    }\n",
       "\n",
       "    .dataframe tbody tr th {\n",
       "        vertical-align: top;\n",
       "    }\n",
       "</style>\n",
       "<table border=\"1\" class=\"dataframe\">\n",
       "  <thead>\n",
       "    <tr style=\"text-align: right;\">\n",
       "      <th></th>\n",
       "      <th>title</th>\n",
       "      <th>popdate</th>\n",
       "      <th>url</th>\n",
       "      <th>userid</th>\n",
       "      <th>username</th>\n",
       "      <th>highlight</th>\n",
       "      <th>nlikes</th>\n",
       "      <th>ncomments</th>\n",
       "      <th>ntags</th>\n",
       "      <th>origdb</th>\n",
       "      <th>tags</th>\n",
       "      <th>text</th>\n",
       "      <th>npar</th>\n",
       "    </tr>\n",
       "    <tr>\n",
       "      <th>postid</th>\n",
       "      <th></th>\n",
       "      <th></th>\n",
       "      <th></th>\n",
       "      <th></th>\n",
       "      <th></th>\n",
       "      <th></th>\n",
       "      <th></th>\n",
       "      <th></th>\n",
       "      <th></th>\n",
       "      <th></th>\n",
       "      <th></th>\n",
       "      <th></th>\n",
       "      <th></th>\n",
       "    </tr>\n",
       "  </thead>\n",
       "  <tbody>\n",
       "    <tr>\n",
       "      <th>1015a0f4961d</th>\n",
       "      <td>Day One: President Obama and the First Family ...</td>\n",
       "      <td>2016-03-21</td>\n",
       "      <td>https://medium.com/@ObamaWhiteHouse/day-one-pr...</td>\n",
       "      <td>ca9f8f16893b</td>\n",
       "      <td>The Obama White House</td>\n",
       "      <td>Today, Air Force One touched down here in Hava...</td>\n",
       "      <td>336</td>\n",
       "      <td>15</td>\n",
       "      <td>3.0</td>\n",
       "      <td>3.0</td>\n",
       "      <td>Cuba,Twitter,Cuba Trip</td>\n",
       "      <td>¡Hola desde cuba! Today, Air Force One touched...</td>\n",
       "      <td>20.0</td>\n",
       "    </tr>\n",
       "    <tr>\n",
       "      <th>101a407e8c61</th>\n",
       "      <td>You don’t ‘make it’ — it makes you.</td>\n",
       "      <td>2016-06-02</td>\n",
       "      <td>https://medium.com/the-mission/you-dont-make-i...</td>\n",
       "      <td>5ce28105ffbc</td>\n",
       "      <td>Jon Westenberg</td>\n",
       "      <td>You don’t ‘make it’ — it makes you.</td>\n",
       "      <td>549</td>\n",
       "      <td>37</td>\n",
       "      <td>3.0</td>\n",
       "      <td>3.0</td>\n",
       "      <td>Entrepreneurship,Startup,Life</td>\n",
       "      <td>I always wanted to make it. I grew up dreaming...</td>\n",
       "      <td>21.0</td>\n",
       "    </tr>\n",
       "    <tr>\n",
       "      <th>1030d29376f1</th>\n",
       "      <td>UX: Infinite Scrolling vs. Pagination</td>\n",
       "      <td>2016-05-02</td>\n",
       "      <td>https://uxplanet.org/ux-infinite-scrolling-vs-...</td>\n",
       "      <td>bcab753a4d4e</td>\n",
       "      <td>Nick Babich</td>\n",
       "      <td>There are only a few instances where infinite ...</td>\n",
       "      <td>1.91K</td>\n",
       "      <td>46</td>\n",
       "      <td>4.0</td>\n",
       "      <td>3.0</td>\n",
       "      <td>UX,Design,User Experience,UX Design</td>\n",
       "      <td>“Should I use Infinite scrolling or Pagination...</td>\n",
       "      <td>34.0</td>\n",
       "    </tr>\n",
       "    <tr>\n",
       "      <th>10315016b299</th>\n",
       "      <td>A Lesson on Stereotypes</td>\n",
       "      <td>2016-08-20</td>\n",
       "      <td>https://medium.com/@mramsburg85/a-lesson-on-st...</td>\n",
       "      <td>d38709ba4e06</td>\n",
       "      <td>Michael Ramsburg</td>\n",
       "      <td>Stereotypes strip you of your culture, like ou...</td>\n",
       "      <td>583</td>\n",
       "      <td>103</td>\n",
       "      <td>5.0</td>\n",
       "      <td>3.0</td>\n",
       "      <td>Stereotypes,Appalachia,Culture,Essay,Opinion</td>\n",
       "      <td>Stereotypes./nMrs. Mitchell, my sixth grade te...</td>\n",
       "      <td>12.0</td>\n",
       "    </tr>\n",
       "    <tr>\n",
       "      <th>10321e751c6d</th>\n",
       "      <td>For This Republican, Never Trump Means “I’m Wi...</td>\n",
       "      <td>2016-07-30</td>\n",
       "      <td>https://medium.com/@ccmccain/for-this-republic...</td>\n",
       "      <td>4e965facd5f9</td>\n",
       "      <td>Caroline McCain</td>\n",
       "      <td>Trump’s statement, in my view, is unforgivable...</td>\n",
       "      <td>2.5K</td>\n",
       "      <td>302</td>\n",
       "      <td>5.0</td>\n",
       "      <td>3.0</td>\n",
       "      <td>Hillary Clinton,Donald Trump,Never Trump,2016 ...</td>\n",
       "      <td>If you know me at all, you know I am a woman f...</td>\n",
       "      <td>45.0</td>\n",
       "    </tr>\n",
       "  </tbody>\n",
       "</table>\n",
       "</div>"
      ],
      "text/plain": [
       "                                                          title     popdate  \\\n",
       "postid                                                                        \n",
       "1015a0f4961d  Day One: President Obama and the First Family ...  2016-03-21   \n",
       "101a407e8c61                You don’t ‘make it’ — it makes you.  2016-06-02   \n",
       "1030d29376f1              UX: Infinite Scrolling vs. Pagination  2016-05-02   \n",
       "10315016b299                            A Lesson on Stereotypes  2016-08-20   \n",
       "10321e751c6d  For This Republican, Never Trump Means “I’m Wi...  2016-07-30   \n",
       "\n",
       "                                                            url        userid  \\\n",
       "postid                                                                          \n",
       "1015a0f4961d  https://medium.com/@ObamaWhiteHouse/day-one-pr...  ca9f8f16893b   \n",
       "101a407e8c61  https://medium.com/the-mission/you-dont-make-i...  5ce28105ffbc   \n",
       "1030d29376f1  https://uxplanet.org/ux-infinite-scrolling-vs-...  bcab753a4d4e   \n",
       "10315016b299  https://medium.com/@mramsburg85/a-lesson-on-st...  d38709ba4e06   \n",
       "10321e751c6d  https://medium.com/@ccmccain/for-this-republic...  4e965facd5f9   \n",
       "\n",
       "                           username  \\\n",
       "postid                                \n",
       "1015a0f4961d  The Obama White House   \n",
       "101a407e8c61         Jon Westenberg   \n",
       "1030d29376f1            Nick Babich   \n",
       "10315016b299       Michael Ramsburg   \n",
       "10321e751c6d        Caroline McCain   \n",
       "\n",
       "                                                      highlight nlikes  \\\n",
       "postid                                                                   \n",
       "1015a0f4961d  Today, Air Force One touched down here in Hava...    336   \n",
       "101a407e8c61                You don’t ‘make it’ — it makes you.    549   \n",
       "1030d29376f1  There are only a few instances where infinite ...  1.91K   \n",
       "10315016b299  Stereotypes strip you of your culture, like ou...    583   \n",
       "10321e751c6d  Trump’s statement, in my view, is unforgivable...   2.5K   \n",
       "\n",
       "             ncomments  ntags  origdb  \\\n",
       "postid                                  \n",
       "1015a0f4961d        15    3.0     3.0   \n",
       "101a407e8c61        37    3.0     3.0   \n",
       "1030d29376f1        46    4.0     3.0   \n",
       "10315016b299       103    5.0     3.0   \n",
       "10321e751c6d       302    5.0     3.0   \n",
       "\n",
       "                                                           tags  \\\n",
       "postid                                                            \n",
       "1015a0f4961d                             Cuba,Twitter,Cuba Trip   \n",
       "101a407e8c61                      Entrepreneurship,Startup,Life   \n",
       "1030d29376f1                UX,Design,User Experience,UX Design   \n",
       "10315016b299       Stereotypes,Appalachia,Culture,Essay,Opinion   \n",
       "10321e751c6d  Hillary Clinton,Donald Trump,Never Trump,2016 ...   \n",
       "\n",
       "                                                           text  npar  \n",
       "postid                                                                 \n",
       "1015a0f4961d  ¡Hola desde cuba! Today, Air Force One touched...  20.0  \n",
       "101a407e8c61  I always wanted to make it. I grew up dreaming...  21.0  \n",
       "1030d29376f1  “Should I use Infinite scrolling or Pagination...  34.0  \n",
       "10315016b299  Stereotypes./nMrs. Mitchell, my sixth grade te...  12.0  \n",
       "10321e751c6d  If you know me at all, you know I am a woman f...  45.0  "
      ]
     },
     "execution_count": 3,
     "metadata": {},
     "output_type": "execute_result"
    }
   ],
   "source": [
    "# get df \n",
    "\n",
    "df = pd.read_sql('articles', dbe, index_col='postid')\n",
    "print(df.shape)\n",
    "df.head()"
   ]
  },
  {
   "cell_type": "code",
   "execution_count": 4,
   "metadata": {},
   "outputs": [
    {
     "name": "stdout",
     "output_type": "stream",
     "text": [
      "(5268, 13)\n",
      "title 5096\n",
      "popdate 5261\n",
      "url 5268\n",
      "userid 5263\n",
      "username 5263\n",
      "highlight 4764\n",
      "nlikes 5262\n",
      "ncomments 5262\n",
      "ntags 5262\n",
      "origdb 5263\n",
      "tags 5262\n",
      "text 5263\n",
      "npar 5263\n",
      "(4649, 13)\n"
     ]
    }
   ],
   "source": [
    "# where is data missing?\n",
    "print(df.shape)\n",
    "for i in df.columns:\n",
    "    print(i,df[i].count())\n",
    "\n",
    "df_complete = df.dropna(axis=0,how='any')\n",
    "print(df_complete.shape)"
   ]
  },
  {
   "cell_type": "code",
   "execution_count": 5,
   "metadata": {},
   "outputs": [
    {
     "name": "stdout",
     "output_type": "stream",
     "text": [
      "(619, 13)\n"
     ]
    },
    {
     "data": {
      "text/html": [
       "<div>\n",
       "<style>\n",
       "    .dataframe thead tr:only-child th {\n",
       "        text-align: right;\n",
       "    }\n",
       "\n",
       "    .dataframe thead th {\n",
       "        text-align: left;\n",
       "    }\n",
       "\n",
       "    .dataframe tbody tr th {\n",
       "        vertical-align: top;\n",
       "    }\n",
       "</style>\n",
       "<table border=\"1\" class=\"dataframe\">\n",
       "  <thead>\n",
       "    <tr style=\"text-align: right;\">\n",
       "      <th></th>\n",
       "      <th>title</th>\n",
       "      <th>popdate</th>\n",
       "      <th>url</th>\n",
       "      <th>userid</th>\n",
       "      <th>username</th>\n",
       "      <th>highlight</th>\n",
       "      <th>nlikes</th>\n",
       "      <th>ncomments</th>\n",
       "      <th>ntags</th>\n",
       "      <th>origdb</th>\n",
       "      <th>tags</th>\n",
       "      <th>text</th>\n",
       "      <th>npar</th>\n",
       "    </tr>\n",
       "    <tr>\n",
       "      <th>postid</th>\n",
       "      <th></th>\n",
       "      <th></th>\n",
       "      <th></th>\n",
       "      <th></th>\n",
       "      <th></th>\n",
       "      <th></th>\n",
       "      <th></th>\n",
       "      <th></th>\n",
       "      <th></th>\n",
       "      <th></th>\n",
       "      <th></th>\n",
       "      <th></th>\n",
       "      <th></th>\n",
       "    </tr>\n",
       "  </thead>\n",
       "  <tbody>\n",
       "    <tr>\n",
       "      <th>10492495c715</th>\n",
       "      <td>There is something extraordinary happening in ...</td>\n",
       "      <td>2015-10-14</td>\n",
       "      <td>https://medium.com/the-global-future-of-work/t...</td>\n",
       "      <td>ff6868904c12</td>\n",
       "      <td>Gustavo Tanaka</td>\n",
       "      <td>None</td>\n",
       "      <td>7.2K</td>\n",
       "      <td>597</td>\n",
       "      <td>3.0</td>\n",
       "      <td>3.0</td>\n",
       "      <td>Entrepreneurship,Sharing Economy,Social Media ...</td>\n",
       "      <td>Most of us haven’t quite realized there is som...</td>\n",
       "      <td>63.0</td>\n",
       "    </tr>\n",
       "    <tr>\n",
       "      <th>108ba9bff127</th>\n",
       "      <td>How To Make Money Selling Apps</td>\n",
       "      <td>2017-03-01</td>\n",
       "      <td>https://medium.com/appinstitute/how-to-make-mo...</td>\n",
       "      <td>6c6f187d2af6</td>\n",
       "      <td>Nabeena Mali</td>\n",
       "      <td>None</td>\n",
       "      <td>413</td>\n",
       "      <td>1</td>\n",
       "      <td>5.0</td>\n",
       "      <td>1.0</td>\n",
       "      <td>Entrepreneurship,Franchising,Mobile App Develo...</td>\n",
       "      <td>Small businesses have — in the past — been wea...</td>\n",
       "      <td>66.0</td>\n",
       "    </tr>\n",
       "    <tr>\n",
       "      <th>109547bd7b2b</th>\n",
       "      <td>5 Creative Ideas For 4th Of July Social Media ...</td>\n",
       "      <td>2017-06-29</td>\n",
       "      <td>https://artplusmarketing.com/5-creative-ideas-...</td>\n",
       "      <td>3c11604f488d</td>\n",
       "      <td>Depositphotos</td>\n",
       "      <td>None</td>\n",
       "      <td>280</td>\n",
       "      <td></td>\n",
       "      <td>5.0</td>\n",
       "      <td>1.0</td>\n",
       "      <td>Independence Day,Marketing,Social Media Market...</td>\n",
       "      <td>By Eugine Dychko, Storyteller at Depositphotos...</td>\n",
       "      <td>16.0</td>\n",
       "    </tr>\n",
       "    <tr>\n",
       "      <th>10a9c0927015</th>\n",
       "      <td>Can you Code this UI Concept? Vol. 3</td>\n",
       "      <td>2016-03-08</td>\n",
       "      <td>https://stories.uplabs.com/can-you-code-this-u...</td>\n",
       "      <td>1f25a2b3cbed</td>\n",
       "      <td>Matthieu Aussaguel</td>\n",
       "      <td>None</td>\n",
       "      <td>611</td>\n",
       "      <td>9</td>\n",
       "      <td>5.0</td>\n",
       "      <td>3.0</td>\n",
       "      <td>Design,Prototyping,Code,Material Design,UI</td>\n",
       "      <td>We’ve had fun lately at UpLabs, collecting awe...</td>\n",
       "      <td>9.0</td>\n",
       "    </tr>\n",
       "    <tr>\n",
       "      <th>10d41595f624</th>\n",
       "      <td>The Sears Wish Book, 1977</td>\n",
       "      <td>2015-12-25</td>\n",
       "      <td>https://medium.com/@gregmaletic/the-sears-wish...</td>\n",
       "      <td>c30a9eb5ccc5</td>\n",
       "      <td>Greg Maletic</td>\n",
       "      <td>None</td>\n",
       "      <td>294</td>\n",
       "      <td>26</td>\n",
       "      <td>3.0</td>\n",
       "      <td>1.0</td>\n",
       "      <td>Sears,Vintage Video Games,Mid Century</td>\n",
       "      <td>You might not recognize what this is. This is ...</td>\n",
       "      <td>40.0</td>\n",
       "    </tr>\n",
       "  </tbody>\n",
       "</table>\n",
       "</div>"
      ],
      "text/plain": [
       "                                                          title     popdate  \\\n",
       "postid                                                                        \n",
       "10492495c715  There is something extraordinary happening in ...  2015-10-14   \n",
       "108ba9bff127                     How To Make Money Selling Apps  2017-03-01   \n",
       "109547bd7b2b  5 Creative Ideas For 4th Of July Social Media ...  2017-06-29   \n",
       "10a9c0927015               Can you Code this UI Concept? Vol. 3  2016-03-08   \n",
       "10d41595f624                          The Sears Wish Book, 1977  2015-12-25   \n",
       "\n",
       "                                                            url        userid  \\\n",
       "postid                                                                          \n",
       "10492495c715  https://medium.com/the-global-future-of-work/t...  ff6868904c12   \n",
       "108ba9bff127  https://medium.com/appinstitute/how-to-make-mo...  6c6f187d2af6   \n",
       "109547bd7b2b  https://artplusmarketing.com/5-creative-ideas-...  3c11604f488d   \n",
       "10a9c0927015  https://stories.uplabs.com/can-you-code-this-u...  1f25a2b3cbed   \n",
       "10d41595f624  https://medium.com/@gregmaletic/the-sears-wish...  c30a9eb5ccc5   \n",
       "\n",
       "                        username highlight nlikes ncomments  ntags  origdb  \\\n",
       "postid                                                                       \n",
       "10492495c715      Gustavo Tanaka      None   7.2K       597    3.0     3.0   \n",
       "108ba9bff127        Nabeena Mali      None    413         1    5.0     1.0   \n",
       "109547bd7b2b       Depositphotos      None    280              5.0     1.0   \n",
       "10a9c0927015  Matthieu Aussaguel      None    611         9    5.0     3.0   \n",
       "10d41595f624        Greg Maletic      None    294        26    3.0     1.0   \n",
       "\n",
       "                                                           tags  \\\n",
       "postid                                                            \n",
       "10492495c715  Entrepreneurship,Sharing Economy,Social Media ...   \n",
       "108ba9bff127  Entrepreneurship,Franchising,Mobile App Develo...   \n",
       "109547bd7b2b  Independence Day,Marketing,Social Media Market...   \n",
       "10a9c0927015         Design,Prototyping,Code,Material Design,UI   \n",
       "10d41595f624              Sears,Vintage Video Games,Mid Century   \n",
       "\n",
       "                                                           text  npar  \n",
       "postid                                                                 \n",
       "10492495c715  Most of us haven’t quite realized there is som...  63.0  \n",
       "108ba9bff127  Small businesses have — in the past — been wea...  66.0  \n",
       "109547bd7b2b  By Eugine Dychko, Storyteller at Depositphotos...  16.0  \n",
       "10a9c0927015  We’ve had fun lately at UpLabs, collecting awe...   9.0  \n",
       "10d41595f624  You might not recognize what this is. This is ...  40.0  "
      ]
     },
     "execution_count": 5,
     "metadata": {},
     "output_type": "execute_result"
    }
   ],
   "source": [
    "# dataframe of records missing any values\n",
    "df_missing = df[df.isnull().any(1)]\n",
    "print(df_missing.shape)\n",
    "df_missing.head()"
   ]
  },
  {
   "cell_type": "code",
   "execution_count": 6,
   "metadata": {},
   "outputs": [
    {
     "data": {
      "image/png": "[encoded data removed]",
      "text/plain": [
       "<matplotlib.figure.Figure at 0x113b66cf8>"
      ]
     },
     "metadata": {},
     "output_type": "display_data"
    }
   ],
   "source": [
    "# how many values are missing from each column?\n",
    "\n",
    "total_count = df.shape[0]\n",
    "missing_counts = []\n",
    "for i in df_missing.columns:\n",
    "    mcount = df_missing[i][df_missing[i].isnull()].shape[0]\n",
    "    missing_counts.append(mcount)\n",
    "    \n",
    "fig, ax = plt.subplots()\n",
    "\n",
    "xtick = range(len(df_missing.columns))\n",
    "mplot = [m/total_count for m in missing_counts]\n",
    "rects1 = ax.bar(xtick, \n",
    "                mplot, \n",
    "                color='r')\n",
    "ax.set_ylabel('percent missing')\n",
    "ax.set_title('missing records by field')\n",
    "ax.set_xticks(xtick)\n",
    "ax.set_xticklabels(df_missing.columns)\n",
    "\n",
    "plt.show()"
   ]
  },
  {
   "cell_type": "code",
   "execution_count": 7,
   "metadata": {},
   "outputs": [
    {
     "data": {
      "image/png": "[encoded data removed]",
      "text/plain": [
       "<matplotlib.figure.Figure at 0x113a135c0>"
      ]
     },
     "metadata": {},
     "output_type": "display_data"
    }
   ],
   "source": [
    "# how many values are missing from each entry?\n",
    "\n",
    "m_by_article = df_missing.isnull().sum(axis=1)\n",
    "m_by_article.max()\n",
    "\n",
    "# the histogram of the data\n",
    "ax = plt.hist(m_by_article, \n",
    "             m_by_article.max(), \n",
    "             facecolor='green', alpha=0.75)\n",
    "\n",
    "plt.xlabel('missing values')\n",
    "plt.ylabel('number of articles')\n",
    "plt.title('missing data by article')\n",
    "#labels = [item.get_text() for item in ax.get_yticklabels()]\n",
    "#ax.set_xticklabels(labels)\n",
    "\n",
    "plt.show()"
   ]
  },
  {
   "cell_type": "code",
   "execution_count": 8,
   "metadata": {
    "collapsed": true
   },
   "outputs": [],
   "source": [
    "# we will now drop all articles that are missing values...\n",
    "dfC = df_complete"
   ]
  },
  {
   "cell_type": "code",
   "execution_count": 27,
   "metadata": {
    "collapsed": true
   },
   "outputs": [],
   "source": [
    "# convert nlikes and ncomments to integer\n",
    "def convert_K(nstr):\n",
    "    spl = nstr.split('K')\n",
    "    if len(spl)==1:\n",
    "        return int(float(spl[0]))\n",
    "    else:\n",
    "        return int(float(spl[0])*1000)\n",
    "    \n",
    "def convert_str(nstr):\n",
    "    nstr = nstr.replace(',','')\n",
    "    if nstr=='':\n",
    "        return None\n",
    "    else:\n",
    "        return int(nstr)\n",
    "        "
   ]
  },
  {
   "cell_type": "code",
   "execution_count": 33,
   "metadata": {},
   "outputs": [
    {
     "data": {
      "image/png": "[encoded data removed]",
      "text/plain": [
       "<matplotlib.figure.Figure at 0x116cb8f98>"
      ]
     },
     "metadata": {},
     "output_type": "display_data"
    },
    {
     "name": "stdout",
     "output_type": "stream",
     "text": [
      "110 53000\n"
     ]
    }
   ],
   "source": [
    "# histograms of some numerical values.\n",
    "\n",
    "nlikes = dfC.nlikes.map(convert_K)\n",
    "#print(nlikes)\n",
    "# the histogram of the data\n",
    "n = plt.hist(nlikes, \n",
    "             50, \n",
    "             facecolor='green', alpha=0.75)\n",
    "\n",
    "plt.xlabel('number of likes')\n",
    "plt.ylabel('number of articles')\n",
    "plt.title('article popularity by likes')\n",
    "\n",
    "plt.show()\n",
    "\n",
    "print(nlikes.min(),nlikes.max())"
   ]
  },
  {
   "cell_type": "code",
   "execution_count": 35,
   "metadata": {},
   "outputs": [
    {
     "data": {
      "image/png": "[encoded data removed]",
      "text/plain": [
       "<matplotlib.figure.Figure at 0x117568828>"
      ]
     },
     "metadata": {},
     "output_type": "display_data"
    },
    {
     "name": "stdout",
     "output_type": "stream",
     "text": [
      "1.0 1912.0\n"
     ]
    }
   ],
   "source": [
    "# histogram of articles by comment number\n",
    "\n",
    "ncomments = dfC.ncomments.map(convert_str)\n",
    "\n",
    "# the histogram of the data\n",
    "n = plt.hist(ncomments.dropna(), \n",
    "             50, \n",
    "             facecolor='green', alpha=0.75)\n",
    "\n",
    "plt.xlabel('number of comments')\n",
    "plt.ylabel('number of articles')\n",
    "plt.title('article popularity by likes')\n",
    "\n",
    "plt.show()\n",
    "\n",
    "#plt.axes\n",
    "\n",
    "print(ncomments.min(),ncomments.max())"
   ]
  },
  {
   "cell_type": "code",
   "execution_count": 39,
   "metadata": {},
   "outputs": [
    {
     "data": {
      "image/png": "[encoded data removed]",
      "text/plain": [
       "<matplotlib.figure.Figure at 0x1174fedd8>"
      ]
     },
     "metadata": {},
     "output_type": "display_data"
    }
   ],
   "source": [
    "# are likes and comments correlated?\n",
    "\n",
    "fig, ax = plt.subplots()\n",
    "ax.scatter(nlikes, ncomments, color='r')\n",
    "\n",
    "ax.set_ylabel('number of likes')\n",
    "ax.set_title('number of comments')\n",
    "#ax.set_xticks(xtick)\n",
    "#ax.set_xticklabels(df_missing.columns)\n",
    "\n",
    "plt.show()\n"
   ]
  },
  {
   "cell_type": "code",
   "execution_count": 42,
   "metadata": {},
   "outputs": [
    {
     "data": {
      "image/png": "[encoded data removed]",
      "text/plain": [
       "<matplotlib.figure.Figure at 0x116e702e8>"
      ]
     },
     "metadata": {},
     "output_type": "display_data"
    }
   ],
   "source": [
    "fig, ax = plt.subplots()\n",
    "ax.scatter(nlikes, ncomments, color='r')\n",
    "\n",
    "ax.set_ylabel('number of likes')\n",
    "ax.set_title('number of comments')\n",
    "#ax.set_xticks(xtick)\n",
    "#ax.set_xticklabels(df_missing.columns)\n",
    "\n",
    "plt.axis([0, 10000, 0, 750])\n",
    "plt.show()"
   ]
  },
  {
   "cell_type": "code",
   "execution_count": 49,
   "metadata": {},
   "outputs": [
    {
     "data": {
      "text/plain": [
       "0.57803078900326155"
      ]
     },
     "execution_count": 49,
     "metadata": {},
     "output_type": "execute_result"
    }
   ],
   "source": [
    "#dfPop = pd.concat([nlikes,ncomments])\n",
    "nlikes.corr(ncomments,method='spearman')\n",
    "\n",
    "# meh"
   ]
  },
  {
   "cell_type": "code",
   "execution_count": 111,
   "metadata": {},
   "outputs": [
    {
     "data": {
      "image/png": "[encoded data removed]",
      "text/plain": [
       "<matplotlib.figure.Figure at 0x11adab390>"
      ]
     },
     "metadata": {},
     "output_type": "display_data"
    },
    {
     "name": "stdout",
     "output_type": "stream",
     "text": [
      "1 223\n"
     ]
    }
   ],
   "source": [
    "# visualize articles by userid\n",
    "\n",
    "dfUser = dfC[['userid','title']].groupby('userid').count()\n",
    "nUsers = dfC.userid.unique().shape[0]\n",
    "\n",
    "fig, ax = plt.subplots()\n",
    "\n",
    "xtick = range(nUsers)\n",
    "plt.hist(dfUser.title,50,color='r')\n",
    "plt.ylabel('number of users with article count')\n",
    "plt.xlabel('article count')\n",
    "plt.title('histogram of article counts by user')\n",
    "#ax.set_xticks(xtick)\n",
    "#ax.set_xticklabels(df_missing.columns)\n",
    "\n",
    "plt.show()\n",
    "\n",
    "print(dfUser.title.min(),dfUser.title.max())"
   ]
  },
  {
   "cell_type": "code",
   "execution_count": 67,
   "metadata": {},
   "outputs": [
    {
     "data": {
      "text/html": [
       "<div>\n",
       "<style>\n",
       "    .dataframe thead tr:only-child th {\n",
       "        text-align: right;\n",
       "    }\n",
       "\n",
       "    .dataframe thead th {\n",
       "        text-align: left;\n",
       "    }\n",
       "\n",
       "    .dataframe tbody tr th {\n",
       "        vertical-align: top;\n",
       "    }\n",
       "</style>\n",
       "<table border=\"1\" class=\"dataframe\">\n",
       "  <thead>\n",
       "    <tr style=\"text-align: right;\">\n",
       "      <th></th>\n",
       "      <th>title</th>\n",
       "    </tr>\n",
       "    <tr>\n",
       "      <th>userid</th>\n",
       "      <th></th>\n",
       "    </tr>\n",
       "  </thead>\n",
       "  <tbody>\n",
       "    <tr>\n",
       "      <th>1001a18a1a0f</th>\n",
       "      <td>1</td>\n",
       "    </tr>\n",
       "    <tr>\n",
       "      <th>103a223e2d9c</th>\n",
       "      <td>1</td>\n",
       "    </tr>\n",
       "    <tr>\n",
       "      <th>106803413c5d</th>\n",
       "      <td>3</td>\n",
       "    </tr>\n",
       "    <tr>\n",
       "      <th>1082a61e84a1</th>\n",
       "      <td>1</td>\n",
       "    </tr>\n",
       "    <tr>\n",
       "      <th>109e4ac77b09</th>\n",
       "      <td>2</td>\n",
       "    </tr>\n",
       "  </tbody>\n",
       "</table>\n",
       "</div>"
      ],
      "text/plain": [
       "              title\n",
       "userid             \n",
       "1001a18a1a0f      1\n",
       "103a223e2d9c      1\n",
       "106803413c5d      3\n",
       "1082a61e84a1      1\n",
       "109e4ac77b09      2"
      ]
     },
     "execution_count": 67,
     "metadata": {},
     "output_type": "execute_result"
    }
   ],
   "source": [
    "dfUser.head()"
   ]
  },
  {
   "cell_type": "code",
   "execution_count": 114,
   "metadata": {},
   "outputs": [
    {
     "data": {
      "image/png": "[encoded data removed]",
      "text/plain": [
       "<matplotlib.figure.Figure at 0x11975f160>"
      ]
     },
     "metadata": {},
     "output_type": "display_data"
    },
    {
     "name": "stdout",
     "output_type": "stream",
     "text": [
      "1.0 626.0\n"
     ]
    }
   ],
   "source": [
    "# histogram of article lengths\n",
    "\n",
    "fig, ax = plt.subplots()\n",
    "\n",
    "xtick = range(nUsers)\n",
    "plt.hist(dfC.npar,50,color='r')\n",
    "plt.ylabel('number of articles')\n",
    "plt.xlabel('article length (npar)')\n",
    "plt.title('histogram of article lengths')\n",
    "#ax.set_xticks(xtick)\n",
    "#ax.set_xticklabels(df_missing.columns)\n",
    "\n",
    "plt.axis([150,700,1,10])\n",
    "\n",
    "plt.show()\n",
    "\n",
    "print(dfC.npar.min(),dfC.npar.max())"
   ]
  },
  {
   "cell_type": "markdown",
   "metadata": {},
   "source": [
    "Looks like there are some strangely long artlces there.... Let's look at the ones over 100."
   ]
  },
  {
   "cell_type": "code",
   "execution_count": 227,
   "metadata": {},
   "outputs": [],
   "source": [
    "#dfC[((dfC.npar > 100) and (dfC.origdb==0 or dfC.origdb==4).any()).all()]\n",
    "\n",
    "isorig04 = pd.concat([dfC.origdb==0,dfC.origdb==4],axis=1).any(axis=1)\n",
    "isorig123 = pd.concat([pd.concat([dfC.origdb==1,dfC.origdb==2],axis=1).any(axis=1),dfC.origdb==3],axis=1).any(axis=1)\n",
    "\n",
    "dfC04 = dfC[pd.concat([isorig04,dfC.npar>100],axis=1).all(axis=1)]\n"
   ]
  },
  {
   "cell_type": "code",
   "execution_count": 142,
   "metadata": {
    "collapsed": true
   },
   "outputs": [],
   "source": []
  },
  {
   "cell_type": "code",
   "execution_count": 146,
   "metadata": {},
   "outputs": [
    {
     "data": {
      "text/plain": [
       "41"
      ]
     },
     "execution_count": 146,
     "metadata": {},
     "output_type": "execute_result"
    }
   ],
   "source": []
  },
  {
   "cell_type": "code",
   "execution_count": 195,
   "metadata": {},
   "outputs": [
    {
     "name": "stdout",
     "output_type": "stream",
     "text": [
      "['In', 'the', 'end', ',', 'of', 'course', ',', 'it', 'turned', 'out', 'that', 'charging', 'people', 'money', 'for', 'a', 'product', 'they', 'enjoyed', 'wasn', '’', 't', 'a', 'terrible', 'way', 'to', 'do', 'business', '.']\n"
     ]
    }
   ],
   "source": [
    "alist = [a for a in alist if len(a)<250]\n",
    "len(alist)\n",
    "#[[print(type(p)) for p in a] for a in alist]\n",
    "print(nltk.word_tokenize(alist[0][4]))\n",
    "tokens = [[nltk.word_tokenize(p) for p in a] for a in alist]\n",
    "#print(tokens[0][0][16])\n",
    "tokens = [[[t.lower() for t in p] for p in a] for a in tokens]\n",
    "swords = stopwords.words('english')\n",
    "nstop_tokens = [[[t for t in p if (t not in swords and t not in string.punctuation)] \n",
    "                  for p in a] for a in tokens]\n",
    "#nstop_tokens = \n",
    "#tokens[0][2]\n",
    "#nstop_tokens[0][2]"
   ]
  },
  {
   "cell_type": "code",
   "execution_count": 229,
   "metadata": {},
   "outputs": [],
   "source": [
    "# preprocess text\n",
    "swords = stopwords.words('english')\n",
    "ptext = process_text(dfC04.text,0,swords)\n",
    "htext = [process_paragraph(hilite,swords) for hilite in dfC04.highlight]\n",
    "ttext = [process_paragraph(title,swords) for title in dfC04.title]"
   ]
  },
  {
   "cell_type": "code",
   "execution_count": 232,
   "metadata": {},
   "outputs": [
    {
     "name": "stdout",
     "output_type": "stream",
     "text": [
      "['although', 'people', 'think', 'perform', 'better', 'caffeine', 'truth', 'really', 'actually', 'become', 'dependent', 'caffeine', 'use', 'simply', 'get', 'back', 'status', 'quo', 'perform', 'become', 'incapable']\n",
      "['ordinary', 'people', 'seek', 'entertainment', 'extraordinary', 'people', 'seek', 'educationand', 'learning']\n",
      "['50', 'ways', 'happier', 'healthier', 'successful', 'people', 'live', 'terms']\n"
     ]
    }
   ],
   "source": [
    "len(ptext)\n",
    "len(ptext[4])\n",
    "len(ptext[4][0])\n",
    "print(ptext[4][0])\n",
    "print(htext[4])\n",
    "print(ttext[4])"
   ]
  },
  {
   "cell_type": "markdown",
   "metadata": {},
   "source": [
    "<h3>Text Processing and Feature Extraction</h3>\n",
    "\n",
    "<ol>\n",
    "<li>Create text processing pipeline</li>\n",
    "<li>Create a df of processed features for a first pass:</li>\n",
    "    <ul>\n",
    "    <li>word count</li>\n",
    "    <li>paragraph count</li>\n",
    "    <li>frequency/importance of highlight words</li>\n",
    "    <li>sentiment of highlight words</li>\n",
    "    <li>likes and number of comments</li>\n",
    "    </ul>\n",
    "<li>More features for second pass:</li>\n",
    "    <ul>\n",
    "    <li>position of highlight in document</li>\n",
    "    <li>word categories (LDA, word2vec) in highlight text v. title</li>\n",
    "    <li>words (LDA, word2vec) in highlight text v. article</li>\n",
    "    </ul>\n",
    "</ol>"
   ]
  },
  {
   "cell_type": "markdown",
   "metadata": {},
   "source": [
    "<b>First, the text processing pipeline:</b>"
   ]
  },
  {
   "cell_type": "code",
   "execution_count": 253,
   "metadata": {},
   "outputs": [],
   "source": [
    "def process_paragraph(par,swords):\n",
    "    '''takes one paragraph (string); performs lower, tokenize, remove punctuation/stop words'''\n",
    "    par = par.lower()\n",
    "    tokenizer = RegexpTokenizer(r'\\w+')\n",
    "    tokens = tokenizer.tokenize(par)\n",
    "    nstop_tokens = [t for t in tokens if (t not in swords and t not in string.punctuation)]\n",
    "    return nstop_tokens                      \n",
    "\n",
    "def process_text(atext,origdb,swords):\n",
    "    '''atext is a list or series of textstrings (one from each article), \n",
    "    origdb is a list or series of corresponding original databse IDs (ints from 0-4)'''\n",
    "    # initial text split\n",
    "    alist = [initial_text_split(a,int(o)) for a,o in zip(atext,origdb)]\n",
    "        \n",
    "    # remove very long articles\n",
    "    removed_articles = [aix for aix,a in enumerate(alist) if len(a)>=250]\n",
    "    alist = [a for a in alist if len(a)<250]\n",
    "    \n",
    "    # process each paragraph\n",
    "    alist = [[process_paragraph(p,swords) for p in a] for a in alist]\n",
    "    \n",
    "    return [alist,removed_articles]\n",
    "\n",
    "def initial_text_split(article_text,origdb):\n",
    "    '''takes article text and original db and performs appropriate splitting'''\n",
    "    if origdb in [1,2,3]:\n",
    "        # split into paragraphs\n",
    "        plist = article_text.split('/n')\n",
    "\n",
    "        # remove \\n symbols from within words\n",
    "        plist = [p.replace('\\n','') for p in plist]\n",
    "    \n",
    "    else:\n",
    "        # split into paragraphs\n",
    "        plist = article_text.split('\\n')\n",
    "        \n",
    "    return plist\n",
    "    "
   ]
  },
  {
   "cell_type": "code",
   "execution_count": 254,
   "metadata": {},
   "outputs": [],
   "source": [
    "# define stop word corpus and process text, highlights, and titles\n",
    "swords = stopwords.words('english')\n",
    "\n",
    "processing_output = process_text(dfC.text,dfC.origdb,swords)\n",
    "ptext = processing_output[0]\n",
    "removed_articles = processing_output[1]\n"
   ]
  },
  {
   "cell_type": "code",
   "execution_count": 261,
   "metadata": {},
   "outputs": [
    {
     "data": {
      "text/plain": [
       "[2298, 2399, 2454, 2607, 2808, 2992, 3167, 3283, 4590]"
      ]
     },
     "execution_count": 261,
     "metadata": {},
     "output_type": "execute_result"
    }
   ],
   "source": [
    "# these are the articles thrown out for being too long\n",
    "removed_articles"
   ]
  },
  {
   "cell_type": "code",
   "execution_count": 262,
   "metadata": {
    "collapsed": true
   },
   "outputs": [],
   "source": [
    "# drop too-long articles\n",
    "dfDrop = dfC.drop(dfC.index[removed_articles])\n",
    "\n",
    "# process highlights and titles\n",
    "htext = [process_paragraph(hilite,swords) for hilite in dfDrop.highlight]\n",
    "ttext = [process_paragraph(title,swords) for title in dfDrop.title]"
   ]
  },
  {
   "cell_type": "code",
   "execution_count": 266,
   "metadata": {},
   "outputs": [
    {
     "data": {
      "text/plain": [
       "Index(['title', 'popdate', 'url', 'userid', 'username', 'highlight', 'nlikes',\n",
       "       'ncomments', 'ntags', 'origdb', 'tags', 'text', 'npar'],\n",
       "      dtype='object')"
      ]
     },
     "execution_count": 266,
     "metadata": {},
     "output_type": "execute_result"
    }
   ],
   "source": [
    "dfDrop.columns"
   ]
  },
  {
   "cell_type": "markdown",
   "metadata": {},
   "source": [
    "<b>Now, create a dataframe of processed features:</b>"
   ]
  },
  {
   "cell_type": "code",
   "execution_count": 272,
   "metadata": {},
   "outputs": [],
   "source": [
    "dfF = dfDrop.copy()\n",
    "\n",
    "# select necessary columns\n",
    "dfF = dfF[['nlikes','ncomments','popdate','npar']]\n",
    "\n",
    "# reformat like and comment columns\n",
    "dfF.nlikes = dfF.nlikes.map(convert_K)      # number of likes -> int\n",
    "dfF.ncomments = dfF.ncomments.map(convert_str)  # number of comments -> int"
   ]
  },
  {
   "cell_type": "code",
   "execution_count": 275,
   "metadata": {},
   "outputs": [
    {
     "data": {
      "image/png": "[encoded data removed]",
      "text/plain": [
       "<matplotlib.figure.Figure at 0x11df30fd0>"
      ]
     },
     "metadata": {},
     "output_type": "display_data"
    }
   ],
   "source": [
    "# are npar from scraping and npar_text correlated? (YES)\n",
    "\n",
    "npar_text = [len(article) for article in ptext]\n",
    "\n",
    "fig, ax = plt.subplots()\n",
    "ax.scatter(dfF.npar, npar_text, color='r')\n",
    "\n",
    "ax.set_ylabel('number of paragraphs (scraped)')\n",
    "ax.set_title('number of paragraphs (post-processing)')\n",
    "\n",
    "plt.show()"
   ]
  },
  {
   "cell_type": "markdown",
   "metadata": {},
   "source": [
    "They are correlated, so we will just use the scraped value of npar already save in the df."
   ]
  },
  {
   "cell_type": "code",
   "execution_count": 287,
   "metadata": {},
   "outputs": [],
   "source": [
    "# add total word count for each article\n",
    "\n",
    "wcount = [sum([len(par) for par in art]) for art in ptext]\n",
    "dfF['wcount'] = wcount"
   ]
  },
  {
   "cell_type": "code",
   "execution_count": 288,
   "metadata": {},
   "outputs": [
    {
     "data": {
      "text/html": [
       "<div>\n",
       "<style>\n",
       "    .dataframe thead tr:only-child th {\n",
       "        text-align: right;\n",
       "    }\n",
       "\n",
       "    .dataframe thead th {\n",
       "        text-align: left;\n",
       "    }\n",
       "\n",
       "    .dataframe tbody tr th {\n",
       "        vertical-align: top;\n",
       "    }\n",
       "</style>\n",
       "<table border=\"1\" class=\"dataframe\">\n",
       "  <thead>\n",
       "    <tr style=\"text-align: right;\">\n",
       "      <th></th>\n",
       "      <th>nlikes</th>\n",
       "      <th>ncomments</th>\n",
       "      <th>popdate</th>\n",
       "      <th>npar</th>\n",
       "      <th>wcount</th>\n",
       "    </tr>\n",
       "    <tr>\n",
       "      <th>postid</th>\n",
       "      <th></th>\n",
       "      <th></th>\n",
       "      <th></th>\n",
       "      <th></th>\n",
       "      <th></th>\n",
       "    </tr>\n",
       "  </thead>\n",
       "  <tbody>\n",
       "    <tr>\n",
       "      <th>1015a0f4961d</th>\n",
       "      <td>336</td>\n",
       "      <td>15.0</td>\n",
       "      <td>2016-03-21</td>\n",
       "      <td>20.0</td>\n",
       "      <td>522</td>\n",
       "    </tr>\n",
       "    <tr>\n",
       "      <th>101a407e8c61</th>\n",
       "      <td>549</td>\n",
       "      <td>37.0</td>\n",
       "      <td>2016-06-02</td>\n",
       "      <td>21.0</td>\n",
       "      <td>393</td>\n",
       "    </tr>\n",
       "    <tr>\n",
       "      <th>1030d29376f1</th>\n",
       "      <td>1910</td>\n",
       "      <td>46.0</td>\n",
       "      <td>2016-05-02</td>\n",
       "      <td>34.0</td>\n",
       "      <td>851</td>\n",
       "    </tr>\n",
       "    <tr>\n",
       "      <th>10315016b299</th>\n",
       "      <td>583</td>\n",
       "      <td>103.0</td>\n",
       "      <td>2016-08-20</td>\n",
       "      <td>12.0</td>\n",
       "      <td>381</td>\n",
       "    </tr>\n",
       "    <tr>\n",
       "      <th>10321e751c6d</th>\n",
       "      <td>2500</td>\n",
       "      <td>302.0</td>\n",
       "      <td>2016-07-30</td>\n",
       "      <td>45.0</td>\n",
       "      <td>993</td>\n",
       "    </tr>\n",
       "  </tbody>\n",
       "</table>\n",
       "</div>"
      ],
      "text/plain": [
       "              nlikes  ncomments     popdate  npar  wcount\n",
       "postid                                                   \n",
       "1015a0f4961d     336       15.0  2016-03-21  20.0     522\n",
       "101a407e8c61     549       37.0  2016-06-02  21.0     393\n",
       "1030d29376f1    1910       46.0  2016-05-02  34.0     851\n",
       "10315016b299     583      103.0  2016-08-20  12.0     381\n",
       "10321e751c6d    2500      302.0  2016-07-30  45.0     993"
      ]
     },
     "execution_count": 288,
     "metadata": {},
     "output_type": "execute_result"
    }
   ],
   "source": [
    "dfF.head()\n"
   ]
  },
  {
   "cell_type": "code",
   "execution_count": null,
   "metadata": {
    "collapsed": true
   },
   "outputs": [],
   "source": []
  }
 ],
 "metadata": {
  "kernelspec": {
   "display_name": "Python 3",
   "language": "python",
   "name": "python3"
  },
  "language_info": {
   "codemirror_mode": {
    "name": "ipython",
    "version": 3
   },
   "file_extension": ".py",
   "mimetype": "text/x-python",
   "name": "python",
   "nbconvert_exporter": "python",
   "pygments_lexer": "ipython3",
   "version": "3.6.1"
  }
 },
 "nbformat": 4,
 "nbformat_minor": 2
}
