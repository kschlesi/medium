{
 "cells": [
  {
   "cell_type": "markdown",
   "metadata": {},
   "source": [
    "<h3>Feature Testing</h3>"
   ]
  },
  {
   "cell_type": "code",
   "execution_count": 1,
   "metadata": {},
   "outputs": [
    {
     "name": "stdout",
     "output_type": "stream",
     "text": [
      "The history saving thread hit an unexpected error (OperationalError('database is locked',)).History will not be written to the database.\n"
     ]
    }
   ],
   "source": [
    "import pandas as pd\n",
    "import numpy as np\n",
    "from sqlalchemy import create_engine\n",
    "from sqlalchemy_utils import database_exists, create_database\n",
    "import psycopg2\n",
    "import NLP\n",
    "from matplotlib import pyplot as plt\n",
    "import random\n",
    "import math\n",
    "from sklearn import linear_model, metrics, ensemble\n",
    "import pickle\n",
    "from gensim.models.word2vec import Word2Vec\n",
    "from gensim.models.doc2vec import Doc2Vec\n",
    "from sklearn.manifold import TSNE\n",
    "from pyemd import emd\n",
    "from gensim import utils\n",
    "from gensim.models.doc2vec import LabeledSentence\n",
    "from gensim.models import Doc2Vec\n",
    "from sklearn.decomposition import PCA\n"
   ]
  },
  {
   "cell_type": "code",
   "execution_count": 2,
   "metadata": {
    "collapsed": true
   },
   "outputs": [],
   "source": [
    "# connect to postgresql db\n",
    "username = 'kimberly'\n",
    "dbname = 'medium'\n",
    "\n",
    "dbe = create_engine('postgres://%s@localhost/%s'%(username,dbname))\n",
    "\n",
    "# get articles df, drop missing data\n",
    "dfA = pd.read_sql('articles', dbe, index_col='postid')\n",
    "dfA = dfA.dropna(axis=0,how='any')\n",
    "\n",
    "dfS = pd.read_sql('sentences', dbe, index_col='level_0')\n",
    "\n",
    "# add stfidf...\n",
    "pkl_file = open('stfidf.pkl', 'rb')\n",
    "stfidf = pickle.load(pkl_file)\n",
    "pkl_file.close()\n",
    "dfS['stfidf'] = stfidf"
   ]
  },
  {
   "cell_type": "code",
   "execution_count": 3,
   "metadata": {
    "collapsed": true
   },
   "outputs": [],
   "source": [
    "outlier_articles = [2298, 2399, 2454, 2607, 2808, 2992, 3167, 3283, 4590]\n",
    "#dfA = dfA.drop(dfA.index[outlier_articles])\n",
    "#dfA.shape"
   ]
  },
  {
   "cell_type": "markdown",
   "metadata": {},
   "source": [
    "<h3>Scope down: choose only \"startup\" tags</h3>"
   ]
  },
  {
   "cell_type": "code",
   "execution_count": 17,
   "metadata": {},
   "outputs": [
    {
     "name": "stdout",
     "output_type": "stream",
     "text": [
      "(434792, 21)\n"
     ]
    }
   ],
   "source": [
    "stA = dfA[dfA.tags.str.contains('Startup')]\n",
    "stS = pd.merge(dfS, stA, how='left', left_on='postid',\n",
    "         left_index=False, right_index=True)\n",
    "print(stS.shape)\n",
    "#stS.drop(stS[stS.title.isnull()].index,inplace=True)\n",
    "#print(stS.shape)\n",
    "\n",
    "startup_sentence_bool = ~stS.title.isnull()"
   ]
  },
  {
   "cell_type": "code",
   "execution_count": 5,
   "metadata": {},
   "outputs": [
    {
     "name": "stdout",
     "output_type": "stream",
     "text": [
      "4649\n",
      "986\n"
     ]
    },
    {
     "data": {
      "text/plain": [
       "(95631, 21)"
      ]
     },
     "execution_count": 5,
     "metadata": {},
     "output_type": "execute_result"
    }
   ],
   "source": [
    "stA_index = dfA.tags.str.contains('Startup')\n",
    "print(len(stA_index))\n",
    "startup_index = [ax for ax,a in enumerate(stA_index) if a]\n",
    "#print(startup_index)\n",
    "print(len(startup_index))\n",
    "\n",
    "stS.shape\n"
   ]
  },
  {
   "cell_type": "code",
   "execution_count": 53,
   "metadata": {
    "collapsed": true
   },
   "outputs": [],
   "source": [
    "output = open('startup_index.pkl', 'wb')\n",
    "pickle.dump(startup_index, output)\n",
    "output.close()"
   ]
  },
  {
   "cell_type": "markdown",
   "metadata": {},
   "source": [
    "<h3>Fitting the model...</h3>\n",
    "\n",
    "First, split into true and false samples."
   ]
  },
  {
   "cell_type": "code",
   "execution_count": 20,
   "metadata": {},
   "outputs": [
    {
     "ename": "NameError",
     "evalue": "name 'stS' is not defined",
     "output_type": "error",
     "traceback": [
      "\u001b[0;31m---------------------------------------------------------------------------\u001b[0m",
      "\u001b[0;31mNameError\u001b[0m                                 Traceback (most recent call last)",
      "\u001b[0;32m<ipython-input-20-4ab0a6bfd9d7>\u001b[0m in \u001b[0;36m<module>\u001b[0;34m()\u001b[0m\n\u001b[1;32m      5\u001b[0m \u001b[0;34m\u001b[0m\u001b[0m\n\u001b[1;32m      6\u001b[0m \u001b[0;31m# startup articles only\u001b[0m\u001b[0;34m\u001b[0m\u001b[0;34m\u001b[0m\u001b[0m\n\u001b[0;32m----> 7\u001b[0;31m \u001b[0mdfS_True\u001b[0m \u001b[0;34m=\u001b[0m \u001b[0mstS\u001b[0m\u001b[0;34m[\u001b[0m\u001b[0mstS\u001b[0m\u001b[0;34m.\u001b[0m\u001b[0mslabel\u001b[0m\u001b[0;34m==\u001b[0m\u001b[0;32mTrue\u001b[0m\u001b[0;34m]\u001b[0m\u001b[0;34m\u001b[0m\u001b[0m\n\u001b[0m\u001b[1;32m      8\u001b[0m \u001b[0mdfS_False\u001b[0m \u001b[0;34m=\u001b[0m \u001b[0mstS\u001b[0m\u001b[0;34m[\u001b[0m\u001b[0mstS\u001b[0m\u001b[0;34m.\u001b[0m\u001b[0mslabel\u001b[0m\u001b[0;34m==\u001b[0m\u001b[0;32mFalse\u001b[0m\u001b[0;34m]\u001b[0m\u001b[0;34m\u001b[0m\u001b[0m\n\u001b[1;32m      9\u001b[0m \u001b[0mindex_file\u001b[0m \u001b[0;34m=\u001b[0m \u001b[0;34m'false_indices_startup_exactbal.pkl'\u001b[0m\u001b[0;34m\u001b[0m\u001b[0m\n",
      "\u001b[0;31mNameError\u001b[0m: name 'stS' is not defined"
     ]
    }
   ],
   "source": [
    "# all articles\n",
    "dfS_True = dfS[dfS.slabel==True]\n",
    "dfS_False = dfS[dfS.slabel==False]\n",
    "index_file = 'false_indices_exactbal.pkl'\n",
    "\n",
    "# startup articles only\n",
    "dfS_True = stS[stS.slabel==True]\n",
    "dfS_False = stS[stS.slabel==False]\n",
    "index_file = 'false_indices_startup_exactbal.pkl'\n"
   ]
  },
  {
   "cell_type": "code",
   "execution_count": 21,
   "metadata": {
    "collapsed": true
   },
   "outputs": [],
   "source": [
    "# all articles with raw d2vecs\n",
    "dfS_True = dfS_raw[dfS_raw.slabel==True]\n",
    "dfS_False = dfS_raw[dfS_raw.slabel==False]\n",
    "index_file = 'false_indices_exactbal.pkl'"
   ]
  },
  {
   "cell_type": "markdown",
   "metadata": {},
   "source": [
    "Downsample to have balanced data."
   ]
  },
  {
   "cell_type": "code",
   "execution_count": 23,
   "metadata": {
    "collapsed": true
   },
   "outputs": [],
   "source": [
    "number_true = dfS_True.shape[0]\n",
    "\n",
    "# re-regenerate or load false_indices\n",
    "#false_indices = np.random.choice(dfS_False.shape[0], number_false, replace=False)\n",
    "\n",
    "pkl_file = open(index_file, 'rb')\n",
    "false_indices = pickle.load(pkl_file)\n",
    "pkl_file.close()\n",
    "\n",
    "# save false indices if desired\n",
    "#output = open('false_indices_exactbal.pkl', 'wb')\n",
    "#pickle.dump(false_indices, output)\n",
    "#output.close()\n",
    "\n",
    "# select samples\n",
    "dfS_False_dsamp = dfS_False.iloc[false_indices]\n"
   ]
  },
  {
   "cell_type": "markdown",
   "metadata": {},
   "source": [
    "Drop rows with missing data."
   ]
  },
  {
   "cell_type": "code",
   "execution_count": 24,
   "metadata": {
    "collapsed": true
   },
   "outputs": [],
   "source": [
    "dfS_True = dfS_True.drop(dfS_True[dfS_True.stfidf.isnull()].index)\n",
    "dfS_False_dsamp = dfS_False_dsamp.drop(dfS_False_dsamp[dfS_False_dsamp.stfidf.isnull()].index)"
   ]
  },
  {
   "cell_type": "markdown",
   "metadata": {},
   "source": [
    "Split training and test data (in both false and true sets)"
   ]
  },
  {
   "cell_type": "code",
   "execution_count": 25,
   "metadata": {},
   "outputs": [
    {
     "name": "stdout",
     "output_type": "stream",
     "text": [
      "(786, 108)\n",
      "(776, 108)\n",
      "(1562, 108)\n",
      "(197, 108)\n",
      "(194, 108)\n",
      "(391, 108)\n"
     ]
    }
   ],
   "source": [
    "# split training and test 80/20\n",
    "\n",
    "# training data\n",
    "true_train_indices = np.random.choice(dfS_True.shape[0], \n",
    "                                      math.floor(dfS_True.shape[0]*0.8), replace=False)\n",
    "false_train_indices = np.random.choice(dfS_False_dsamp.shape[0], \n",
    "                                       math.floor(dfS_False_dsamp.shape[0]*0.8), replace=False)\n",
    "dfS_True_train = dfS_True.iloc[true_train_indices]\n",
    "dfS_False_dsamp_train = dfS_False_dsamp.iloc[false_train_indices]\n",
    "dfTrain_balanced = pd.concat([dfS_True_train,dfS_False_dsamp_train])\n",
    "print(dfS_True_train.shape)\n",
    "print(dfS_False_dsamp_train.shape)\n",
    "print(dfTrain_balanced.shape)\n",
    "\n",
    "# test data\n",
    "true_test_indices = [x for x in range(dfS_True.shape[0]) if x not in true_train_indices]\n",
    "false_test_indices = [x for x in range(dfS_False_dsamp.shape[0]) if x not in false_train_indices]\n",
    "dfS_True_test = dfS_True.iloc[true_test_indices]\n",
    "dfS_False_dsamp_test = dfS_False_dsamp.iloc[false_test_indices]\n",
    "dfTest_balanced = pd.concat([dfS_True_test,dfS_False_dsamp_test])\n",
    "print(dfS_True_test.shape)\n",
    "print(dfS_False_dsamp_test.shape)\n",
    "print(dfTest_balanced.shape)"
   ]
  },
  {
   "cell_type": "markdown",
   "metadata": {},
   "source": [
    "Set up the X and Y structures for training."
   ]
  },
  {
   "cell_type": "code",
   "execution_count": 25,
   "metadata": {
    "collapsed": true
   },
   "outputs": [],
   "source": [
    "Ytrain = dfTrain_balanced['slabel'].astype('int')\n",
    "Xtrain = dfTrain_balanced[['sposition','swcount','stfidf','alength']]\n",
    "Ytest = dfTest_balanced['slabel'].astype('int')\n",
    "Xtest = dfTest_balanced[['sposition','swcount','stfidf','alength']]"
   ]
  },
  {
   "cell_type": "markdown",
   "metadata": {},
   "source": [
    "Train a random forest model."
   ]
  },
  {
   "cell_type": "code",
   "execution_count": 30,
   "metadata": {},
   "outputs": [
    {
     "data": {
      "text/plain": [
       "RandomForestClassifier(bootstrap=True, class_weight=None, criterion='gini',\n",
       "            max_depth=None, max_features='auto', max_leaf_nodes=None,\n",
       "            min_impurity_split=1e-07, min_samples_leaf=1,\n",
       "            min_samples_split=2, min_weight_fraction_leaf=0.0,\n",
       "            n_estimators=500, n_jobs=1, oob_score=False, random_state=None,\n",
       "            verbose=0, warm_start=False)"
      ]
     },
     "execution_count": 30,
     "metadata": {},
     "output_type": "execute_result"
    }
   ],
   "source": [
    "rfm = ensemble.RandomForestClassifier(n_estimators=500, class_weight=None)\n",
    "rfm.fit(Xtrain,Ytrain)"
   ]
  },
  {
   "cell_type": "markdown",
   "metadata": {},
   "source": [
    "Check the prediction accuracy."
   ]
  },
  {
   "cell_type": "code",
   "execution_count": 27,
   "metadata": {},
   "outputs": [
    {
     "name": "stdout",
     "output_type": "stream",
     "text": [
      "0.999892967997\n",
      "0.610183996577\n"
     ]
    }
   ],
   "source": [
    "print(rfm.score(Xtrain,Ytrain))\n",
    "print(rfm.score(Xtest,Ytest))"
   ]
  },
  {
   "cell_type": "markdown",
   "metadata": {},
   "source": [
    "Plot the predicted probabilities by class."
   ]
  },
  {
   "cell_type": "code",
   "execution_count": 20,
   "metadata": {},
   "outputs": [
    {
     "data": {
      "text/plain": [
       "<matplotlib.figure.Figure at 0x11abe0940>"
      ]
     },
     "metadata": {},
     "output_type": "display_data"
    },
    {
     "data": {
      "image/png": "[encoded data removed]",
      "text/plain": [
       "<matplotlib.figure.Figure at 0x115d50630>"
      ]
     },
     "metadata": {},
     "output_type": "display_data"
    }
   ],
   "source": [
    "#rfm.predict_proba(Xtrain)\n",
    "test_predix = rfm.predict_proba(Xtest)[:,1]\n",
    "test_predix = pd.DataFrame(test_predix,Ytest,columns=['pred'])\n",
    "test_predix.head()\n",
    "\n",
    "plt.figure();\n",
    "test_predix.hist(by=test_predix.index,bins=50)\n",
    "plt.show()"
   ]
  },
  {
   "cell_type": "markdown",
   "metadata": {},
   "source": [
    "Plot an ROC curve."
   ]
  },
  {
   "cell_type": "code",
   "execution_count": 28,
   "metadata": {},
   "outputs": [
    {
     "data": {
      "image/png": "[encoded data removed]",
      "text/plain": [
       "<matplotlib.figure.Figure at 0x11d7b1da0>"
      ]
     },
     "metadata": {},
     "output_type": "display_data"
    }
   ],
   "source": [
    "fpr, tpr, thresh = metrics.roc_curve(Ytest, test_predix)\n",
    "\n",
    "plt.figure();\n",
    "plt.plot(fpr,tpr)\n",
    "plt.show()"
   ]
  },
  {
   "cell_type": "markdown",
   "metadata": {},
   "source": [
    "<h3>Try a variation with no stf-idf</h3>"
   ]
  },
  {
   "cell_type": "code",
   "execution_count": 31,
   "metadata": {},
   "outputs": [
    {
     "name": "stdout",
     "output_type": "stream",
     "text": [
      "0.991009311784\n",
      "0.610611895593\n"
     ]
    }
   ],
   "source": [
    "Xtrain2 = dfTrain_balanced[['sposition','swcount','alength']]\n",
    "Xtest2 = dfTest_balanced[['sposition','swcount','alength']]\n",
    "rfm2 = ensemble.RandomForestClassifier(n_estimators=500, class_weight=None)\n",
    "rfm2.fit(Xtrain2,Ytrain)\n",
    "print(rfm2.score(Xtrain2,Ytrain))\n",
    "print(rfm2.score(Xtest2,Ytest))"
   ]
  },
  {
   "cell_type": "code",
   "execution_count": 33,
   "metadata": {},
   "outputs": [
    {
     "data": {
      "text/plain": [
       "<matplotlib.figure.Figure at 0x115ef7f98>"
      ]
     },
     "metadata": {},
     "output_type": "display_data"
    },
    {
     "data": {
      "image/png": "[encoded data removed]",
      "text/plain": [
       "<matplotlib.figure.Figure at 0x115ef7668>"
      ]
     },
     "metadata": {},
     "output_type": "display_data"
    }
   ],
   "source": [
    "#rfm.predict_proba(Xtrain)\n",
    "test_predix2 = rfm2.predict_proba(Xtest2)[:,1]\n",
    "test_predix2 = pd.DataFrame(test_predix2,Ytest,columns=['pred'])\n",
    "\n",
    "plt.figure();\n",
    "test_predix.hist(by=test_predix2.index,bins=50)\n",
    "plt.show()"
   ]
  },
  {
   "cell_type": "code",
   "execution_count": 34,
   "metadata": {},
   "outputs": [
    {
     "data": {
      "image/png": "[encoded data removed]",
      "text/plain": [
       "<matplotlib.figure.Figure at 0x114cf2898>"
      ]
     },
     "metadata": {},
     "output_type": "display_data"
    }
   ],
   "source": [
    "fpr2, tpr2, thresh2 = metrics.roc_curve(Ytest, test_predix)\n",
    "\n",
    "plt.figure();\n",
    "plt.plot(fpr,tpr)\n",
    "plt.plot(fpr2,tpr2,color='r')\n",
    "plt.show()"
   ]
  },
  {
   "cell_type": "markdown",
   "metadata": {},
   "source": [
    "<h3>Try a variation (with startup data) that has sentence-article distance</h3>"
   ]
  },
  {
   "cell_type": "markdown",
   "metadata": {},
   "source": [
    "(not enough time to compute this)"
   ]
  },
  {
   "cell_type": "markdown",
   "metadata": {},
   "source": [
    "<h3>Try a variation with the raw vectors from doc2vec</h3>"
   ]
  },
  {
   "cell_type": "markdown",
   "metadata": {},
   "source": [
    "Load in raw vectors..."
   ]
  },
  {
   "cell_type": "code",
   "execution_count": 9,
   "metadata": {
    "collapsed": true
   },
   "outputs": [],
   "source": []
  },
  {
   "cell_type": "code",
   "execution_count": null,
   "metadata": {
    "collapsed": true
   },
   "outputs": [],
   "source": []
  },
  {
   "cell_type": "code",
   "execution_count": 11,
   "metadata": {
    "collapsed": true
   },
   "outputs": [],
   "source": []
  },
  {
   "cell_type": "code",
   "execution_count": null,
   "metadata": {
    "collapsed": true
   },
   "outputs": [],
   "source": [
    "# use tsne to reduce space dimensionality \n",
    "#tsne = TSNE(n_components=10)\n",
    "#d2v_tsne = tsne.fit_transform(d2v_array)\n",
    "\n",
    "with open('d2v_tsne_nostem_10.pkl','rb') as f:\n",
    "    d2v_tsne = pickle.load(f)\n",
    "\n",
    "plt.scatter(d2v_tsne[:, 0], d2vX_tsne[:, 1])\n",
    "plt.show()"
   ]
  },
  {
   "cell_type": "markdown",
   "metadata": {},
   "source": [
    "<h3>This has ALL sentences...</h3>"
   ]
  },
  {
   "cell_type": "code",
   "execution_count": 18,
   "metadata": {},
   "outputs": [
    {
     "data": {
      "text/html": [
       "<div>\n",
       "<style>\n",
       "    .dataframe thead tr:only-child th {\n",
       "        text-align: right;\n",
       "    }\n",
       "\n",
       "    .dataframe thead th {\n",
       "        text-align: left;\n",
       "    }\n",
       "\n",
       "    .dataframe tbody tr th {\n",
       "        vertical-align: top;\n",
       "    }\n",
       "</style>\n",
       "<table border=\"1\" class=\"dataframe\">\n",
       "  <thead>\n",
       "    <tr style=\"text-align: right;\">\n",
       "      <th></th>\n",
       "      <th>alength</th>\n",
       "      <th>index</th>\n",
       "      <th>postid</th>\n",
       "      <th>sentence</th>\n",
       "      <th>slabel</th>\n",
       "      <th>sposition</th>\n",
       "      <th>swcount</th>\n",
       "      <th>stfidf</th>\n",
       "      <th>0</th>\n",
       "      <th>1</th>\n",
       "      <th>...</th>\n",
       "      <th>90</th>\n",
       "      <th>91</th>\n",
       "      <th>92</th>\n",
       "      <th>93</th>\n",
       "      <th>94</th>\n",
       "      <th>95</th>\n",
       "      <th>96</th>\n",
       "      <th>97</th>\n",
       "      <th>98</th>\n",
       "      <th>99</th>\n",
       "    </tr>\n",
       "    <tr>\n",
       "      <th>level_0</th>\n",
       "      <th></th>\n",
       "      <th></th>\n",
       "      <th></th>\n",
       "      <th></th>\n",
       "      <th></th>\n",
       "      <th></th>\n",
       "      <th></th>\n",
       "      <th></th>\n",
       "      <th></th>\n",
       "      <th></th>\n",
       "      <th></th>\n",
       "      <th></th>\n",
       "      <th></th>\n",
       "      <th></th>\n",
       "      <th></th>\n",
       "      <th></th>\n",
       "      <th></th>\n",
       "      <th></th>\n",
       "      <th></th>\n",
       "      <th></th>\n",
       "      <th></th>\n",
       "    </tr>\n",
       "  </thead>\n",
       "  <tbody>\n",
       "    <tr>\n",
       "      <th>0</th>\n",
       "      <td>52</td>\n",
       "      <td>0.0</td>\n",
       "      <td>1015a0f4961d</td>\n",
       "      <td>{hola,desde,cuba}</td>\n",
       "      <td>False</td>\n",
       "      <td>0</td>\n",
       "      <td>3</td>\n",
       "      <td>0.707064</td>\n",
       "      <td>-0.017509</td>\n",
       "      <td>-0.031111</td>\n",
       "      <td>...</td>\n",
       "      <td>-0.000002</td>\n",
       "      <td>-0.018249</td>\n",
       "      <td>0.053595</td>\n",
       "      <td>-0.070381</td>\n",
       "      <td>0.004811</td>\n",
       "      <td>0.021985</td>\n",
       "      <td>0.034252</td>\n",
       "      <td>-0.018455</td>\n",
       "      <td>-0.018748</td>\n",
       "      <td>0.003362</td>\n",
       "    </tr>\n",
       "    <tr>\n",
       "      <th>1</th>\n",
       "      <td>52</td>\n",
       "      <td>0.0</td>\n",
       "      <td>1015a0f4961d</td>\n",
       "      <td>{today,air,force,one,touched,havana,first,time...</td>\n",
       "      <td>True</td>\n",
       "      <td>1</td>\n",
       "      <td>9</td>\n",
       "      <td>0.224525</td>\n",
       "      <td>-0.016717</td>\n",
       "      <td>0.002451</td>\n",
       "      <td>...</td>\n",
       "      <td>-0.006885</td>\n",
       "      <td>-0.009163</td>\n",
       "      <td>0.023801</td>\n",
       "      <td>-0.031781</td>\n",
       "      <td>0.013973</td>\n",
       "      <td>0.015467</td>\n",
       "      <td>0.002474</td>\n",
       "      <td>-0.023497</td>\n",
       "      <td>0.000237</td>\n",
       "      <td>0.007472</td>\n",
       "    </tr>\n",
       "    <tr>\n",
       "      <th>2</th>\n",
       "      <td>52</td>\n",
       "      <td>0.0</td>\n",
       "      <td>1015a0f4961d</td>\n",
       "      <td>{question,remarkable,moment,relationship,unite...</td>\n",
       "      <td>False</td>\n",
       "      <td>2</td>\n",
       "      <td>9</td>\n",
       "      <td>0.271712</td>\n",
       "      <td>0.007705</td>\n",
       "      <td>0.003216</td>\n",
       "      <td>...</td>\n",
       "      <td>-0.003051</td>\n",
       "      <td>0.006686</td>\n",
       "      <td>0.028362</td>\n",
       "      <td>0.011368</td>\n",
       "      <td>0.006327</td>\n",
       "      <td>-0.011646</td>\n",
       "      <td>-0.037562</td>\n",
       "      <td>0.009589</td>\n",
       "      <td>0.014810</td>\n",
       "      <td>0.000972</td>\n",
       "    </tr>\n",
       "    <tr>\n",
       "      <th>3</th>\n",
       "      <td>52</td>\n",
       "      <td>0.0</td>\n",
       "      <td>1015a0f4961d</td>\n",
       "      <td>{also,landmark,progress,made,since,president,o...</td>\n",
       "      <td>False</td>\n",
       "      <td>3</td>\n",
       "      <td>29</td>\n",
       "      <td>0.152328</td>\n",
       "      <td>0.071163</td>\n",
       "      <td>0.046430</td>\n",
       "      <td>...</td>\n",
       "      <td>-0.047530</td>\n",
       "      <td>0.076408</td>\n",
       "      <td>-0.041447</td>\n",
       "      <td>0.056117</td>\n",
       "      <td>0.066812</td>\n",
       "      <td>-0.049130</td>\n",
       "      <td>-0.101165</td>\n",
       "      <td>-0.031418</td>\n",
       "      <td>0.047626</td>\n",
       "      <td>0.084026</td>\n",
       "    </tr>\n",
       "    <tr>\n",
       "      <th>4</th>\n",
       "      <td>52</td>\n",
       "      <td>0.0</td>\n",
       "      <td>1015a0f4961d</td>\n",
       "      <td>{trip,also,professionally,personally,meaningfu...</td>\n",
       "      <td>False</td>\n",
       "      <td>4</td>\n",
       "      <td>19</td>\n",
       "      <td>0.208126</td>\n",
       "      <td>-0.005361</td>\n",
       "      <td>-0.012760</td>\n",
       "      <td>...</td>\n",
       "      <td>-0.031974</td>\n",
       "      <td>-0.014525</td>\n",
       "      <td>0.043334</td>\n",
       "      <td>-0.081592</td>\n",
       "      <td>0.034563</td>\n",
       "      <td>-0.009977</td>\n",
       "      <td>-0.074816</td>\n",
       "      <td>-0.051886</td>\n",
       "      <td>0.004417</td>\n",
       "      <td>-0.013928</td>\n",
       "    </tr>\n",
       "  </tbody>\n",
       "</table>\n",
       "<p>5 rows × 108 columns</p>\n",
       "</div>"
      ],
      "text/plain": [
       "         alength  index        postid  \\\n",
       "level_0                                 \n",
       "0             52    0.0  1015a0f4961d   \n",
       "1             52    0.0  1015a0f4961d   \n",
       "2             52    0.0  1015a0f4961d   \n",
       "3             52    0.0  1015a0f4961d   \n",
       "4             52    0.0  1015a0f4961d   \n",
       "\n",
       "                                                  sentence  slabel  sposition  \\\n",
       "level_0                                                                         \n",
       "0                                        {hola,desde,cuba}   False          0   \n",
       "1        {today,air,force,one,touched,havana,first,time...    True          1   \n",
       "2        {question,remarkable,moment,relationship,unite...   False          2   \n",
       "3        {also,landmark,progress,made,since,president,o...   False          3   \n",
       "4        {trip,also,professionally,personally,meaningfu...   False          4   \n",
       "\n",
       "         swcount    stfidf         0         1    ...           90        91  \\\n",
       "level_0                                           ...                          \n",
       "0              3  0.707064 -0.017509 -0.031111    ...    -0.000002 -0.018249   \n",
       "1              9  0.224525 -0.016717  0.002451    ...    -0.006885 -0.009163   \n",
       "2              9  0.271712  0.007705  0.003216    ...    -0.003051  0.006686   \n",
       "3             29  0.152328  0.071163  0.046430    ...    -0.047530  0.076408   \n",
       "4             19  0.208126 -0.005361 -0.012760    ...    -0.031974 -0.014525   \n",
       "\n",
       "               92        93        94        95        96        97        98  \\\n",
       "level_0                                                                         \n",
       "0        0.053595 -0.070381  0.004811  0.021985  0.034252 -0.018455 -0.018748   \n",
       "1        0.023801 -0.031781  0.013973  0.015467  0.002474 -0.023497  0.000237   \n",
       "2        0.028362  0.011368  0.006327 -0.011646 -0.037562  0.009589  0.014810   \n",
       "3       -0.041447  0.056117  0.066812 -0.049130 -0.101165 -0.031418  0.047626   \n",
       "4        0.043334 -0.081592  0.034563 -0.009977 -0.074816 -0.051886  0.004417   \n",
       "\n",
       "               99  \n",
       "level_0            \n",
       "0        0.003362  \n",
       "1        0.007472  \n",
       "2        0.000972  \n",
       "3        0.084026  \n",
       "4       -0.013928  \n",
       "\n",
       "[5 rows x 108 columns]"
      ]
     },
     "execution_count": 18,
     "metadata": {},
     "output_type": "execute_result"
    }
   ],
   "source": [
    "dfRaw = pd.DataFrame(d2v_array,index=dfS.index)\n",
    "dfS_raw = pd.concat([dfS,dfRaw],axis=1)\n",
    "dfS_raw.head()"
   ]
  },
  {
   "cell_type": "code",
   "execution_count": 19,
   "metadata": {
    "collapsed": true
   },
   "outputs": [],
   "source": [
    "dfS_True = dfS_raw[dfS_raw.slabel==True]\n",
    "dfS_False = dfS_raw[dfS_raw.slabel==False]"
   ]
  },
  {
   "cell_type": "code",
   "execution_count": null,
   "metadata": {
    "collapsed": true
   },
   "outputs": [],
   "source": []
  },
  {
   "cell_type": "markdown",
   "metadata": {},
   "source": []
  },
  {
   "cell_type": "code",
   "execution_count": 27,
   "metadata": {},
   "outputs": [
    {
     "name": "stdout",
     "output_type": "stream",
     "text": [
      "1.0\n",
      "0.599914420197\n"
     ]
    }
   ],
   "source": [
    "Ytrain = dfTrain_balanced['slabel'].astype('int')\n",
    "Xtrain = dfTrain_balanced[dfTrain_balanced.columns[5:]]\n",
    "Ytest = dfTest_balanced['slabel'].astype('int')\n",
    "Xtest = dfTest_balanced[dfTrain_balanced.columns[5:]]\n",
    "rfm3 = ensemble.RandomForestClassifier(n_estimators=500, class_weight=None)\n",
    "rfm3.fit(Xtrain,Ytrain)\n",
    "print(rfm3.score(Xtrain,Ytrain))\n",
    "print(rfm3.score(Xtest,Ytest))"
   ]
  },
  {
   "cell_type": "code",
   "execution_count": 29,
   "metadata": {},
   "outputs": [
    {
     "data": {
      "text/plain": [
       "<matplotlib.figure.Figure at 0x12e7f2e48>"
      ]
     },
     "metadata": {},
     "output_type": "display_data"
    },
    {
     "data": {
      "text/plain": [
       "<matplotlib.figure.Figure at 0x12e7f2470>"
      ]
     },
     "metadata": {},
     "output_type": "display_data"
    },
    {
     "data": {
      "image/png": "[encoded data removed]",
      "text/plain": [
       "<matplotlib.figure.Figure at 0x122ef3978>"
      ]
     },
     "metadata": {},
     "output_type": "display_data"
    }
   ],
   "source": [
    "#rfm.predict_proba(Xtrain)\n",
    "test_predix3 = rfm3.predict_proba(Xtest)[:,1]\n",
    "test_predix3 = pd.DataFrame(test_predix3,Ytest,columns=['pred'])\n",
    "\n",
    "plt.figure();\n",
    "test_predix3.hist(by=test_predix3.index,bins=50)\n",
    "plt.show()"
   ]
  },
  {
   "cell_type": "code",
   "execution_count": 30,
   "metadata": {},
   "outputs": [
    {
     "data": {
      "image/png": "[encoded data removed]",
      "text/plain": [
       "<matplotlib.figure.Figure at 0x124ce1588>"
      ]
     },
     "metadata": {},
     "output_type": "display_data"
    }
   ],
   "source": [
    "fpr, tpr, thresh = metrics.roc_curve(Ytest, test_predix3)\n",
    "\n",
    "plt.figure();\n",
    "plt.plot(fpr,tpr)\n",
    "plt.show()"
   ]
  },
  {
   "cell_type": "markdown",
   "metadata": {},
   "source": [
    "<h3>This has only startup sentences...</h3>"
   ]
  },
  {
   "cell_type": "code",
   "execution_count": 12,
   "metadata": {},
   "outputs": [
    {
     "name": "stderr",
     "output_type": "stream",
     "text": [
      "/Users/kimberly/anaconda3/envs/insight_env/lib/python3.6/site-packages/ipykernel_launcher.py:4: UserWarning: Boolean Series key will be reindexed to match DataFrame index.\n",
      "  after removing the cwd from sys.path.\n"
     ]
    },
    {
     "ename": "IndexingError",
     "evalue": "Unalignable boolean Series provided as indexer (index of the boolean Series and of the indexed object do not match",
     "output_type": "error",
     "traceback": [
      "\u001b[0;31m---------------------------------------------------------------------------\u001b[0m",
      "\u001b[0;31mIndexingError\u001b[0m                             Traceback (most recent call last)",
      "\u001b[0;32m<ipython-input-12-d9d1ad331f1f>\u001b[0m in \u001b[0;36m<module>\u001b[0;34m()\u001b[0m\n\u001b[1;32m      2\u001b[0m \u001b[0;34m\u001b[0m\u001b[0m\n\u001b[1;32m      3\u001b[0m \u001b[0mdfS_raw\u001b[0m \u001b[0;34m=\u001b[0m \u001b[0mpd\u001b[0m\u001b[0;34m.\u001b[0m\u001b[0mconcat\u001b[0m\u001b[0;34m(\u001b[0m\u001b[0;34m[\u001b[0m\u001b[0mdfS\u001b[0m\u001b[0;34m,\u001b[0m\u001b[0mdfRaw\u001b[0m\u001b[0;34m]\u001b[0m\u001b[0;34m,\u001b[0m\u001b[0maxis\u001b[0m\u001b[0;34m=\u001b[0m\u001b[0;36m1\u001b[0m\u001b[0;34m)\u001b[0m\u001b[0;34m\u001b[0m\u001b[0m\n\u001b[0;32m----> 4\u001b[0;31m \u001b[0mdfS_raw\u001b[0m \u001b[0;34m=\u001b[0m \u001b[0mdfS_raw\u001b[0m\u001b[0;34m[\u001b[0m\u001b[0mstartup_sentence_bool\u001b[0m\u001b[0;34m]\u001b[0m\u001b[0;34m\u001b[0m\u001b[0m\n\u001b[0m",
      "\u001b[0;32m~/anaconda3/envs/insight_env/lib/python3.6/site-packages/pandas/core/frame.py\u001b[0m in \u001b[0;36m__getitem__\u001b[0;34m(self, key)\u001b[0m\n\u001b[1;32m   1956\u001b[0m         \u001b[0;32mif\u001b[0m \u001b[0misinstance\u001b[0m\u001b[0;34m(\u001b[0m\u001b[0mkey\u001b[0m\u001b[0;34m,\u001b[0m \u001b[0;34m(\u001b[0m\u001b[0mSeries\u001b[0m\u001b[0;34m,\u001b[0m \u001b[0mnp\u001b[0m\u001b[0;34m.\u001b[0m\u001b[0mndarray\u001b[0m\u001b[0;34m,\u001b[0m \u001b[0mIndex\u001b[0m\u001b[0;34m,\u001b[0m \u001b[0mlist\u001b[0m\u001b[0;34m)\u001b[0m\u001b[0;34m)\u001b[0m\u001b[0;34m:\u001b[0m\u001b[0;34m\u001b[0m\u001b[0m\n\u001b[1;32m   1957\u001b[0m             \u001b[0;31m# either boolean or fancy integer index\u001b[0m\u001b[0;34m\u001b[0m\u001b[0;34m\u001b[0m\u001b[0m\n\u001b[0;32m-> 1958\u001b[0;31m             \u001b[0;32mreturn\u001b[0m \u001b[0mself\u001b[0m\u001b[0;34m.\u001b[0m\u001b[0m_getitem_array\u001b[0m\u001b[0;34m(\u001b[0m\u001b[0mkey\u001b[0m\u001b[0;34m)\u001b[0m\u001b[0;34m\u001b[0m\u001b[0m\n\u001b[0m\u001b[1;32m   1959\u001b[0m         \u001b[0;32melif\u001b[0m \u001b[0misinstance\u001b[0m\u001b[0;34m(\u001b[0m\u001b[0mkey\u001b[0m\u001b[0;34m,\u001b[0m \u001b[0mDataFrame\u001b[0m\u001b[0;34m)\u001b[0m\u001b[0;34m:\u001b[0m\u001b[0;34m\u001b[0m\u001b[0m\n\u001b[1;32m   1960\u001b[0m             \u001b[0;32mreturn\u001b[0m \u001b[0mself\u001b[0m\u001b[0;34m.\u001b[0m\u001b[0m_getitem_frame\u001b[0m\u001b[0;34m(\u001b[0m\u001b[0mkey\u001b[0m\u001b[0;34m)\u001b[0m\u001b[0;34m\u001b[0m\u001b[0m\n",
      "\u001b[0;32m~/anaconda3/envs/insight_env/lib/python3.6/site-packages/pandas/core/frame.py\u001b[0m in \u001b[0;36m_getitem_array\u001b[0;34m(self, key)\u001b[0m\n\u001b[1;32m   1996\u001b[0m             \u001b[0;31m# check_bool_indexer will throw exception if Series key cannot\u001b[0m\u001b[0;34m\u001b[0m\u001b[0;34m\u001b[0m\u001b[0m\n\u001b[1;32m   1997\u001b[0m             \u001b[0;31m# be reindexed to match DataFrame rows\u001b[0m\u001b[0;34m\u001b[0m\u001b[0;34m\u001b[0m\u001b[0m\n\u001b[0;32m-> 1998\u001b[0;31m             \u001b[0mkey\u001b[0m \u001b[0;34m=\u001b[0m \u001b[0mcheck_bool_indexer\u001b[0m\u001b[0;34m(\u001b[0m\u001b[0mself\u001b[0m\u001b[0;34m.\u001b[0m\u001b[0mindex\u001b[0m\u001b[0;34m,\u001b[0m \u001b[0mkey\u001b[0m\u001b[0;34m)\u001b[0m\u001b[0;34m\u001b[0m\u001b[0m\n\u001b[0m\u001b[1;32m   1999\u001b[0m             \u001b[0mindexer\u001b[0m \u001b[0;34m=\u001b[0m \u001b[0mkey\u001b[0m\u001b[0;34m.\u001b[0m\u001b[0mnonzero\u001b[0m\u001b[0;34m(\u001b[0m\u001b[0;34m)\u001b[0m\u001b[0;34m[\u001b[0m\u001b[0;36m0\u001b[0m\u001b[0;34m]\u001b[0m\u001b[0;34m\u001b[0m\u001b[0m\n\u001b[1;32m   2000\u001b[0m             \u001b[0;32mreturn\u001b[0m \u001b[0mself\u001b[0m\u001b[0;34m.\u001b[0m\u001b[0mtake\u001b[0m\u001b[0;34m(\u001b[0m\u001b[0mindexer\u001b[0m\u001b[0;34m,\u001b[0m \u001b[0maxis\u001b[0m\u001b[0;34m=\u001b[0m\u001b[0;36m0\u001b[0m\u001b[0;34m,\u001b[0m \u001b[0mconvert\u001b[0m\u001b[0;34m=\u001b[0m\u001b[0;32mFalse\u001b[0m\u001b[0;34m)\u001b[0m\u001b[0;34m\u001b[0m\u001b[0m\n",
      "\u001b[0;32m~/anaconda3/envs/insight_env/lib/python3.6/site-packages/pandas/core/indexing.py\u001b[0m in \u001b[0;36mcheck_bool_indexer\u001b[0;34m(ax, key)\u001b[0m\n\u001b[1;32m   1937\u001b[0m         \u001b[0mmask\u001b[0m \u001b[0;34m=\u001b[0m \u001b[0misnull\u001b[0m\u001b[0;34m(\u001b[0m\u001b[0mresult\u001b[0m\u001b[0;34m.\u001b[0m\u001b[0m_values\u001b[0m\u001b[0;34m)\u001b[0m\u001b[0;34m\u001b[0m\u001b[0m\n\u001b[1;32m   1938\u001b[0m         \u001b[0;32mif\u001b[0m \u001b[0mmask\u001b[0m\u001b[0;34m.\u001b[0m\u001b[0many\u001b[0m\u001b[0;34m(\u001b[0m\u001b[0;34m)\u001b[0m\u001b[0;34m:\u001b[0m\u001b[0;34m\u001b[0m\u001b[0m\n\u001b[0;32m-> 1939\u001b[0;31m             raise IndexingError('Unalignable boolean Series provided as '\n\u001b[0m\u001b[1;32m   1940\u001b[0m                                 \u001b[0;34m'indexer (index of the boolean Series and of '\u001b[0m\u001b[0;34m\u001b[0m\u001b[0m\n\u001b[1;32m   1941\u001b[0m                                 'the indexed object do not match')\n",
      "\u001b[0;31mIndexingError\u001b[0m: Unalignable boolean Series provided as indexer (index of the boolean Series and of the indexed object do not match"
     ]
    }
   ],
   "source": [
    "dfRaw = pd.read_csv('d2v_array_nostem.csv',index_col='level_0')\n",
    "\n",
    "dfS_raw = pd.concat([dfS,dfRaw],axis=1)\n"
   ]
  },
  {
   "cell_type": "code",
   "execution_count": 19,
   "metadata": {
    "collapsed": true
   },
   "outputs": [],
   "source": [
    "dfS_raw = dfS_raw[startup_sentence_bool]\n"
   ]
  },
  {
   "cell_type": "code",
   "execution_count": 22,
   "metadata": {
    "collapsed": true
   },
   "outputs": [],
   "source": [
    "dfS_True = dfS_raw[dfS_raw.slabel==True]\n",
    "dfS_False = dfS_raw[dfS_raw.slabel==False]\n",
    "index_file = 'false_indices_startup_exactbal.pkl'"
   ]
  },
  {
   "cell_type": "code",
   "execution_count": 27,
   "metadata": {},
   "outputs": [
    {
     "name": "stdout",
     "output_type": "stream",
     "text": [
      "1.0\n",
      "0.572890025575\n"
     ]
    }
   ],
   "source": [
    "Ytrain4 = dfTrain_balanced['slabel'].astype('int')\n",
    "Xtrain4 = dfTrain_balanced[dfTrain_balanced.columns[5:]]\n",
    "Ytest4 = dfTest_balanced['slabel'].astype('int')\n",
    "Xtest4 = dfTest_balanced[dfTrain_balanced.columns[5:]]\n",
    "rfm4 = ensemble.RandomForestClassifier(n_estimators=500, class_weight=None)\n",
    "rfm4.fit(Xtrain4,Ytrain4)\n",
    "print(rfm4.score(Xtrain4,Ytrain4))\n",
    "print(rfm4.score(Xtest4,Ytest4))"
   ]
  },
  {
   "cell_type": "code",
   "execution_count": 29,
   "metadata": {},
   "outputs": [
    {
     "data": {
      "text/plain": [
       "<matplotlib.figure.Figure at 0x11d802278>"
      ]
     },
     "metadata": {},
     "output_type": "display_data"
    },
    {
     "data": {
      "image/png": "[encoded data removed]",
      "text/plain": [
       "<matplotlib.figure.Figure at 0x11269c9b0>"
      ]
     },
     "metadata": {},
     "output_type": "display_data"
    }
   ],
   "source": [
    "#rfm.predict_proba(Xtrain)\n",
    "test_predix4 = rfm4.predict_proba(Xtest4)[:,1]\n",
    "test_predix4 = pd.DataFrame(test_predix4,Ytest4,columns=['pred'])\n",
    "\n",
    "plt.figure();\n",
    "test_predix4.hist(by=test_predix4.index,bins=50)\n",
    "plt.show()"
   ]
  },
  {
   "cell_type": "code",
   "execution_count": 30,
   "metadata": {},
   "outputs": [
    {
     "data": {
      "image/png": "[encoded data removed]",
      "text/plain": [
       "<matplotlib.figure.Figure at 0x11d0612b0>"
      ]
     },
     "metadata": {},
     "output_type": "display_data"
    }
   ],
   "source": [
    "fpr, tpr, thresh = metrics.roc_curve(Ytest4, test_predix4)\n",
    "\n",
    "plt.figure();\n",
    "plt.plot(fpr,tpr)\n",
    "plt.show()"
   ]
  },
  {
   "cell_type": "markdown",
   "metadata": {},
   "source": [
    "<h3>Try with TSNE (startup only)</h3>"
   ]
  },
  {
   "cell_type": "code",
   "execution_count": 46,
   "metadata": {
    "collapsed": true
   },
   "outputs": [],
   "source": [
    "darray=dfS_raw[dfS_raw.columns[8:]].as_matrix()"
   ]
  },
  {
   "cell_type": "code",
   "execution_count": 45,
   "metadata": {},
   "outputs": [
    {
     "data": {
      "text/html": [
       "<div>\n",
       "<style>\n",
       "    .dataframe thead tr:only-child th {\n",
       "        text-align: right;\n",
       "    }\n",
       "\n",
       "    .dataframe thead th {\n",
       "        text-align: left;\n",
       "    }\n",
       "\n",
       "    .dataframe tbody tr th {\n",
       "        vertical-align: top;\n",
       "    }\n",
       "</style>\n",
       "<table border=\"1\" class=\"dataframe\">\n",
       "  <thead>\n",
       "    <tr style=\"text-align: right;\">\n",
       "      <th></th>\n",
       "      <th>alength</th>\n",
       "      <th>index</th>\n",
       "      <th>postid</th>\n",
       "      <th>sentence</th>\n",
       "      <th>slabel</th>\n",
       "      <th>sposition</th>\n",
       "      <th>swcount</th>\n",
       "      <th>stfidf</th>\n",
       "      <th>0</th>\n",
       "      <th>1</th>\n",
       "      <th>...</th>\n",
       "      <th>90</th>\n",
       "      <th>91</th>\n",
       "      <th>92</th>\n",
       "      <th>93</th>\n",
       "      <th>94</th>\n",
       "      <th>95</th>\n",
       "      <th>96</th>\n",
       "      <th>97</th>\n",
       "      <th>98</th>\n",
       "      <th>99</th>\n",
       "    </tr>\n",
       "    <tr>\n",
       "      <th>level_0</th>\n",
       "      <th></th>\n",
       "      <th></th>\n",
       "      <th></th>\n",
       "      <th></th>\n",
       "      <th></th>\n",
       "      <th></th>\n",
       "      <th></th>\n",
       "      <th></th>\n",
       "      <th></th>\n",
       "      <th></th>\n",
       "      <th></th>\n",
       "      <th></th>\n",
       "      <th></th>\n",
       "      <th></th>\n",
       "      <th></th>\n",
       "      <th></th>\n",
       "      <th></th>\n",
       "      <th></th>\n",
       "      <th></th>\n",
       "      <th></th>\n",
       "      <th></th>\n",
       "    </tr>\n",
       "  </thead>\n",
       "  <tbody>\n",
       "    <tr>\n",
       "      <th>52</th>\n",
       "      <td>65</td>\n",
       "      <td>0.0</td>\n",
       "      <td>101a407e8c61</td>\n",
       "      <td>{always,wanted,make}</td>\n",
       "      <td>False</td>\n",
       "      <td>0</td>\n",
       "      <td>3</td>\n",
       "      <td>0.510343</td>\n",
       "      <td>-0.003721</td>\n",
       "      <td>-0.009785</td>\n",
       "      <td>...</td>\n",
       "      <td>-0.002768</td>\n",
       "      <td>-0.021696</td>\n",
       "      <td>0.028166</td>\n",
       "      <td>-0.030878</td>\n",
       "      <td>-0.010796</td>\n",
       "      <td>-0.002297</td>\n",
       "      <td>0.014727</td>\n",
       "      <td>-0.016826</td>\n",
       "      <td>-0.004332</td>\n",
       "      <td>-0.003275</td>\n",
       "    </tr>\n",
       "    <tr>\n",
       "      <th>53</th>\n",
       "      <td>65</td>\n",
       "      <td>0.0</td>\n",
       "      <td>101a407e8c61</td>\n",
       "      <td>{grew,dreaming,rockstar,paradigm,made,tv,sell,...</td>\n",
       "      <td>False</td>\n",
       "      <td>1</td>\n",
       "      <td>14</td>\n",
       "      <td>0.226235</td>\n",
       "      <td>0.024078</td>\n",
       "      <td>0.037127</td>\n",
       "      <td>...</td>\n",
       "      <td>0.018528</td>\n",
       "      <td>0.030478</td>\n",
       "      <td>-0.044030</td>\n",
       "      <td>0.019345</td>\n",
       "      <td>0.014759</td>\n",
       "      <td>0.003156</td>\n",
       "      <td>0.018281</td>\n",
       "      <td>-0.016034</td>\n",
       "      <td>-0.011003</td>\n",
       "      <td>-0.049786</td>\n",
       "    </tr>\n",
       "    <tr>\n",
       "      <th>54</th>\n",
       "      <td>65</td>\n",
       "      <td>0.0</td>\n",
       "      <td>101a407e8c61</td>\n",
       "      <td>{paradigm,point,life,work,paid,happy}</td>\n",
       "      <td>False</td>\n",
       "      <td>2</td>\n",
       "      <td>6</td>\n",
       "      <td>0.315709</td>\n",
       "      <td>0.022598</td>\n",
       "      <td>-0.006505</td>\n",
       "      <td>...</td>\n",
       "      <td>-0.017323</td>\n",
       "      <td>0.035825</td>\n",
       "      <td>-0.011243</td>\n",
       "      <td>0.020857</td>\n",
       "      <td>0.011960</td>\n",
       "      <td>-0.015958</td>\n",
       "      <td>-0.013046</td>\n",
       "      <td>-0.008746</td>\n",
       "      <td>-0.002681</td>\n",
       "      <td>0.023449</td>\n",
       "    </tr>\n",
       "    <tr>\n",
       "      <th>55</th>\n",
       "      <td>65</td>\n",
       "      <td>0.0</td>\n",
       "      <td>101a407e8c61</td>\n",
       "      <td>{everything,changes,better}</td>\n",
       "      <td>False</td>\n",
       "      <td>3</td>\n",
       "      <td>3</td>\n",
       "      <td>0.572184</td>\n",
       "      <td>-0.010775</td>\n",
       "      <td>-0.017208</td>\n",
       "      <td>...</td>\n",
       "      <td>-0.002997</td>\n",
       "      <td>-0.010120</td>\n",
       "      <td>0.039833</td>\n",
       "      <td>-0.020336</td>\n",
       "      <td>-0.019558</td>\n",
       "      <td>-0.000531</td>\n",
       "      <td>0.019089</td>\n",
       "      <td>-0.026820</td>\n",
       "      <td>-0.016351</td>\n",
       "      <td>-0.010038</td>\n",
       "    </tr>\n",
       "    <tr>\n",
       "      <th>56</th>\n",
       "      <td>65</td>\n",
       "      <td>0.0</td>\n",
       "      <td>101a407e8c61</td>\n",
       "      <td>{know,idea,head,around,would,look,like,made}</td>\n",
       "      <td>False</td>\n",
       "      <td>4</td>\n",
       "      <td>8</td>\n",
       "      <td>0.307438</td>\n",
       "      <td>-0.013378</td>\n",
       "      <td>-0.004412</td>\n",
       "      <td>...</td>\n",
       "      <td>-0.000709</td>\n",
       "      <td>-0.000162</td>\n",
       "      <td>0.000908</td>\n",
       "      <td>-0.018234</td>\n",
       "      <td>-0.017911</td>\n",
       "      <td>-0.019289</td>\n",
       "      <td>0.006783</td>\n",
       "      <td>-0.013400</td>\n",
       "      <td>-0.004834</td>\n",
       "      <td>0.003892</td>\n",
       "    </tr>\n",
       "  </tbody>\n",
       "</table>\n",
       "<p>5 rows × 108 columns</p>\n",
       "</div>"
      ],
      "text/plain": [
       "         alength  index        postid  \\\n",
       "level_0                                 \n",
       "52            65    0.0  101a407e8c61   \n",
       "53            65    0.0  101a407e8c61   \n",
       "54            65    0.0  101a407e8c61   \n",
       "55            65    0.0  101a407e8c61   \n",
       "56            65    0.0  101a407e8c61   \n",
       "\n",
       "                                                  sentence  slabel  sposition  \\\n",
       "level_0                                                                         \n",
       "52                                    {always,wanted,make}   False          0   \n",
       "53       {grew,dreaming,rockstar,paradigm,made,tv,sell,...   False          1   \n",
       "54                   {paradigm,point,life,work,paid,happy}   False          2   \n",
       "55                             {everything,changes,better}   False          3   \n",
       "56            {know,idea,head,around,would,look,like,made}   False          4   \n",
       "\n",
       "         swcount    stfidf         0         1    ...           90        91  \\\n",
       "level_0                                           ...                          \n",
       "52             3  0.510343 -0.003721 -0.009785    ...    -0.002768 -0.021696   \n",
       "53            14  0.226235  0.024078  0.037127    ...     0.018528  0.030478   \n",
       "54             6  0.315709  0.022598 -0.006505    ...    -0.017323  0.035825   \n",
       "55             3  0.572184 -0.010775 -0.017208    ...    -0.002997 -0.010120   \n",
       "56             8  0.307438 -0.013378 -0.004412    ...    -0.000709 -0.000162   \n",
       "\n",
       "               92        93        94        95        96        97        98  \\\n",
       "level_0                                                                         \n",
       "52       0.028166 -0.030878 -0.010796 -0.002297  0.014727 -0.016826 -0.004332   \n",
       "53      -0.044030  0.019345  0.014759  0.003156  0.018281 -0.016034 -0.011003   \n",
       "54      -0.011243  0.020857  0.011960 -0.015958 -0.013046 -0.008746 -0.002681   \n",
       "55       0.039833 -0.020336 -0.019558 -0.000531  0.019089 -0.026820 -0.016351   \n",
       "56       0.000908 -0.018234 -0.017911 -0.019289  0.006783 -0.013400 -0.004834   \n",
       "\n",
       "               99  \n",
       "level_0            \n",
       "52      -0.003275  \n",
       "53      -0.049786  \n",
       "54       0.023449  \n",
       "55      -0.010038  \n",
       "56       0.003892  \n",
       "\n",
       "[5 rows x 108 columns]"
      ]
     },
     "execution_count": 45,
     "metadata": {},
     "output_type": "execute_result"
    }
   ],
   "source": [
    "dfS_raw.head()"
   ]
  },
  {
   "cell_type": "code",
   "execution_count": 47,
   "metadata": {},
   "outputs": [
    {
     "data": {
      "text/plain": [
       "array([-0.00372138, -0.00978515, -0.00652081, -0.02057526, -0.02817981,\n",
       "        0.00629414,  0.02538642,  0.00434038, -0.01108575, -0.01279977,\n",
       "        0.00551756,  0.01232911,  0.00350786, -0.00867054,  0.01439224,\n",
       "       -0.01386853, -0.01776338, -0.01505521,  0.00952422, -0.00608037,\n",
       "       -0.00048061, -0.01014359, -0.00888834,  0.00195773,  0.00217248,\n",
       "        0.01652461, -0.00287014,  0.01980701, -0.00151752,  0.00860268,\n",
       "       -0.01004052, -0.00252978, -0.03024075,  0.01159943, -0.02088038,\n",
       "        0.00978513, -0.00202053,  0.00026449, -0.0060395 , -0.00400633,\n",
       "       -0.00522781, -0.00091849,  0.00451551,  0.00525437,  0.00538595,\n",
       "        0.01557856, -0.0126168 , -0.00132267,  0.01916108,  0.01118506,\n",
       "        0.01523922, -0.0017252 ,  0.00842091,  0.00647271, -0.01439043,\n",
       "       -0.00486946, -0.00773212, -0.01042981, -0.00085558, -0.00700851,\n",
       "       -0.01631702,  0.0027728 ,  0.00370407, -0.00523719, -0.00244015,\n",
       "        0.00010649, -0.00450861, -0.0013554 , -0.00452084,  0.02215302,\n",
       "        0.01142826,  0.0037009 , -0.01389006, -0.00779294, -0.00271474,\n",
       "       -0.01314188, -0.0040597 , -0.01485467, -0.0035165 ,  0.00429454,\n",
       "       -0.00624369, -0.01947605, -0.00717672,  0.01221219, -0.00857375,\n",
       "       -0.01392711,  0.01241198,  0.00645327,  0.00216031, -0.00770106,\n",
       "       -0.00276827, -0.0216962 ,  0.02816644, -0.03087826, -0.01079567,\n",
       "       -0.00229724,  0.01472667, -0.01682625, -0.0043324 , -0.00327521])"
      ]
     },
     "execution_count": 47,
     "metadata": {},
     "output_type": "execute_result"
    }
   ],
   "source": [
    "darray[0]"
   ]
  },
  {
   "cell_type": "code",
   "execution_count": null,
   "metadata": {
    "collapsed": true
   },
   "outputs": [],
   "source": []
  }
 ],
 "metadata": {
  "kernelspec": {
   "display_name": "Python 3",
   "language": "python",
   "name": "python3"
  },
  "language_info": {
   "codemirror_mode": {
    "name": "ipython",
    "version": 3
   },
   "file_extension": ".py",
   "mimetype": "text/x-python",
   "name": "python",
   "nbconvert_exporter": "python",
   "pygments_lexer": "ipython3",
   "version": "3.6.1"
  }
 },
 "nbformat": 4,
 "nbformat_minor": 2
}
